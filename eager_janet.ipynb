{
 "cells": [
  {
   "cell_type": "code",
   "execution_count": 1,
   "metadata": {
    "scrolled": false
   },
   "outputs": [
    {
     "name": "stderr",
     "output_type": "stream",
     "text": [
      "d:\\users\\yue\\anaconda3\\lib\\site-packages\\h5py\\__init__.py:36: FutureWarning: Conversion of the second argument of issubdtype from `float` to `np.floating` is deprecated. In future, it will be treated as `np.float64 == np.dtype(float).type`.\n  from ._conv import register_converters as _register_converters\n"
     ]
    }
   ],
   "source": [
    "import numpy as np\n",
    "from collections import OrderedDict\n",
    "import tensorflow as tf\n",
    "from tensorflow.contrib.eager.python import tfe\n",
    "\n",
    "# This silent device placement will hurt performance on GPUs, but we are sticking to CPUs only so it\n",
    "# should be fine\n",
    "tf.enable_eager_execution()\n",
    "tf.set_random_seed(0)"
   ]
  },
  {
   "cell_type": "markdown",
   "metadata": {},
   "source": [
    "# Goal\n",
    "We are going to implement the JANet model from the paper [\"The unreasonable effectiveness of the forget gate\"](https://arxiv.org/abs/1804.04849) and try the addition experiment to see if it converges properly. \n",
    "\n",
    "This is not going to be a high performance model, nor will it probably match the performance of the paper. This is going to be a simple exercise in how easy it is to write down research models in Tensorflow Eager without all the baggage of Tensorflow graphs."
   ]
  },
  {
   "cell_type": "markdown",
   "metadata": {},
   "source": [
    "# Components we need\n",
    "For JANet, we need two components :\n",
    "\n",
    "1) Chrono Initializer from the paper [Can recurrent neural networks warp time? ](https://openreview.net/forum?id=SJcKhk-Ab)\n",
    "\n",
    "2) The RNN cell which will do most of the work\n",
    "\n",
    "Lets create the initializer first since it is simpler"
   ]
  },
  {
   "cell_type": "markdown",
   "metadata": {},
   "source": [
    "# Chrono Initializer\n",
    "In short, if we know the length of the sequence in the range $[T_{min}, T_{max}]$, then it would be beneficial to initialize the model with a forgetting time in the same range. Therefore, this would be equivalent to initialize the gate $g$ in the range $[\\frac{1}{T_{max}}, \\frac{1}{T_{min}}]$.\n",
    "\n",
    "If the values of both inputs and hidden layers are centered over time, $g(t)$ will typically take values centered around $\\sigma(b_g)$. To obtain values in the desired range above, the biases $b_g$ must be in the range $-log(T_{max} - 1)$ and $-log(T_{min} - 1)$.\n",
    "\n",
    "For the $t$th time step, the forget gate $f_t$ corresponds to $1 - g_t$, where as the input gate $i_t$ corresponds to $g_t$ in an LSTM RNN. Letting the minimum number of timesteps to be 1 and maximum to be $T_{max}$, the paper suggests initializing the forget gate and input gate as follows : \n",
    "\n",
    "\\begin{align}\n",
    "b_f &\\sim log(U([1, T_{max}]) - 1) \\\\\\\n",
    "b_i &= -b_f\n",
    "\\end{align}\n",
    "\n",
    "For a complete explanation of ChronoInitializer, refer to the above paper.\n"
   ]
  },
  {
   "cell_type": "code",
   "execution_count": 3,
   "metadata": {},
   "outputs": [],
   "source": [
    "if tfe.num_gpus() > 0:\n",
    "    _device = '/gpu:0'\n",
    "else:\n",
    "    _device = '/cpu:0'"
   ]
  },
  {
   "cell_type": "code",
   "execution_count": 4,
   "metadata": {},
   "outputs": [],
   "source": [
    "class ChronoInitializer(tf.keras.initializers.RandomUniform):\n",
    "    \"\"\"\n",
    "    Chrono Initializer from the paper :\n",
    "    [Can recurrent neural networks warp time?](https://openreview.net/forum?id=SJcKhk-Ab)\n",
    "    \"\"\"\n",
    "\n",
    "    def __init__(self, max_timesteps, seed=None):\n",
    "        super(ChronoInitializer, self).__init__(1., max_timesteps - 1, seed)\n",
    "        self.max_timesteps = max_timesteps\n",
    "\n",
    "    def __call__(self, shape, dtype=None, partition_info=None):\n",
    "        values = super(ChronoInitializer, self).__call__(shape, dtype=dtype, partition_info=partition_info)\n",
    "        return tf.log(values)\n",
    "\n",
    "    def get_config(self):\n",
    "        config = {\n",
    "            'max_timesteps': self.max_timesteps\n",
    "        }\n",
    "        base_config = super(ChronoInitializer, self).get_config()\n",
    "        return dict(list(base_config.items()) + list(config.items()))\n"
   ]
  },
  {
   "cell_type": "markdown",
   "metadata": {},
   "source": [
    "# RNN Cell\n",
    "\n",
    "The model described in the paper [\"The unreasonable effectiveness of the forget gate\"](https://arxiv.org/abs/1804.04849) is called JANet - a model where the forget $(g_f)$ gate alone is the one of two gates, alongside with the memory $(g_c)$ gate. It doesn't use the input $(g_i)$ and output $(g_o)$ gates."
   ]
  },
  {
   "cell_type": "code",
   "execution_count": 5,
   "metadata": {},
   "outputs": [],
   "source": [
    "\n",
    "class JANETModel(tf.keras.Model):\n",
    "\n",
    "    def __init__(self, units, num_outputs, num_timesteps, output_activation='sigmoid', **kwargs):\n",
    "        super(JANETModel, self).__init__(**kwargs)\n",
    "\n",
    "        self.units = units\n",
    "        self.classes = num_outputs\n",
    "        self.num_timesteps = num_timesteps\n",
    "\n",
    "        with tf.device(_device):\n",
    "            # Initialize the forget gate with ChronoInitializer\n",
    "            # The memory gate is initialized with zeros\n",
    "            def bias_initializer(_, *args, **kwargs):\n",
    "                forget_gate = ChronoInitializer(self.num_timesteps)((self.units,), *args, **kwargs)\n",
    "    \n",
    "                return tf.keras.backend.concatenate([\n",
    "                    forget_gate,\n",
    "                    tf.keras.initializers.Zeros()((self.units,), *args, **kwargs),\n",
    "                ])\n",
    "        \n",
    "            # Initialize the hidden and recurrent gates\n",
    "            self.kernel = tf.keras.layers.Dense(2 * units, use_bias=False,\n",
    "                                                kernel_initializer='glorot_uniform')\n",
    "            \n",
    "            self.recurrent_kernel = tf.keras.layers.Dense(2 * units,\n",
    "                                                          kernel_initializer='glorot_uniform',\n",
    "                                                          bias_initializer=bias_initializer)\n",
    "            \n",
    "            # Initialize the final layer (for classification or regression depending on the output activation)\n",
    "            self.output_dense = tf.keras.layers.Dense(num_outputs, activation=output_activation)\n",
    "        \n",
    "    \"\"\"\n",
    "    This is required to override a certain issue with how the weights of a model are loaded\n",
    "    by a checkpoint.\n",
    "    \n",
    "    While we could use `model.call(inputs)` directly, the more pythonic way of doing this is\n",
    "    by using `model(inputs)`.\n",
    "    \n",
    "    However, in Eager mode, the ordinary function call does *not* forward the method to the\n",
    "    models `call` method. This bypasses that issue.\n",
    "    \"\"\"\n",
    "    def __call__(self, *args, **kwargs):\n",
    "        if not tf.executing_eagerly():\n",
    "            super(JANETModel, self).__call__(*args, **kwargs)\n",
    "        return self.call(*args, **kwargs)\n",
    "\n",
    "    def call(self, inputs, training=None, mask=None):\n",
    "        # Initialize the hidden memory states\n",
    "        outputs = []\n",
    "        states = []\n",
    "        \n",
    "        with tf.device(_device):\n",
    "            h_state = tf.zeros((inputs.shape[0], self.units))\n",
    "            c_state = tf.zeros((inputs.shape[0], self.units))\n",
    "        \n",
    "            # Input is in the shape [None, timesteps, input_dim]\n",
    "            for t in range(inputs.shape[1]):\n",
    "                ip = inputs[:, t, :]  # access the T'th timestep\n",
    "                \n",
    "                # Perform the forward pass of the model\n",
    "                z = self.kernel(ip)\n",
    "                z += self.recurrent_kernel(h_state)\n",
    "    \n",
    "                # Split the output into the forget and memory outputs\n",
    "                z0 = z[:, :self.units]\n",
    "                z1 = z[:, self.units: 2 * self.units]\n",
    "    \n",
    "                # gate updates\n",
    "                f = tf.keras.activations.sigmoid(z0)\n",
    "                c = f * c_state + (1. - f) * tf.nn.tanh(z1)\n",
    "    \n",
    "                # state updates\n",
    "                h = c\n",
    "    \n",
    "                # update our previous state\n",
    "                h_state = h\n",
    "                c_state = c\n",
    "            \n",
    "                # preserve the history of our states\n",
    "                outputs.append(h)\n",
    "                states.append([h, c])  # here we maintain just 1 state variable, can be more\n",
    "                \n",
    "            # save memory states to global variables so we can access them later\n",
    "            # self.cell_outputs = tf.stack(outputs, axis=1)\n",
    "            # self.cell_states = states\n",
    "            \n",
    "            # perform forward pass of the classifier / regressor\n",
    "            preds = self.output_dense(outputs[-1])\n",
    "\n",
    "            return preds"
   ]
  },
  {
   "cell_type": "markdown",
   "metadata": {},
   "source": [
    "# Setup\n",
    "In Eager, if you use only tf.keras layers, then training is a lot simpler. You can simply call the .fit and .predict methods after compiling the models. This is what we will not do for the current model, even though we could, as it is important to explain the limitations of sticking to models with only Keras layers.\n",
    "\n",
    "We will declare some helper methods, along with the dataset loader. Since the addition task is simple enough, we will not be using the canonical way to load data - tf.data pipeline. For this dataset in which we generate synthetic data, the overhead of the tf.data pipeline is more than the benefit."
   ]
  },
  {
   "cell_type": "code",
   "execution_count": 6,
   "metadata": {},
   "outputs": [],
   "source": [
    "# we define some constants \n",
    "import os\n",
    "if not os.path.exists('weights'):\n",
    "    os.makedirs('weights/')\n",
    "\n",
    "# Parameters taken from https://arxiv.org/abs/1804.04849\n",
    "TIME_STEPS = 100\n",
    "NUM_UNITS = 128\n",
    "LEARNING_RATE = 0.001\n",
    "STEPS_PER_EPOCH = 100\n",
    "NUM_EPOCHS = 10\n",
    "BATCH_SIZE = 50\n",
    "\n",
    "CHECKPOINTS_DIR = 'checkpoints_addition/'\n",
    "CHECKPOINT_PATH = CHECKPOINTS_DIR + 'addition_janet.ckpt'\n"
   ]
  },
  {
   "cell_type": "markdown",
   "metadata": {},
   "source": [
    "# Addition Dataset Generator"
   ]
  },
  {
   "cell_type": "code",
   "execution_count": 7,
   "metadata": {},
   "outputs": [],
   "source": [
    "# Code reused from https://github.com/batzner/indrnn/blob/master/examples/addition_rnn.py\n",
    "# with some modifications to run on Tensorflow Eager mode\n",
    "\n",
    "\n",
    "def batch_generator():\n",
    "    while True:\n",
    "        \"\"\"Generate the adding problem dataset\"\"\"\n",
    "        # Build the first sequence\n",
    "        add_values = np.random.rand(BATCH_SIZE, TIME_STEPS)\n",
    "\n",
    "        # Build the second sequence with one 1 in each half and 0s otherwise\n",
    "        add_indices = np.zeros_like(add_values, dtype='float32')\n",
    "        half = int(TIME_STEPS / 2)\n",
    "        for i in range(BATCH_SIZE):\n",
    "            first_half = np.random.randint(half)\n",
    "            second_half = np.random.randint(half, TIME_STEPS)\n",
    "            add_indices[i, [first_half, second_half]] = 1.\n",
    "\n",
    "        # Zip the values and indices in a third dimension:\n",
    "        # inputs has the shape (batch_size, time_steps, 2)\n",
    "        inputs = np.dstack((add_values, add_indices))\n",
    "        targets = np.sum(np.multiply(add_values, add_indices), axis=1)\n",
    "        targets = np.expand_dims(targets, -1)\n",
    "\n",
    "        # center at zero mean\n",
    "        inputs -= np.mean(inputs, axis=0, keepdims=True)\n",
    "        \n",
    "        with tf.device(_device):\n",
    "            inputs = tf.constant(inputs, dtype=tf.float32)\n",
    "            targets = tf.constant(targets, dtype=tf.float32)\n",
    "\n",
    "        yield inputs, targets\n"
   ]
  },
  {
   "cell_type": "markdown",
   "metadata": {},
   "source": [
    "# Loss and Gradients\n",
    "The following functions simply compute the mean squared error, and compute the gradients of the model."
   ]
  },
  {
   "cell_type": "code",
   "execution_count": 10,
   "metadata": {},
   "outputs": [],
   "source": [
    "def loss(y_true, y_pred):\n",
    "    loss_val = tf.losses.mean_squared_error(y_true, y_pred)\n",
    "    return loss_val\n",
    "\n",
    "\n",
    "def grad(model, X, y):\n",
    "    with tf.device(_device):\n",
    "        with tf.GradientTape() as tape:\n",
    "            preds = model(X)\n",
    "            loss_val = loss(y, preds)\n",
    "        \n",
    "        vars = model.trainable_variables \n",
    "        grads = tape.gradient(loss_val, vars)\n",
    "        grad_vars = zip(grads, vars)\n",
    "\n",
    "        return grad_vars, loss_val"
   ]
  },
  {
   "cell_type": "markdown",
   "metadata": {},
   "source": [
    "# Training and Checkpointing"
   ]
  },
  {
   "cell_type": "code",
   "execution_count": 11,
   "metadata": {
    "collapsed": false
   },
   "outputs": [
    {
     "name": "stdout",
     "output_type": "stream",
     "text": [
      "Epoch # :  1\n"
     ]
    },
    {
     "name": "stdout",
     "output_type": "stream",
     "text": [
      "1 : 1.1188141\n2"
     ]
    },
    {
     "name": "stdout",
     "output_type": "stream",
     "text": [
      " : 1.1053392\n"
     ]
    },
    {
     "name": "stdout",
     "output_type": "stream",
     "text": [
      "3 : 0.9009053\n"
     ]
    },
    {
     "name": "stdout",
     "output_type": "stream",
     "text": [
      "4 : 1.1161244\n5 : 1.0700818\n"
     ]
    },
    {
     "name": "stdout",
     "output_type": "stream",
     "text": [
      "6 : 0.82126313\n7 : 0.7815001\n"
     ]
    },
    {
     "name": "stdout",
     "output_type": "stream",
     "text": [
      "8 : 0.93767184\n9"
     ]
    },
    {
     "name": "stdout",
     "output_type": "stream",
     "text": [
      " : 0.6171968\n"
     ]
    },
    {
     "name": "stdout",
     "output_type": "stream",
     "text": [
      "10 : 0.6336471\n11"
     ]
    },
    {
     "name": "stdout",
     "output_type": "stream",
     "text": [
      " : 0.68276215\n12"
     ]
    },
    {
     "name": "stdout",
     "output_type": "stream",
     "text": [
      " : 0.5196966\n"
     ]
    },
    {
     "name": "stdout",
     "output_type": "stream",
     "text": [
      "13 : 0.1681033\n14"
     ]
    },
    {
     "name": "stdout",
     "output_type": "stream",
     "text": [
      " : 0.12726423\n"
     ]
    },
    {
     "name": "stdout",
     "output_type": "stream",
     "text": [
      "15 : 0.2214904\n16"
     ]
    },
    {
     "name": "stdout",
     "output_type": "stream",
     "text": [
      " : 0.29865718\n"
     ]
    },
    {
     "name": "stdout",
     "output_type": "stream",
     "text": [
      "17 : 0.4361628\n18 : 0.22675452\n"
     ]
    },
    {
     "name": "stdout",
     "output_type": "stream",
     "text": [
      "19 : 0.17466734\n20 : 0.1495055\n"
     ]
    },
    {
     "name": "stdout",
     "output_type": "stream",
     "text": [
      "21 : 0.17072392\n22 : 0.1517909\n"
     ]
    },
    {
     "name": "stdout",
     "output_type": "stream",
     "text": [
      "23 : 0.2094894\n"
     ]
    },
    {
     "name": "stdout",
     "output_type": "stream",
     "text": [
      "24 : 0.2300389\n25"
     ]
    },
    {
     "name": "stdout",
     "output_type": "stream",
     "text": [
      " : 0.24441758\n26 : 0.21864437\n"
     ]
    },
    {
     "name": "stdout",
     "output_type": "stream",
     "text": [
      "27 : 0.2584821\n28 : 0.2034949\n"
     ]
    },
    {
     "name": "stdout",
     "output_type": "stream",
     "text": [
      "29 : 0.15950975\n30 "
     ]
    },
    {
     "name": "stdout",
     "output_type": "stream",
     "text": [
      ": 0.16307819\n31"
     ]
    },
    {
     "name": "stdout",
     "output_type": "stream",
     "text": [
      " : 0.21584205\n"
     ]
    },
    {
     "name": "stdout",
     "output_type": "stream",
     "text": [
      "32 : 0.14215395\n33"
     ]
    },
    {
     "name": "stdout",
     "output_type": "stream",
     "text": [
      " : 0.17636131\n34 : 0.18455967\n"
     ]
    },
    {
     "name": "stdout",
     "output_type": "stream",
     "text": [
      "35 : 0.18206955\n36 : 0.20600158\n"
     ]
    },
    {
     "name": "stdout",
     "output_type": "stream",
     "text": [
      "37 : 0.20595485\n38 : 0.19049877\n"
     ]
    },
    {
     "name": "stdout",
     "output_type": "stream",
     "text": [
      "39 : 0.136139\n40 : 0.19405098\n"
     ]
    },
    {
     "name": "stdout",
     "output_type": "stream",
     "text": [
      "41 : 0.12773247\n42 : 0.15127034\n"
     ]
    },
    {
     "name": "stdout",
     "output_type": "stream",
     "text": [
      "43 : 0.19944462\n44 : 0.12742\n"
     ]
    },
    {
     "name": "stdout",
     "output_type": "stream",
     "text": [
      "45 : 0.17381124\n"
     ]
    },
    {
     "name": "stdout",
     "output_type": "stream",
     "text": [
      "46 : 0.1950851\n47 : 0.17829685\n"
     ]
    },
    {
     "name": "stdout",
     "output_type": "stream",
     "text": [
      "48 : 0.17809021\n49 : 0.18407467\n"
     ]
    },
    {
     "name": "stdout",
     "output_type": "stream",
     "text": [
      "50 : 0.16383244\n51 : 0.11777523\n"
     ]
    },
    {
     "name": "stdout",
     "output_type": "stream",
     "text": [
      "52 : 0.1233572\n53 : 0.12319808\n"
     ]
    },
    {
     "name": "stdout",
     "output_type": "stream",
     "text": [
      "54 : 0.13978454\n55 : 0.14593719\n"
     ]
    },
    {
     "name": "stdout",
     "output_type": "stream",
     "text": [
      "56 : 0.16525537\n57 : 0.1548312\n"
     ]
    },
    {
     "name": "stdout",
     "output_type": "stream",
     "text": [
      "58 : 0.21227375\n59 : 0.14342192\n"
     ]
    },
    {
     "name": "stdout",
     "output_type": "stream",
     "text": [
      "60 : 0.16915643\n"
     ]
    },
    {
     "name": "stdout",
     "output_type": "stream",
     "text": [
      "61 : 0.13167062\n62 : 0.14226417\n"
     ]
    },
    {
     "name": "stdout",
     "output_type": "stream",
     "text": [
      "63 : 0.15063055\n64 : 0.15438855\n"
     ]
    },
    {
     "name": "stdout",
     "output_type": "stream",
     "text": [
      "65 : 0.19598778\n66 : 0.15691257\n"
     ]
    },
    {
     "name": "stdout",
     "output_type": "stream",
     "text": [
      "67 : 0.17505005\n"
     ]
    },
    {
     "name": "stdout",
     "output_type": "stream",
     "text": [
      "68 : 0.1782729\n69 : 0.14383686\n"
     ]
    },
    {
     "name": "stdout",
     "output_type": "stream",
     "text": [
      "70 : 0.17209354\n71 : 0.16863064\n"
     ]
    },
    {
     "name": "stdout",
     "output_type": "stream",
     "text": [
      "72 : 0.16638924\n73 : 0.14048448\n"
     ]
    },
    {
     "name": "stdout",
     "output_type": "stream",
     "text": [
      "74 : 0.15568918\n"
     ]
    },
    {
     "name": "stdout",
     "output_type": "stream",
     "text": [
      "75 : 0.18840824\n76 : 0.1316824\n"
     ]
    },
    {
     "name": "stdout",
     "output_type": "stream",
     "text": [
      "77 : 0.16721576\n78 : 0.15596344\n"
     ]
    },
    {
     "name": "stdout",
     "output_type": "stream",
     "text": [
      "79 : 0.13089915\n80 : 0.15697776\n"
     ]
    },
    {
     "name": "stdout",
     "output_type": "stream",
     "text": [
      "81 : 0.14860961\n82 : 0.13459605\n"
     ]
    },
    {
     "name": "stdout",
     "output_type": "stream",
     "text": [
      "83 : 0.16002172\n84 : 0.15553154\n"
     ]
    },
    {
     "name": "stdout",
     "output_type": "stream",
     "text": [
      "85 : 0.18445194\n86 : 0.10125065\n"
     ]
    },
    {
     "name": "stdout",
     "output_type": "stream",
     "text": [
      "87 : 0.18422565\n88 : 0.16775751\n"
     ]
    },
    {
     "name": "stdout",
     "output_type": "stream",
     "text": [
      "89 : 0.19610596\n"
     ]
    },
    {
     "name": "stdout",
     "output_type": "stream",
     "text": [
      "90 : 0.14899889\n91 : 0.19756183\n"
     ]
    },
    {
     "name": "stdout",
     "output_type": "stream",
     "text": [
      "92 : 0.14915669\n93 : 0.12939891\n"
     ]
    },
    {
     "name": "stdout",
     "output_type": "stream",
     "text": [
      "94 : 0.2347307\n95 : 0.12977237\n"
     ]
    },
    {
     "name": "stdout",
     "output_type": "stream",
     "text": [
      "96 : 0.18455797\n"
     ]
    },
    {
     "name": "stdout",
     "output_type": "stream",
     "text": [
      "97 : 0.22728103\n98 : 0.11687275\n"
     ]
    },
    {
     "name": "stdout",
     "output_type": "stream",
     "text": [
      "99 : 0.12800743\n100 : 0.1775693\n\n"
     ]
    },
    {
     "name": "stdout",
     "output_type": "stream",
     "text": [
      "Saving weights\n\nEpoch # :  2\n101 : 0.14646405\n"
     ]
    },
    {
     "name": "stdout",
     "output_type": "stream",
     "text": [
      "102 : 0.18634735\n103 : 0.14319384\n"
     ]
    },
    {
     "name": "stdout",
     "output_type": "stream",
     "text": [
      "104 : 0.17631482\n105 : 0.18130104\n"
     ]
    },
    {
     "name": "stdout",
     "output_type": "stream",
     "text": [
      "106 : 0.17385587\n107 : 0.19968331\n"
     ]
    },
    {
     "name": "stdout",
     "output_type": "stream",
     "text": [
      "108 : 0.17605093\n109 : 0.19487213\n"
     ]
    },
    {
     "name": "stdout",
     "output_type": "stream",
     "text": [
      "110 : 0.17150109\n111 : 0.22599792\n"
     ]
    },
    {
     "name": "stdout",
     "output_type": "stream",
     "text": [
      "112 : 0.16997802\n113 : 0.21348777\n"
     ]
    },
    {
     "name": "stdout",
     "output_type": "stream",
     "text": [
      "114 : 0.18471275\n115 : 0.19805232\n"
     ]
    },
    {
     "name": "stdout",
     "output_type": "stream",
     "text": [
      "116 : 0.18562959\n117 : 0.18981636\n"
     ]
    },
    {
     "name": "stdout",
     "output_type": "stream",
     "text": [
      "118 : 0.17858984\n"
     ]
    },
    {
     "name": "stdout",
     "output_type": "stream",
     "text": [
      "119 : 0.13446176\n120 : 0.17456244\n"
     ]
    },
    {
     "name": "stdout",
     "output_type": "stream",
     "text": [
      "121 : 0.17131117\n122 : 0.13569932\n"
     ]
    },
    {
     "name": "stdout",
     "output_type": "stream",
     "text": [
      "123 : 0.13584216\n124 : 0.18060298\n"
     ]
    },
    {
     "name": "stdout",
     "output_type": "stream",
     "text": [
      "125 : 0.16314815\n"
     ]
    },
    {
     "name": "stdout",
     "output_type": "stream",
     "text": [
      "126 : 0.13670366\n127 : 0.114315376\n"
     ]
    },
    {
     "name": "stdout",
     "output_type": "stream",
     "text": [
      "128 : 0.20891204\n129 : 0.12864296\n"
     ]
    },
    {
     "name": "stdout",
     "output_type": "stream",
     "text": [
      "130 : 0.17090653\n131 : 0.13038878\n"
     ]
    },
    {
     "name": "stdout",
     "output_type": "stream",
     "text": [
      "132 : 0.15432307\n"
     ]
    },
    {
     "name": "stdout",
     "output_type": "stream",
     "text": [
      "133 : 0.12605512\n134 : 0.18368183\n"
     ]
    },
    {
     "name": "stdout",
     "output_type": "stream",
     "text": [
      "135 : 0.24230053\n136 : 0.18831833\n"
     ]
    },
    {
     "name": "stdout",
     "output_type": "stream",
     "text": [
      "137 : 0.13373217\n138 : 0.17307648\n"
     ]
    },
    {
     "name": "stdout",
     "output_type": "stream",
     "text": [
      "139 : 0.213521\n140 : 0.2372538\n"
     ]
    },
    {
     "name": "stdout",
     "output_type": "stream",
     "text": [
      "141 : 0.10684699\n142 : 0.15080947\n"
     ]
    },
    {
     "name": "stdout",
     "output_type": "stream",
     "text": [
      "143 : 0.15351726\n144 : 0.15924993\n"
     ]
    },
    {
     "name": "stdout",
     "output_type": "stream",
     "text": [
      "145 : 0.16486399\n146 : 0.15230834\n"
     ]
    },
    {
     "name": "stdout",
     "output_type": "stream",
     "text": [
      "147 : 0.13843906\n"
     ]
    },
    {
     "name": "stdout",
     "output_type": "stream",
     "text": [
      "148 : 0.17387325\n149 : 0.122814424\n"
     ]
    },
    {
     "name": "stdout",
     "output_type": "stream",
     "text": [
      "150 : 0.22421326\n151 : 0.18921167\n"
     ]
    },
    {
     "name": "stdout",
     "output_type": "stream",
     "text": [
      "152 : 0.13809751\n153 : 0.1538135\n"
     ]
    },
    {
     "name": "stdout",
     "output_type": "stream",
     "text": [
      "154 : 0.1933463\n"
     ]
    },
    {
     "name": "stdout",
     "output_type": "stream",
     "text": [
      "155 : 0.13770632\n156 : 0.15646978\n"
     ]
    },
    {
     "name": "stdout",
     "output_type": "stream",
     "text": [
      "157 : 0.16120258\n158 : 0.23483951\n"
     ]
    },
    {
     "name": "stdout",
     "output_type": "stream",
     "text": [
      "159 : 0.13778372\n160 : 0.20073076\n"
     ]
    },
    {
     "name": "stdout",
     "output_type": "stream",
     "text": [
      "161 : 0.17531906\n"
     ]
    },
    {
     "name": "stdout",
     "output_type": "stream",
     "text": [
      "162 : 0.17986459\n163 : 0.17604972\n"
     ]
    },
    {
     "name": "stdout",
     "output_type": "stream",
     "text": [
      "164 : 0.15181492\n165 : 0.16108745\n"
     ]
    },
    {
     "name": "stdout",
     "output_type": "stream",
     "text": [
      "166 : 0.11747852\n167 : 0.17626792\n"
     ]
    },
    {
     "name": "stdout",
     "output_type": "stream",
     "text": [
      "168 : 0.15215516\n169 : 0.10975463\n"
     ]
    },
    {
     "name": "stdout",
     "output_type": "stream",
     "text": [
      "170 : 0.17797905\n171 : 0.15226975\n"
     ]
    },
    {
     "name": "stdout",
     "output_type": "stream",
     "text": [
      "172 : 0.1928652\n173 : 0.1512611\n"
     ]
    },
    {
     "name": "stdout",
     "output_type": "stream",
     "text": [
      "174 : 0.12028289\n175 : 0.17203006\n"
     ]
    },
    {
     "name": "stdout",
     "output_type": "stream",
     "text": [
      "176 : 0.17697829\n"
     ]
    },
    {
     "name": "stdout",
     "output_type": "stream",
     "text": [
      "177 : 0.13896601\n178 : 0.20453213\n"
     ]
    },
    {
     "name": "stdout",
     "output_type": "stream",
     "text": [
      "179 : 0.21021347\n180 : 0.11236323\n"
     ]
    },
    {
     "name": "stdout",
     "output_type": "stream",
     "text": [
      "181 : 0.15217459\n182 : 0.14937747\n"
     ]
    },
    {
     "name": "stdout",
     "output_type": "stream",
     "text": [
      "183 : 0.13134909\n"
     ]
    },
    {
     "name": "stdout",
     "output_type": "stream",
     "text": [
      "184 : 0.15304126\n185"
     ]
    },
    {
     "name": "stdout",
     "output_type": "stream",
     "text": [
      " : 0.20104606\n"
     ]
    },
    {
     "name": "stdout",
     "output_type": "stream",
     "text": [
      "186 : 0.14606321\n"
     ]
    },
    {
     "name": "stdout",
     "output_type": "stream",
     "text": [
      "187 : 0.15703817\n"
     ]
    },
    {
     "name": "stdout",
     "output_type": "stream",
     "text": [
      "188 : 0.14868498\n189 : 0.15841354\n"
     ]
    },
    {
     "name": "stdout",
     "output_type": "stream",
     "text": [
      "190 : 0.16579074\n"
     ]
    },
    {
     "name": "stdout",
     "output_type": "stream",
     "text": [
      "191 : 0.1904599\n192 : 0.17189613\n"
     ]
    },
    {
     "name": "stdout",
     "output_type": "stream",
     "text": [
      "193 : 0.2255878\n194 : 0.15476838\n"
     ]
    },
    {
     "name": "stdout",
     "output_type": "stream",
     "text": [
      "195 : 0.13381241\n196 : 0.2438916\n"
     ]
    },
    {
     "name": "stdout",
     "output_type": "stream",
     "text": [
      "197 : 0.11051529\n198 : 0.17751282\n"
     ]
    },
    {
     "name": "stdout",
     "output_type": "stream",
     "text": [
      "199 : 0.17600983\n200 : 0.119448036\n\n"
     ]
    },
    {
     "name": "stdout",
     "output_type": "stream",
     "text": [
      "Saving weights\n\nEpoch # :  3\n"
     ]
    },
    {
     "name": "stdout",
     "output_type": "stream",
     "text": [
      "201 : 0.18032919\n202 : 0.13651058\n"
     ]
    },
    {
     "name": "stdout",
     "output_type": "stream",
     "text": [
      "203 : 0.16280335\n204 : 0.2144526\n"
     ]
    },
    {
     "name": "stdout",
     "output_type": "stream",
     "text": [
      "205 : 0.18113987\n"
     ]
    },
    {
     "name": "stdout",
     "output_type": "stream",
     "text": [
      "206 : 0.14443007\n207 : 0.1589806\n"
     ]
    },
    {
     "name": "stdout",
     "output_type": "stream",
     "text": [
      "208 : 0.17661524\n209 : 0.16874257\n"
     ]
    },
    {
     "name": "stdout",
     "output_type": "stream",
     "text": [
      "210 : 0.19585934\n211 : 0.14710894\n"
     ]
    },
    {
     "name": "stdout",
     "output_type": "stream",
     "text": [
      "212 : 0.1570547\n"
     ]
    },
    {
     "name": "stdout",
     "output_type": "stream",
     "text": [
      "213 : 0.18084022\n214"
     ]
    },
    {
     "name": "stdout",
     "output_type": "stream",
     "text": [
      " : 0.19244713\n215 : 0.16186064\n"
     ]
    },
    {
     "name": "stdout",
     "output_type": "stream",
     "text": [
      "216 : 0.13072695\n217 : 0.17451519\n"
     ]
    },
    {
     "name": "stdout",
     "output_type": "stream",
     "text": [
      "218 : 0.20876797\n219 : 0.19752194\n"
     ]
    },
    {
     "name": "stdout",
     "output_type": "stream",
     "text": [
      "220 : 0.13259886\n221 : 0.1687526\n"
     ]
    },
    {
     "name": "stdout",
     "output_type": "stream",
     "text": [
      "222 : 0.2673183\n223 : 0.1402331\n"
     ]
    },
    {
     "name": "stdout",
     "output_type": "stream",
     "text": [
      "224 : 0.13232096\n225 : 0.17375068\n"
     ]
    },
    {
     "name": "stdout",
     "output_type": "stream",
     "text": [
      "226 : 0.18126026\n227 : 0.17945255\n"
     ]
    },
    {
     "name": "stdout",
     "output_type": "stream",
     "text": [
      "228 : 0.14605981\n229 : 0.16710773\n"
     ]
    },
    {
     "name": "stdout",
     "output_type": "stream",
     "text": [
      "230 : 0.20706083\n231 : 0.21761541\n"
     ]
    },
    {
     "name": "stdout",
     "output_type": "stream",
     "text": [
      "232 : 0.19422191\n233 : 0.169862\n"
     ]
    },
    {
     "name": "stdout",
     "output_type": "stream",
     "text": [
      "234 : 0.16494197\n"
     ]
    },
    {
     "name": "stdout",
     "output_type": "stream",
     "text": [
      "235 : 0.15710366\n236 : 0.2223611\n"
     ]
    },
    {
     "name": "stdout",
     "output_type": "stream",
     "text": [
      "237 : 0.16056618\n238 : 0.16872948\n"
     ]
    },
    {
     "name": "stdout",
     "output_type": "stream",
     "text": [
      "239 : 0.14855868\n240 : 0.13533463\n"
     ]
    },
    {
     "name": "stdout",
     "output_type": "stream",
     "text": [
      "241 : 0.17342034\n"
     ]
    },
    {
     "name": "stdout",
     "output_type": "stream",
     "text": [
      "242 : 0.16423258\n243 : 0.15506744\n"
     ]
    },
    {
     "name": "stdout",
     "output_type": "stream",
     "text": [
      "244 : 0.17353557\n245 : 0.10377108\n"
     ]
    },
    {
     "name": "stdout",
     "output_type": "stream",
     "text": [
      "246 : 0.18302193\n247 : 0.19167057\n"
     ]
    },
    {
     "name": "stdout",
     "output_type": "stream",
     "text": [
      "248 : 0.15541199\n"
     ]
    },
    {
     "name": "stdout",
     "output_type": "stream",
     "text": [
      "249 : 0.18348074\n250 : 0.16810879\n"
     ]
    },
    {
     "name": "stdout",
     "output_type": "stream",
     "text": [
      "251 : 0.19937943\n252 : 0.19527526\n"
     ]
    },
    {
     "name": "stdout",
     "output_type": "stream",
     "text": [
      "253 : 0.13957593\n254 : 0.13387133\n"
     ]
    },
    {
     "name": "stdout",
     "output_type": "stream",
     "text": [
      "255 : 0.16591336\n256 : 0.12027773\n"
     ]
    },
    {
     "name": "stdout",
     "output_type": "stream",
     "text": [
      "257 : 0.1297129\n258 : 0.14126657\n"
     ]
    },
    {
     "name": "stdout",
     "output_type": "stream",
     "text": [
      "259 : 0.15019198\n260 : 0.21186244\n"
     ]
    },
    {
     "name": "stdout",
     "output_type": "stream",
     "text": [
      "261 : 0.12914357\n262 : 0.22522686\n"
     ]
    },
    {
     "name": "stdout",
     "output_type": "stream",
     "text": [
      "263 : 0.1278254\n"
     ]
    },
    {
     "name": "stdout",
     "output_type": "stream",
     "text": [
      "264 : 0.12749593\n265 : 0.22700441\n"
     ]
    },
    {
     "name": "stdout",
     "output_type": "stream",
     "text": [
      "266 : 0.19858406\n267 : 0.13214535\n"
     ]
    },
    {
     "name": "stdout",
     "output_type": "stream",
     "text": [
      "268 : 0.16427174\n269 : 0.16825241\n"
     ]
    },
    {
     "name": "stdout",
     "output_type": "stream",
     "text": [
      "270 : 0.1768591\n"
     ]
    },
    {
     "name": "stdout",
     "output_type": "stream",
     "text": [
      "271 : 0.173127\n272 : 0.15644467\n"
     ]
    },
    {
     "name": "stdout",
     "output_type": "stream",
     "text": [
      "273 : 0.14413734\n274 : 0.18068188\n"
     ]
    },
    {
     "name": "stdout",
     "output_type": "stream",
     "text": [
      "275 : 0.15469185\n276 : 0.18137352\n"
     ]
    },
    {
     "name": "stdout",
     "output_type": "stream",
     "text": [
      "277 : 0.19569968\n"
     ]
    },
    {
     "name": "stdout",
     "output_type": "stream",
     "text": [
      "278 : 0.15971999\n279 : 0.16203097\n"
     ]
    },
    {
     "name": "stdout",
     "output_type": "stream",
     "text": [
      "280 : 0.20546404\n281 : 0.16475174\n"
     ]
    },
    {
     "name": "stdout",
     "output_type": "stream",
     "text": [
      "282 : 0.116033755\n283 : 0.14655475\n"
     ]
    },
    {
     "name": "stdout",
     "output_type": "stream",
     "text": [
      "284 : 0.15218553\n285 : 0.1284264\n"
     ]
    },
    {
     "name": "stdout",
     "output_type": "stream",
     "text": [
      "286 : 0.17118484\n287 : 0.1646817\n"
     ]
    },
    {
     "name": "stdout",
     "output_type": "stream",
     "text": [
      "288 : 0.15563826\n289 : 0.14065474\n"
     ]
    },
    {
     "name": "stdout",
     "output_type": "stream",
     "text": [
      "290 : 0.20314723\n291 : 0.12915081\n"
     ]
    },
    {
     "name": "stdout",
     "output_type": "stream",
     "text": [
      "292 : 0.14615166\n"
     ]
    },
    {
     "name": "stdout",
     "output_type": "stream",
     "text": [
      "293 : 0.13391985\n294 : 0.1714226\n"
     ]
    },
    {
     "name": "stdout",
     "output_type": "stream",
     "text": [
      "295 : 0.14953405\n296 : 0.14098203\n"
     ]
    },
    {
     "name": "stdout",
     "output_type": "stream",
     "text": [
      "297 : 0.14984307\n298 : 0.18876497\n"
     ]
    },
    {
     "name": "stdout",
     "output_type": "stream",
     "text": [
      "299 : 0.13569838\n"
     ]
    },
    {
     "name": "stdout",
     "output_type": "stream",
     "text": [
      "300 : 0.2141011\n\n"
     ]
    },
    {
     "name": "stdout",
     "output_type": "stream",
     "text": [
      "Saving weights\n\nEpoch # :  4\n301 : 0.13127019\n"
     ]
    },
    {
     "name": "stdout",
     "output_type": "stream",
     "text": [
      "302 : 0.15046754\n303 : 0.14578205\n"
     ]
    },
    {
     "name": "stdout",
     "output_type": "stream",
     "text": [
      "304 : 0.13398308\n305 : 0.11453319\n"
     ]
    },
    {
     "name": "stdout",
     "output_type": "stream",
     "text": [
      "306 : 0.16000012\n"
     ]
    },
    {
     "name": "stdout",
     "output_type": "stream",
     "text": [
      "307 : 0.13245168\n"
     ]
    },
    {
     "name": "stdout",
     "output_type": "stream",
     "text": [
      "308 : 0.18507949\n309"
     ]
    },
    {
     "name": "stdout",
     "output_type": "stream",
     "text": [
      " : 0.16150017\n310 : 0.21929428\n"
     ]
    },
    {
     "name": "stdout",
     "output_type": "stream",
     "text": [
      "311 : 0.14658818\n"
     ]
    },
    {
     "name": "stdout",
     "output_type": "stream",
     "text": [
      "312 : 0.18525648\n"
     ]
    },
    {
     "name": "stdout",
     "output_type": "stream",
     "text": [
      "313 : 0.15335926\n"
     ]
    },
    {
     "name": "stdout",
     "output_type": "stream",
     "text": [
      "314 : 0.19219577\n"
     ]
    },
    {
     "name": "stdout",
     "output_type": "stream",
     "text": [
      "315 : 0.19674991\n"
     ]
    },
    {
     "name": "stdout",
     "output_type": "stream",
     "text": [
      "316 : 0.16196033\n"
     ]
    },
    {
     "name": "stdout",
     "output_type": "stream",
     "text": [
      "317 : 0.128683\n"
     ]
    },
    {
     "name": "stdout",
     "output_type": "stream",
     "text": [
      "318 : 0.1256811\n"
     ]
    },
    {
     "name": "stdout",
     "output_type": "stream",
     "text": [
      "319 : 0.20079441\n"
     ]
    },
    {
     "name": "stdout",
     "output_type": "stream",
     "text": [
      "320 : 0.14251643\n"
     ]
    },
    {
     "name": "stdout",
     "output_type": "stream",
     "text": [
      "321 : 0.18222298\n"
     ]
    },
    {
     "name": "stdout",
     "output_type": "stream",
     "text": [
      "322 : 0.09552649\n"
     ]
    },
    {
     "name": "stdout",
     "output_type": "stream",
     "text": [
      "323 : 0.14621833\n324 : 0.11910327\n"
     ]
    },
    {
     "name": "stdout",
     "output_type": "stream",
     "text": [
      "325 : 0.1776472\n326 : "
     ]
    },
    {
     "name": "stdout",
     "output_type": "stream",
     "text": [
      "0.2221587\n327 : 0.15683353\n"
     ]
    },
    {
     "name": "stdout",
     "output_type": "stream",
     "text": [
      "328 : 0.17034489\n"
     ]
    },
    {
     "name": "stdout",
     "output_type": "stream",
     "text": [
      "329 : 0.18164606\n"
     ]
    },
    {
     "name": "stdout",
     "output_type": "stream",
     "text": [
      "330 : 0.14773262\n"
     ]
    },
    {
     "name": "stdout",
     "output_type": "stream",
     "text": [
      "331 : 0.18093294\n332"
     ]
    },
    {
     "name": "stdout",
     "output_type": "stream",
     "text": [
      " : 0.23609175\n333"
     ]
    },
    {
     "name": "stdout",
     "output_type": "stream",
     "text": [
      " : 0.1456238\n334"
     ]
    },
    {
     "name": "stdout",
     "output_type": "stream",
     "text": [
      " : 0.15503371\n335 : 0.11933917\n"
     ]
    },
    {
     "name": "stdout",
     "output_type": "stream",
     "text": [
      "336 : 0.17207457\n337"
     ]
    },
    {
     "name": "stdout",
     "output_type": "stream",
     "text": [
      " : 0.18616602\n"
     ]
    },
    {
     "name": "stdout",
     "output_type": "stream",
     "text": [
      "338 : 0.18820387\n339"
     ]
    },
    {
     "name": "stdout",
     "output_type": "stream",
     "text": [
      " : 0.16501272\n340"
     ]
    },
    {
     "name": "stdout",
     "output_type": "stream",
     "text": [
      " : 0.14918731\n"
     ]
    },
    {
     "name": "stdout",
     "output_type": "stream",
     "text": [
      "341 : 0.160447\n342 : 0.13139369\n"
     ]
    },
    {
     "name": "stdout",
     "output_type": "stream",
     "text": [
      "343 : 0.1984878\n"
     ]
    },
    {
     "name": "stdout",
     "output_type": "stream",
     "text": [
      "344 : 0.121750325\n345 : 0.12621002\n"
     ]
    },
    {
     "name": "stdout",
     "output_type": "stream",
     "text": [
      "346 : 0.118109554\n347"
     ]
    },
    {
     "name": "stdout",
     "output_type": "stream",
     "text": [
      " : 0.10711979\n"
     ]
    },
    {
     "name": "stdout",
     "output_type": "stream",
     "text": [
      "348 : 0.14237763\n349"
     ]
    },
    {
     "name": "stdout",
     "output_type": "stream",
     "text": [
      " : 0.20864365\n350"
     ]
    },
    {
     "name": "stdout",
     "output_type": "stream",
     "text": [
      " : 0.17017262\n"
     ]
    },
    {
     "name": "stdout",
     "output_type": "stream",
     "text": [
      "351 : 0.16984701\n352 : 0.13739233\n"
     ]
    },
    {
     "name": "stdout",
     "output_type": "stream",
     "text": [
      "353 : 0.17951593\n354 : 0.13427126\n"
     ]
    },
    {
     "name": "stdout",
     "output_type": "stream",
     "text": [
      "355 : 0.15454838\n"
     ]
    },
    {
     "name": "stdout",
     "output_type": "stream",
     "text": [
      "356 : 0.11914009\n357 : 0.16071655"
     ]
    },
    {
     "name": "stdout",
     "output_type": "stream",
     "text": [
      "\n358 : 0.17816898\n"
     ]
    },
    {
     "name": "stdout",
     "output_type": "stream",
     "text": [
      "359 : 0.1800602\n"
     ]
    },
    {
     "name": "stdout",
     "output_type": "stream",
     "text": [
      "360 : 0.16956212\n361 : 0.14002255\n"
     ]
    },
    {
     "name": "stdout",
     "output_type": "stream",
     "text": [
      "362 : 0.12859935\n363 : 0.13004792\n"
     ]
    },
    {
     "name": "stdout",
     "output_type": "stream",
     "text": [
      "364 : 0.15525913\n"
     ]
    },
    {
     "name": "stdout",
     "output_type": "stream",
     "text": [
      "365 : 0.14558473\n366 : 0.121426985\n"
     ]
    },
    {
     "name": "stdout",
     "output_type": "stream",
     "text": [
      "367 : 0.10100176\n368"
     ]
    },
    {
     "name": "stdout",
     "output_type": "stream",
     "text": [
      " : 0.17304476\n"
     ]
    },
    {
     "name": "stdout",
     "output_type": "stream",
     "text": [
      "369 : 0.19113848\n"
     ]
    },
    {
     "name": "stdout",
     "output_type": "stream",
     "text": [
      "370 : 0.17393853\n"
     ]
    },
    {
     "name": "stdout",
     "output_type": "stream",
     "text": [
      "371 : 0.17713805\n"
     ]
    },
    {
     "name": "stdout",
     "output_type": "stream",
     "text": [
      "372 : 0.13243261\n"
     ]
    },
    {
     "name": "stdout",
     "output_type": "stream",
     "text": [
      "373 : 0.1405403\n374 : 0.18919434\n"
     ]
    },
    {
     "name": "stdout",
     "output_type": "stream",
     "text": [
      "375 : 0.16267955\n376"
     ]
    },
    {
     "name": "stdout",
     "output_type": "stream",
     "text": [
      " : 0.17262696\n377 : 0.11932026\n"
     ]
    },
    {
     "name": "stdout",
     "output_type": "stream",
     "text": [
      "378 : 0.16335312\n379 : 0.17729568\n"
     ]
    },
    {
     "name": "stdout",
     "output_type": "stream",
     "text": [
      "380 : 0.19313669\n381 : 0.14412022\n"
     ]
    },
    {
     "name": "stdout",
     "output_type": "stream",
     "text": [
      "382 : 0.17575756\n383 : 0.17062719\n"
     ]
    },
    {
     "name": "stdout",
     "output_type": "stream",
     "text": [
      "384 : 0.11108259\n385 : 0.14519677\n"
     ]
    },
    {
     "name": "stdout",
     "output_type": "stream",
     "text": [
      "386 : 0.13056158\n"
     ]
    },
    {
     "name": "stdout",
     "output_type": "stream",
     "text": [
      "387 : 0.17145257\n388 : 0.14190081\n"
     ]
    },
    {
     "name": "stdout",
     "output_type": "stream",
     "text": [
      "389 : 0.10246242\n390 : 0.1391256\n"
     ]
    },
    {
     "name": "stdout",
     "output_type": "stream",
     "text": [
      "391 : 0.1703075\n"
     ]
    },
    {
     "name": "stdout",
     "output_type": "stream",
     "text": [
      "392 : 0.15131174\n393 : 0.18169796\n"
     ]
    },
    {
     "name": "stdout",
     "output_type": "stream",
     "text": [
      "394 : 0.15182771\n395 : 0.1634626\n"
     ]
    },
    {
     "name": "stdout",
     "output_type": "stream",
     "text": [
      "396 : 0.14793152\n397 : 0.14861885\n"
     ]
    },
    {
     "name": "stdout",
     "output_type": "stream",
     "text": [
      "398 : 0.18150172\n399"
     ]
    },
    {
     "name": "stdout",
     "output_type": "stream",
     "text": [
      " : 0.10604362\n"
     ]
    },
    {
     "name": "stdout",
     "output_type": "stream",
     "text": [
      "400 : 0.14299408\n\nSaving weights\n\nEpoch # :  5\n"
     ]
    },
    {
     "name": "stdout",
     "output_type": "stream",
     "text": [
      "401 : 0.1647076\n"
     ]
    },
    {
     "name": "stdout",
     "output_type": "stream",
     "text": [
      "402 : 0.14905632\n403 : 0.12563662\n"
     ]
    },
    {
     "name": "stdout",
     "output_type": "stream",
     "text": [
      "404 : 0.15994881\n405 : 0.24518338\n"
     ]
    },
    {
     "name": "stdout",
     "output_type": "stream",
     "text": [
      "406 : 0.17895456\n407 : 0.13165247\n"
     ]
    },
    {
     "name": "stdout",
     "output_type": "stream",
     "text": [
      "408 : 0.13377\n"
     ]
    },
    {
     "name": "stdout",
     "output_type": "stream",
     "text": [
      "409 : 0.15271145\n410 : 0.19230576\n"
     ]
    },
    {
     "name": "stdout",
     "output_type": "stream",
     "text": [
      "411 : 0.20708324\n412 : 0.18900722\n"
     ]
    },
    {
     "name": "stdout",
     "output_type": "stream",
     "text": [
      "413 : 0.13693157\n414 : 0.15324466\n"
     ]
    },
    {
     "name": "stdout",
     "output_type": "stream",
     "text": [
      "415 : 0.13963462\n"
     ]
    },
    {
     "name": "stdout",
     "output_type": "stream",
     "text": [
      "416 : 0.15527686\n417 : 0.1636396\n"
     ]
    },
    {
     "name": "stdout",
     "output_type": "stream",
     "text": [
      "418 : 0.11692251\n419 : 0.12464538\n"
     ]
    },
    {
     "name": "stdout",
     "output_type": "stream",
     "text": [
      "420 : 0.12962016\n421 : 0.109708965\n"
     ]
    },
    {
     "name": "stdout",
     "output_type": "stream",
     "text": [
      "422 : 0.16302325\n"
     ]
    },
    {
     "name": "stdout",
     "output_type": "stream",
     "text": [
      "423 : 0.15417558\n424 : 0.12700874\n"
     ]
    },
    {
     "name": "stdout",
     "output_type": "stream",
     "text": [
      "425 : 0.136911\n426 : 0.16370903\n"
     ]
    },
    {
     "name": "stdout",
     "output_type": "stream",
     "text": [
      "427 : 0.15942673\n428 : 0.11469655\n"
     ]
    },
    {
     "name": "stdout",
     "output_type": "stream",
     "text": [
      "429 : 0.14805076\n430 : 0.15535083\n"
     ]
    },
    {
     "name": "stdout",
     "output_type": "stream",
     "text": [
      "431 : 0.1690938\n432 : 0.10420889\n"
     ]
    },
    {
     "name": "stdout",
     "output_type": "stream",
     "text": [
      "433 : 0.13124649\n434 : 0.15654424\n"
     ]
    },
    {
     "name": "stdout",
     "output_type": "stream",
     "text": [
      "435 : 0.15946288\n436 : 0.15694717\n"
     ]
    },
    {
     "name": "stdout",
     "output_type": "stream",
     "text": [
      "437 : 0.15670204\n"
     ]
    },
    {
     "name": "stdout",
     "output_type": "stream",
     "text": [
      "438 : 0.17304766\n439 : 0.17628631\n"
     ]
    },
    {
     "name": "stdout",
     "output_type": "stream",
     "text": [
      "440 : 0.14762892\n441 : 0.1165804\n"
     ]
    },
    {
     "name": "stdout",
     "output_type": "stream",
     "text": [
      "442 : 0.13227724\n443 : 0.14861852\n"
     ]
    },
    {
     "name": "stdout",
     "output_type": "stream",
     "text": [
      "444 : 0.12548964\n"
     ]
    },
    {
     "name": "stdout",
     "output_type": "stream",
     "text": [
      "445 : 0.13416979\n446 : 0.12295656\n"
     ]
    },
    {
     "name": "stdout",
     "output_type": "stream",
     "text": [
      "447 : 0.10969414\n448 : 0.16068214\n"
     ]
    },
    {
     "name": "stdout",
     "output_type": "stream",
     "text": [
      "449 : 0.11967275\n450 : 0.14311372\n"
     ]
    },
    {
     "name": "stdout",
     "output_type": "stream",
     "text": [
      "451 : 0.12118349\n"
     ]
    },
    {
     "name": "stdout",
     "output_type": "stream",
     "text": [
      "452 : 0.13234477\n453 : 0.113288395\n"
     ]
    },
    {
     "name": "stdout",
     "output_type": "stream",
     "text": [
      "454 : 0.1400924\n455 : 0.13036972\n"
     ]
    },
    {
     "name": "stdout",
     "output_type": "stream",
     "text": [
      "456 : 0.15222909\n457"
     ]
    },
    {
     "name": "stdout",
     "output_type": "stream",
     "text": [
      " : 0.12591912\n458"
     ]
    },
    {
     "name": "stdout",
     "output_type": "stream",
     "text": [
      " : 0.12648597\n459 : 0.097970724\n"
     ]
    },
    {
     "name": "stdout",
     "output_type": "stream",
     "text": [
      "460 : 0.15647219\n461 : 0.10509454\n"
     ]
    },
    {
     "name": "stdout",
     "output_type": "stream",
     "text": [
      "462 : 0.12321708\n463 : 0.122612506\n"
     ]
    },
    {
     "name": "stdout",
     "output_type": "stream",
     "text": [
      "464 : 0.12307923\n465 : 0.09818608\n"
     ]
    },
    {
     "name": "stdout",
     "output_type": "stream",
     "text": [
      "466 : 0.1273457\n"
     ]
    },
    {
     "name": "stdout",
     "output_type": "stream",
     "text": [
      "467 : 0.11849702\n468 : 0.11569132\n"
     ]
    },
    {
     "name": "stdout",
     "output_type": "stream",
     "text": [
      "469 : 0.12265026\n470 : 0.12644747\n"
     ]
    },
    {
     "name": "stdout",
     "output_type": "stream",
     "text": [
      "471 : 0.11073355\n472 : 0.13081348\n"
     ]
    },
    {
     "name": "stdout",
     "output_type": "stream",
     "text": [
      "473 : 0.113161825\n"
     ]
    },
    {
     "name": "stdout",
     "output_type": "stream",
     "text": [
      "474 : 0.11733117\n475 : 0.090228446\n"
     ]
    },
    {
     "name": "stdout",
     "output_type": "stream",
     "text": [
      "476 : 0.106818534\n477 : 0.112352066\n"
     ]
    },
    {
     "name": "stdout",
     "output_type": "stream",
     "text": [
      "478 : 0.110248126\n479 : 0.10855052\n"
     ]
    },
    {
     "name": "stdout",
     "output_type": "stream",
     "text": [
      "480 : 0.1079685\n"
     ]
    },
    {
     "name": "stdout",
     "output_type": "stream",
     "text": [
      "481 : 0.13096967\n482 : 0.08208854\n"
     ]
    },
    {
     "name": "stdout",
     "output_type": "stream",
     "text": [
      "483 : 0.06295356\n484"
     ]
    },
    {
     "name": "stdout",
     "output_type": "stream",
     "text": [
      " : 0.075098604\n485 : 0.064875\n"
     ]
    },
    {
     "name": "stdout",
     "output_type": "stream",
     "text": [
      "486 : 0.09674038\n487 : 0.096175194\n"
     ]
    },
    {
     "name": "stdout",
     "output_type": "stream",
     "text": [
      "488 : 0.15204704\n"
     ]
    },
    {
     "name": "stdout",
     "output_type": "stream",
     "text": [
      "489 : 0.10600353\n490 : 0.16552109\n"
     ]
    },
    {
     "name": "stdout",
     "output_type": "stream",
     "text": [
      "491 : 0.07528894\n492 : 0.1046616\n"
     ]
    },
    {
     "name": "stdout",
     "output_type": "stream",
     "text": [
      "493 : 0.10281992\n494 : 0.06841982\n"
     ]
    },
    {
     "name": "stdout",
     "output_type": "stream",
     "text": [
      "495 : 0.124379724\n"
     ]
    },
    {
     "name": "stdout",
     "output_type": "stream",
     "text": [
      "496 : 0.09836157\n497"
     ]
    },
    {
     "name": "stdout",
     "output_type": "stream",
     "text": [
      " : 0.10841642\n498"
     ]
    },
    {
     "name": "stdout",
     "output_type": "stream",
     "text": [
      " : 0.08289539\n499 : 0.15552452\n"
     ]
    },
    {
     "name": "stdout",
     "output_type": "stream",
     "text": [
      "500 : 0.0856574\n\nSaving weights\n\nEpoch # :  6\n"
     ]
    },
    {
     "name": "stdout",
     "output_type": "stream",
     "text": [
      "501 : 0.15728678\n"
     ]
    },
    {
     "name": "stdout",
     "output_type": "stream",
     "text": [
      "502 : 0.11204426\n"
     ]
    },
    {
     "name": "stdout",
     "output_type": "stream",
     "text": [
      "503 : 0.05550294\n"
     ]
    },
    {
     "name": "stdout",
     "output_type": "stream",
     "text": [
      "504 : 0.13412721\n"
     ]
    },
    {
     "name": "stdout",
     "output_type": "stream",
     "text": [
      "505 : 0.07444642\n"
     ]
    },
    {
     "name": "stdout",
     "output_type": "stream",
     "text": [
      "506 : 0.13263214\n507 : 0.07259616\n"
     ]
    },
    {
     "name": "stdout",
     "output_type": "stream",
     "text": [
      "508 : 0.06419009\n509 : 0.1251338\n"
     ]
    },
    {
     "name": "stdout",
     "output_type": "stream",
     "text": [
      "510 : 0.07982018\n511 : 0.07115225\n"
     ]
    },
    {
     "name": "stdout",
     "output_type": "stream",
     "text": [
      "512 : 0.0879161\n513 : 0.09619194\n"
     ]
    },
    {
     "name": "stdout",
     "output_type": "stream",
     "text": [
      "514 : 0.07060395\n515"
     ]
    },
    {
     "name": "stdout",
     "output_type": "stream",
     "text": [
      " : 0.08322381\n"
     ]
    },
    {
     "name": "stdout",
     "output_type": "stream",
     "text": [
      "516 : 0.05958271\n"
     ]
    },
    {
     "name": "stdout",
     "output_type": "stream",
     "text": [
      "517 : 0.05670178\n"
     ]
    },
    {
     "name": "stdout",
     "output_type": "stream",
     "text": [
      "518 : 0.07384573\n"
     ]
    },
    {
     "name": "stdout",
     "output_type": "stream",
     "text": [
      "519 : 0.09448288\n520 : 0.096271515\n"
     ]
    },
    {
     "name": "stdout",
     "output_type": "stream",
     "text": [
      "521 : 0.075893015\n"
     ]
    },
    {
     "name": "stdout",
     "output_type": "stream",
     "text": [
      "522 : 0.067502305\n"
     ]
    },
    {
     "name": "stdout",
     "output_type": "stream",
     "text": [
      "523 : 0.084342845\n524 : 0.07993117\n"
     ]
    },
    {
     "name": "stdout",
     "output_type": "stream",
     "text": [
      "525 : 0.07690131\n526"
     ]
    },
    {
     "name": "stdout",
     "output_type": "stream",
     "text": [
      " : 0.05112073\n"
     ]
    },
    {
     "name": "stdout",
     "output_type": "stream",
     "text": [
      "527 : 0.05646048\n"
     ]
    },
    {
     "name": "stdout",
     "output_type": "stream",
     "text": [
      "528 : 0.05951791\n529 :"
     ]
    },
    {
     "name": "stdout",
     "output_type": "stream",
     "text": [
      " 0.09486866\n530 : 0.057411097\n531 : 0.048702594\n"
     ]
    },
    {
     "name": "stdout",
     "output_type": "stream",
     "text": [
      "532 : 0.056121856\n"
     ]
    },
    {
     "name": "stdout",
     "output_type": "stream",
     "text": [
      "533 : 0.07663069\n534 :"
     ]
    },
    {
     "name": "stdout",
     "output_type": "stream",
     "text": [
      " 0.070034094\n535 : 0.04849802\n536 : 0.06805637\n"
     ]
    },
    {
     "name": "stdout",
     "output_type": "stream",
     "text": [
      "537 : 0.06994068\n538 : 0.07932268\n"
     ]
    },
    {
     "name": "stdout",
     "output_type": "stream",
     "text": [
      "539 : 0.06551299\n540 : 0.046922434\n"
     ]
    },
    {
     "name": "stdout",
     "output_type": "stream",
     "text": [
      "541 : 0.039437786\n542"
     ]
    },
    {
     "name": "stdout",
     "output_type": "stream",
     "text": [
      " : 0.05798171\n543 : 0.052290916\n"
     ]
    },
    {
     "name": "stdout",
     "output_type": "stream",
     "text": [
      "544 : 0.06625885\n545 : 0.06008174\n"
     ]
    },
    {
     "name": "stdout",
     "output_type": "stream",
     "text": [
      "546 : 0.06143955\n"
     ]
    },
    {
     "name": "stdout",
     "output_type": "stream",
     "text": [
      "547 : 0.044599086\n548 : 0.07021037\n"
     ]
    },
    {
     "name": "stdout",
     "output_type": "stream",
     "text": [
      "549 : 0.071178764\n550 : 0.04928993\n"
     ]
    },
    {
     "name": "stdout",
     "output_type": "stream",
     "text": [
      "551 : 0.06399135\n552 : 0.059829235\n"
     ]
    },
    {
     "name": "stdout",
     "output_type": "stream",
     "text": [
      "553 : 0.07664729\n"
     ]
    },
    {
     "name": "stdout",
     "output_type": "stream",
     "text": [
      "554 : 0.05533212\n555 : 0.06511517\n"
     ]
    },
    {
     "name": "stdout",
     "output_type": "stream",
     "text": [
      "556 : 0.056741685\n557 : 0.06487482\n"
     ]
    },
    {
     "name": "stdout",
     "output_type": "stream",
     "text": [
      "558 : 0.062096998\n559 : 0.04662612\n"
     ]
    },
    {
     "name": "stdout",
     "output_type": "stream",
     "text": [
      "560 : 0.0696523\n"
     ]
    },
    {
     "name": "stdout",
     "output_type": "stream",
     "text": [
      "561 : 0.059297606\n562 : 0.06546983\n"
     ]
    },
    {
     "name": "stdout",
     "output_type": "stream",
     "text": [
      "563 : 0.05357724\n564 : 0.06409468\n"
     ]
    },
    {
     "name": "stdout",
     "output_type": "stream",
     "text": [
      "565 : 0.086448915\n566"
     ]
    },
    {
     "name": "stdout",
     "output_type": "stream",
     "text": [
      " : 0.04740305\n567 : 0.08764026\n"
     ]
    },
    {
     "name": "stdout",
     "output_type": "stream",
     "text": [
      "568 : 0.07524146\n569 : 0.04643282\n"
     ]
    },
    {
     "name": "stdout",
     "output_type": "stream",
     "text": [
      "570 : 0.06339751\n571"
     ]
    },
    {
     "name": "stdout",
     "output_type": "stream",
     "text": [
      " : 0.09070752\n572"
     ]
    },
    {
     "name": "stdout",
     "output_type": "stream",
     "text": [
      " : 0.05058144\n"
     ]
    },
    {
     "name": "stdout",
     "output_type": "stream",
     "text": [
      "573 : 0.069080144\n"
     ]
    },
    {
     "name": "stdout",
     "output_type": "stream",
     "text": [
      "574 : 0.07936716\n"
     ]
    },
    {
     "name": "stdout",
     "output_type": "stream",
     "text": [
      "575 : 0.05000859\n"
     ]
    },
    {
     "name": "stdout",
     "output_type": "stream",
     "text": [
      "576 : 0.056502104\n577 : 0.0788496\n"
     ]
    },
    {
     "name": "stdout",
     "output_type": "stream",
     "text": [
      "578 : 0.06613825\n579 : 0.052252654\n"
     ]
    },
    {
     "name": "stdout",
     "output_type": "stream",
     "text": [
      "580 : 0.048417684\n581"
     ]
    },
    {
     "name": "stdout",
     "output_type": "stream",
     "text": [
      " : 0.09413795\n"
     ]
    },
    {
     "name": "stdout",
     "output_type": "stream",
     "text": [
      "582 : 0.04353224\n"
     ]
    },
    {
     "name": "stdout",
     "output_type": "stream",
     "text": [
      "583 : 0.057190575\n584 : 0.06765239\n"
     ]
    },
    {
     "name": "stdout",
     "output_type": "stream",
     "text": [
      "585 : 0.057389334\n"
     ]
    },
    {
     "name": "stdout",
     "output_type": "stream",
     "text": [
      "586 : 0.040509712\n"
     ]
    },
    {
     "name": "stdout",
     "output_type": "stream",
     "text": [
      "587 : 0.04451188\n588"
     ]
    },
    {
     "name": "stdout",
     "output_type": "stream",
     "text": [
      " : 0.060128994\n589"
     ]
    },
    {
     "name": "stdout",
     "output_type": "stream",
     "text": [
      " : 0.051485486\n"
     ]
    },
    {
     "name": "stdout",
     "output_type": "stream",
     "text": [
      "590 : 0.051050205\n"
     ]
    },
    {
     "name": "stdout",
     "output_type": "stream",
     "text": [
      "591 : 0.044628426\n592 : 0.059054412\n"
     ]
    },
    {
     "name": "stdout",
     "output_type": "stream",
     "text": [
      "593 : 0.03990017\n594 : 0.05976007\n"
     ]
    },
    {
     "name": "stdout",
     "output_type": "stream",
     "text": [
      "595 : 0.048286006\n596 : 0.03589474\n"
     ]
    },
    {
     "name": "stdout",
     "output_type": "stream",
     "text": [
      "597 : 0.041170835\n"
     ]
    },
    {
     "name": "stdout",
     "output_type": "stream",
     "text": [
      "598 : 0.052932344\n599 : 0.033083808\n"
     ]
    },
    {
     "name": "stdout",
     "output_type": "stream",
     "text": [
      "600 : 0.039271113\n\nSaving weights\n\nEpoch # :  7\n"
     ]
    },
    {
     "name": "stdout",
     "output_type": "stream",
     "text": [
      "601 : 0.049560495\n602 : 0.057561785\n"
     ]
    },
    {
     "name": "stdout",
     "output_type": "stream",
     "text": [
      "603 : 0.05675191\n"
     ]
    },
    {
     "name": "stdout",
     "output_type": "stream",
     "text": [
      "604 : 0.039736748\n"
     ]
    },
    {
     "name": "stdout",
     "output_type": "stream",
     "text": [
      "605 : 0.040150017\n606"
     ]
    },
    {
     "name": "stdout",
     "output_type": "stream",
     "text": [
      " : 0.041474838\n"
     ]
    },
    {
     "name": "stdout",
     "output_type": "stream",
     "text": [
      "607 : 0.06953948\n608 : 0.04542225\n"
     ]
    },
    {
     "name": "stdout",
     "output_type": "stream",
     "text": [
      "609 : 0.044697043\n610"
     ]
    },
    {
     "name": "stdout",
     "output_type": "stream",
     "text": [
      " : 0.043668\n611"
     ]
    },
    {
     "name": "stdout",
     "output_type": "stream",
     "text": [
      " : 0.057890996\n"
     ]
    },
    {
     "name": "stdout",
     "output_type": "stream",
     "text": [
      "612 : 0.029563103\n613 : 0.048520926\n"
     ]
    },
    {
     "name": "stdout",
     "output_type": "stream",
     "text": [
      "614 : 0.05053592\n615 : 0.037727393\n"
     ]
    },
    {
     "name": "stdout",
     "output_type": "stream",
     "text": [
      "616 : 0.06798623\n617 : 0.04719808\n"
     ]
    },
    {
     "name": "stdout",
     "output_type": "stream",
     "text": [
      "618 : 0.041027613\n"
     ]
    },
    {
     "name": "stdout",
     "output_type": "stream",
     "text": [
      "619 : 0.043781724\n620 : 0.04620576\n"
     ]
    },
    {
     "name": "stdout",
     "output_type": "stream",
     "text": [
      "621 : 0.042301297\n622 : 0.03799372\n"
     ]
    },
    {
     "name": "stdout",
     "output_type": "stream",
     "text": [
      "623 : 0.064185664\n624 : 0.037779327\n"
     ]
    },
    {
     "name": "stdout",
     "output_type": "stream",
     "text": [
      "625 : 0.05837049\n"
     ]
    },
    {
     "name": "stdout",
     "output_type": "stream",
     "text": [
      "626 : 0.059800338\n627"
     ]
    },
    {
     "name": "stdout",
     "output_type": "stream",
     "text": [
      " : 0.030404378\n628"
     ]
    },
    {
     "name": "stdout",
     "output_type": "stream",
     "text": [
      " : 0.03515264\n629"
     ]
    },
    {
     "name": "stdout",
     "output_type": "stream",
     "text": [
      " : 0.037166625\n630 : 0.045853104\n"
     ]
    },
    {
     "name": "stdout",
     "output_type": "stream",
     "text": [
      "631 : 0.03051357\n632 : 0.023635497\n"
     ]
    },
    {
     "name": "stdout",
     "output_type": "stream",
     "text": [
      "633 : 0.054700986\n"
     ]
    },
    {
     "name": "stdout",
     "output_type": "stream",
     "text": [
      "634 : 0.03352788\n635 : 0.021527424\n"
     ]
    },
    {
     "name": "stdout",
     "output_type": "stream",
     "text": [
      "636 : 0.040381517\n637 : 0.027117152\n"
     ]
    },
    {
     "name": "stdout",
     "output_type": "stream",
     "text": [
      "638 : 0.027660461\n639 : 0.02465589\n"
     ]
    },
    {
     "name": "stdout",
     "output_type": "stream",
     "text": [
      "640 : 0.029430628\n"
     ]
    },
    {
     "name": "stdout",
     "output_type": "stream",
     "text": [
      "641 : 0.054477654\n642 : 0.035788704\n"
     ]
    },
    {
     "name": "stdout",
     "output_type": "stream",
     "text": [
      "643 : 0.020389881\n644 : 0.029758995\n"
     ]
    },
    {
     "name": "stdout",
     "output_type": "stream",
     "text": [
      "645 : 0.02365658\n646"
     ]
    },
    {
     "name": "stdout",
     "output_type": "stream",
     "text": [
      " : 0.031691812\n"
     ]
    },
    {
     "name": "stdout",
     "output_type": "stream",
     "text": [
      "647 : 0.031285428\n"
     ]
    },
    {
     "name": "stdout",
     "output_type": "stream",
     "text": [
      "648 : 0.03136028\n649 : 0.02361294\n"
     ]
    },
    {
     "name": "stdout",
     "output_type": "stream",
     "text": [
      "650 : 0.034536213\n651 : 0.048556376\n"
     ]
    },
    {
     "name": "stdout",
     "output_type": "stream",
     "text": [
      "652 : 0.032089017\n653 : 0.02914294\n"
     ]
    },
    {
     "name": "stdout",
     "output_type": "stream",
     "text": [
      "654 : 0.023921466\n"
     ]
    },
    {
     "name": "stdout",
     "output_type": "stream",
     "text": [
      "655 : 0.032540265\n656 : 0.032991152\n"
     ]
    },
    {
     "name": "stdout",
     "output_type": "stream",
     "text": [
      "657 : 0.028622074\n658 : 0.029170113\n"
     ]
    },
    {
     "name": "stdout",
     "output_type": "stream",
     "text": [
      "659 : 0.020979667\n660 : 0.032445613\n"
     ]
    },
    {
     "name": "stdout",
     "output_type": "stream",
     "text": [
      "661 : 0.029358875\n662 : 0.04081519\n"
     ]
    },
    {
     "name": "stdout",
     "output_type": "stream",
     "text": [
      "663 : 0.02739622\n664 : 0.018094864\n"
     ]
    },
    {
     "name": "stdout",
     "output_type": "stream",
     "text": [
      "665 : 0.042683307\n666 : 0.03415929\n"
     ]
    },
    {
     "name": "stdout",
     "output_type": "stream",
     "text": [
      "667 : 0.036676016\n668 : 0.038242012\n"
     ]
    },
    {
     "name": "stdout",
     "output_type": "stream",
     "text": [
      "669 : 0.025065353\n"
     ]
    },
    {
     "name": "stdout",
     "output_type": "stream",
     "text": [
      "670 : 0.041860245\n671 : 0.03188179\n"
     ]
    },
    {
     "name": "stdout",
     "output_type": "stream",
     "text": [
      "672 : 0.026559444\n673 : 0.022790661\n"
     ]
    },
    {
     "name": "stdout",
     "output_type": "stream",
     "text": [
      "674 : 0.048950855\n675 : 0.02728354\n"
     ]
    },
    {
     "name": "stdout",
     "output_type": "stream",
     "text": [
      "676 : 0.036818415\n"
     ]
    },
    {
     "name": "stdout",
     "output_type": "stream",
     "text": [
      "677 : 0.037205197\n678 : 0.02771455\n"
     ]
    },
    {
     "name": "stdout",
     "output_type": "stream",
     "text": [
      "679 : 0.03147586\n680 : 0.031614512\n"
     ]
    },
    {
     "name": "stdout",
     "output_type": "stream",
     "text": [
      "681 : 0.026919782\n682"
     ]
    },
    {
     "name": "stdout",
     "output_type": "stream",
     "text": [
      " : 0.042615976\n683 : 0.032436863\n"
     ]
    },
    {
     "name": "stdout",
     "output_type": "stream",
     "text": [
      "684 : 0.032493144\n685 : 0.0133629395\n"
     ]
    },
    {
     "name": "stdout",
     "output_type": "stream",
     "text": [
      "686 : 0.024259314\n687 : 0.021481324\n"
     ]
    },
    {
     "name": "stdout",
     "output_type": "stream",
     "text": [
      "688 : 0.027051525\n689 : 0.024050942\n"
     ]
    },
    {
     "name": "stdout",
     "output_type": "stream",
     "text": [
      "690 : 0.023201123\n691 : 0.026700914\n"
     ]
    },
    {
     "name": "stdout",
     "output_type": "stream",
     "text": [
      "692 : 0.023184707\n693 : 0.01642895\n"
     ]
    },
    {
     "name": "stdout",
     "output_type": "stream",
     "text": [
      "694 : 0.01780167\n695 : 0.022615792\n"
     ]
    },
    {
     "name": "stdout",
     "output_type": "stream",
     "text": [
      "696 : 0.027408771\n697 : 0.018170262\n"
     ]
    },
    {
     "name": "stdout",
     "output_type": "stream",
     "text": [
      "698 : 0.026996445\n"
     ]
    },
    {
     "name": "stdout",
     "output_type": "stream",
     "text": [
      "699 : 0.015105061\n700 : 0.025903823\n\n"
     ]
    },
    {
     "name": "stdout",
     "output_type": "stream",
     "text": [
      "Saving weights\n\nEpoch # :  8\n701 : 0.023844194\n"
     ]
    },
    {
     "name": "stdout",
     "output_type": "stream",
     "text": [
      "702 : 0.02505496\n703 : 0.014685441\n"
     ]
    },
    {
     "name": "stdout",
     "output_type": "stream",
     "text": [
      "704 : 0.020757422\n705 : 0.022457004\n"
     ]
    },
    {
     "name": "stdout",
     "output_type": "stream",
     "text": [
      "706 : 0.01806108\n707 : 0.033689696\n"
     ]
    },
    {
     "name": "stdout",
     "output_type": "stream",
     "text": [
      "708 : 0.036134463\n709 : 0.019043397\n"
     ]
    },
    {
     "name": "stdout",
     "output_type": "stream",
     "text": [
      "710 : 0.046885252\n711 : 0.016629696\n"
     ]
    },
    {
     "name": "stdout",
     "output_type": "stream",
     "text": [
      "712 : 0.023697617\n"
     ]
    },
    {
     "name": "stdout",
     "output_type": "stream",
     "text": [
      "713 : 0.020764437\n714 : 0.024322825\n"
     ]
    },
    {
     "name": "stdout",
     "output_type": "stream",
     "text": [
      "715 : 0.017865814\n716 : 0.019742869\n"
     ]
    },
    {
     "name": "stdout",
     "output_type": "stream",
     "text": [
      "717 : 0.020059103\n718 : 0.021431115\n"
     ]
    },
    {
     "name": "stdout",
     "output_type": "stream",
     "text": [
      "719 : 0.023315705\n720 : 0.02599102\n"
     ]
    },
    {
     "name": "stdout",
     "output_type": "stream",
     "text": [
      "721 : 0.012802095\n722 : 0.021630293\n"
     ]
    },
    {
     "name": "stdout",
     "output_type": "stream",
     "text": [
      "723 : 0.026349673\n724 : 0.026269272\n"
     ]
    },
    {
     "name": "stdout",
     "output_type": "stream",
     "text": [
      "725 : 0.019767312\n726 : 0.014383828\n"
     ]
    },
    {
     "name": "stdout",
     "output_type": "stream",
     "text": [
      "727 : 0.018178668\n"
     ]
    },
    {
     "name": "stdout",
     "output_type": "stream",
     "text": [
      "728 : 0.020248773\n729 : 0.026513409\n"
     ]
    },
    {
     "name": "stdout",
     "output_type": "stream",
     "text": [
      "730 : 0.022268405\n731 : 0.027826266\n"
     ]
    },
    {
     "name": "stdout",
     "output_type": "stream",
     "text": [
      "732 : 0.01749675\n733 : 0.017685007\n"
     ]
    },
    {
     "name": "stdout",
     "output_type": "stream",
     "text": [
      "734 : 0.010929575\n"
     ]
    },
    {
     "name": "stdout",
     "output_type": "stream",
     "text": [
      "735 : 0.017424399\n736 : 0.018380985\n"
     ]
    },
    {
     "name": "stdout",
     "output_type": "stream",
     "text": [
      "737 : 0.021575017\n738 : 0.014003818\n"
     ]
    },
    {
     "name": "stdout",
     "output_type": "stream",
     "text": [
      "739 : 0.020142281\n740"
     ]
    },
    {
     "name": "stdout",
     "output_type": "stream",
     "text": [
      " : 0.019748665\n741 "
     ]
    },
    {
     "name": "stdout",
     "output_type": "stream",
     "text": [
      ": 0.017590785\n742 : 0.01778393\n743 : 0.013733599\n"
     ]
    },
    {
     "name": "stdout",
     "output_type": "stream",
     "text": [
      "744 : 0.017962294\n745"
     ]
    },
    {
     "name": "stdout",
     "output_type": "stream",
     "text": [
      " : 0.031777557\n746 : 0.01692233\n"
     ]
    },
    {
     "name": "stdout",
     "output_type": "stream",
     "text": [
      "747 : 0.013559213\n748 : 0.01641647\n"
     ]
    },
    {
     "name": "stdout",
     "output_type": "stream",
     "text": [
      "749 : 0.017405357\n"
     ]
    },
    {
     "name": "stdout",
     "output_type": "stream",
     "text": [
      "750 : 0.019036943\n751 : 0.021393923\n"
     ]
    },
    {
     "name": "stdout",
     "output_type": "stream",
     "text": [
      "752 : 0.02059377\n753 : 0.027346997\n"
     ]
    },
    {
     "name": "stdout",
     "output_type": "stream",
     "text": [
      "754 : 0.020294132\n755 : 0.008317281\n"
     ]
    },
    {
     "name": "stdout",
     "output_type": "stream",
     "text": [
      "756 : 0.0046352423\n"
     ]
    },
    {
     "name": "stdout",
     "output_type": "stream",
     "text": [
      "757 : 0.014448976\n758 : 0.021241888\n"
     ]
    },
    {
     "name": "stdout",
     "output_type": "stream",
     "text": [
      "759 : 0.020033903\n760 : 0.017529013\n"
     ]
    },
    {
     "name": "stdout",
     "output_type": "stream",
     "text": [
      "761 : 0.014094886\n762 : 0.01574852\n"
     ]
    },
    {
     "name": "stdout",
     "output_type": "stream",
     "text": [
      "763 : 0.013515452\n"
     ]
    },
    {
     "name": "stdout",
     "output_type": "stream",
     "text": [
      "764 : 0.01334554\n765 : 0.019354608\n"
     ]
    },
    {
     "name": "stdout",
     "output_type": "stream",
     "text": [
      "766 : 0.014644984\n767 : 0.017870383\n"
     ]
    },
    {
     "name": "stdout",
     "output_type": "stream",
     "text": [
      "768 : 0.01321298\n769 : 0.016479952\n"
     ]
    },
    {
     "name": "stdout",
     "output_type": "stream",
     "text": [
      "770 : 0.0125528015\n"
     ]
    },
    {
     "name": "stdout",
     "output_type": "stream",
     "text": [
      "771 : 0.00870212\n772 : 0.010007356\n"
     ]
    },
    {
     "name": "stdout",
     "output_type": "stream",
     "text": [
      "773 : 0.019462151\n774 : 0.011962428\n"
     ]
    },
    {
     "name": "stdout",
     "output_type": "stream",
     "text": [
      "775 : 0.0135798\n776 : 0.017797595\n"
     ]
    },
    {
     "name": "stdout",
     "output_type": "stream",
     "text": [
      "777 : 0.012053446\n778 : 0.00795782\n"
     ]
    },
    {
     "name": "stdout",
     "output_type": "stream",
     "text": [
      "779 : 0.009888212\n780 : 0.023851926\n"
     ]
    },
    {
     "name": "stdout",
     "output_type": "stream",
     "text": [
      "781 : 0.010970065\n782 : 0.015518009\n"
     ]
    },
    {
     "name": "stdout",
     "output_type": "stream",
     "text": [
      "783 : 0.013595526\n784 : 0.013980193\n"
     ]
    },
    {
     "name": "stdout",
     "output_type": "stream",
     "text": [
      "785 : 0.013129778\n"
     ]
    },
    {
     "name": "stdout",
     "output_type": "stream",
     "text": [
      "786 : 0.016086388\n787 : 0.01640002\n"
     ]
    },
    {
     "name": "stdout",
     "output_type": "stream",
     "text": [
      "788 : 0.022078585\n789 : 0.018949253\n"
     ]
    },
    {
     "name": "stdout",
     "output_type": "stream",
     "text": [
      "790 : 0.011971636\n791 : 0.017076438\n"
     ]
    },
    {
     "name": "stdout",
     "output_type": "stream",
     "text": [
      "792 : 0.01425744\n"
     ]
    },
    {
     "name": "stdout",
     "output_type": "stream",
     "text": [
      "793 : 0.0121513745\n794"
     ]
    },
    {
     "name": "stdout",
     "output_type": "stream",
     "text": [
      " : 0.013357779\n795 : 0.019025618\n"
     ]
    },
    {
     "name": "stdout",
     "output_type": "stream",
     "text": [
      "796 : 0.017653042\n797 : 0.012345343\n"
     ]
    },
    {
     "name": "stdout",
     "output_type": "stream",
     "text": [
      "798 : 0.007670901\n799 : 0.020527048\n"
     ]
    },
    {
     "name": "stdout",
     "output_type": "stream",
     "text": [
      "800 : 0.007615387\n\n"
     ]
    },
    {
     "name": "stdout",
     "output_type": "stream",
     "text": [
      "Saving weights\n\nEpoch # :  9\n801 : 0.01029356\n"
     ]
    },
    {
     "name": "stdout",
     "output_type": "stream",
     "text": [
      "802 : 0.020033397\n803 : 0.016600333\n"
     ]
    },
    {
     "name": "stdout",
     "output_type": "stream",
     "text": [
      "804 : 0.013470295\n805 : 0.010200944\n"
     ]
    },
    {
     "name": "stdout",
     "output_type": "stream",
     "text": [
      "806 : 0.00898045\n807 : 0.016005574\n"
     ]
    },
    {
     "name": "stdout",
     "output_type": "stream",
     "text": [
      "808 : 0.013084047\n809 : 0.011479515\n"
     ]
    },
    {
     "name": "stdout",
     "output_type": "stream",
     "text": [
      "810 : 0.0145103475\n811 : 0.010071871\n"
     ]
    },
    {
     "name": "stdout",
     "output_type": "stream",
     "text": [
      "812 : 0.010150433\n813 : 0.014075914\n"
     ]
    },
    {
     "name": "stdout",
     "output_type": "stream",
     "text": [
      "814 : 0.01339913\n"
     ]
    },
    {
     "name": "stdout",
     "output_type": "stream",
     "text": [
      "815 : 0.01342452\n816 : 0.012087512\n"
     ]
    },
    {
     "name": "stdout",
     "output_type": "stream",
     "text": [
      "817 : 0.008204519\n818 : 0.009303045\n"
     ]
    },
    {
     "name": "stdout",
     "output_type": "stream",
     "text": [
      "819 : 0.010339404\n820 : 0.013917524\n"
     ]
    },
    {
     "name": "stdout",
     "output_type": "stream",
     "text": [
      "821 : 0.0138136195\n"
     ]
    },
    {
     "name": "stdout",
     "output_type": "stream",
     "text": [
      "822 : 0.013636198\n823 : 0.012973997\n"
     ]
    },
    {
     "name": "stdout",
     "output_type": "stream",
     "text": [
      "824 : 0.009679683\n825 : 0.010628559\n"
     ]
    },
    {
     "name": "stdout",
     "output_type": "stream",
     "text": [
      "826 : 0.012201442\n827 : 0.013486803\n"
     ]
    },
    {
     "name": "stdout",
     "output_type": "stream",
     "text": [
      "828 : 0.009390917\n"
     ]
    },
    {
     "name": "stdout",
     "output_type": "stream",
     "text": [
      "829 : 0.014084607\n830 : 0.013787501\n"
     ]
    },
    {
     "name": "stdout",
     "output_type": "stream",
     "text": [
      "831 : 0.010433241\n832 : 0.012446005\n"
     ]
    },
    {
     "name": "stdout",
     "output_type": "stream",
     "text": [
      "833 : 0.013059753\n834 : 0.012368782\n"
     ]
    },
    {
     "name": "stdout",
     "output_type": "stream",
     "text": [
      "835 : 0.015081031\n836 : 0.010273647\n"
     ]
    },
    {
     "name": "stdout",
     "output_type": "stream",
     "text": [
      "837 : 0.00907989\n838 : 0.0148715265\n"
     ]
    },
    {
     "name": "stdout",
     "output_type": "stream",
     "text": [
      "839 : 0.01014482\n840 : 0.011363775\n"
     ]
    },
    {
     "name": "stdout",
     "output_type": "stream",
     "text": [
      "841 : 0.0100548435\n842"
     ]
    },
    {
     "name": "stdout",
     "output_type": "stream",
     "text": [
      " : 0.012446535\n843"
     ]
    },
    {
     "name": "stdout",
     "output_type": "stream",
     "text": [
      " : 0.008625185\n"
     ]
    },
    {
     "name": "stdout",
     "output_type": "stream",
     "text": [
      "844 : 0.0135698775\n845 : 0.012971889\n"
     ]
    },
    {
     "name": "stdout",
     "output_type": "stream",
     "text": [
      "846 : 0.013296157\n847 : 0.011461079\n"
     ]
    },
    {
     "name": "stdout",
     "output_type": "stream",
     "text": [
      "848 : 0.014601922\n849 : 0.01978521\n"
     ]
    },
    {
     "name": "stdout",
     "output_type": "stream",
     "text": [
      "850 : 0.01425718\n"
     ]
    },
    {
     "name": "stdout",
     "output_type": "stream",
     "text": [
      "851 : 0.015590979\n852 : 0.012404406\n"
     ]
    },
    {
     "name": "stdout",
     "output_type": "stream",
     "text": [
      "853 : 0.017179023\n854 : 0.013786051\n"
     ]
    },
    {
     "name": "stdout",
     "output_type": "stream",
     "text": [
      "855 : 0.010346527\n856 : 0.014773572\n"
     ]
    },
    {
     "name": "stdout",
     "output_type": "stream",
     "text": [
      "857 : 0.008041934\n"
     ]
    },
    {
     "name": "stdout",
     "output_type": "stream",
     "text": [
      "858 : 0.010335262\n859 : 0.01542618\n"
     ]
    },
    {
     "name": "stdout",
     "output_type": "stream",
     "text": [
      "860 : 0.00528795\n861 : 0.011129256\n"
     ]
    },
    {
     "name": "stdout",
     "output_type": "stream",
     "text": [
      "862 : 0.012242729\n863 : 0.014594437\n"
     ]
    },
    {
     "name": "stdout",
     "output_type": "stream",
     "text": [
      "864 : 0.0118613625\n865 : 0.015265178\n"
     ]
    },
    {
     "name": "stdout",
     "output_type": "stream",
     "text": [
      "866 : 0.007880119\n867 : 0.00970771\n"
     ]
    },
    {
     "name": "stdout",
     "output_type": "stream",
     "text": [
      "868 : 0.0077647204\n869 : 0.0090260245\n"
     ]
    },
    {
     "name": "stdout",
     "output_type": "stream",
     "text": [
      "870 : 0.008916397\n871 : 0.009708999\n"
     ]
    },
    {
     "name": "stdout",
     "output_type": "stream",
     "text": [
      "872 : 0.014643359\n"
     ]
    },
    {
     "name": "stdout",
     "output_type": "stream",
     "text": [
      "873 : 0.010937579\n874 : 0.008672744\n"
     ]
    },
    {
     "name": "stdout",
     "output_type": "stream",
     "text": [
      "875 : 0.015614479\n876 : 0.008165318\n"
     ]
    },
    {
     "name": "stdout",
     "output_type": "stream",
     "text": [
      "877 : 0.008794937\n878 : 0.014321603\n"
     ]
    },
    {
     "name": "stdout",
     "output_type": "stream",
     "text": [
      "879 : 0.011559346\n"
     ]
    },
    {
     "name": "stdout",
     "output_type": "stream",
     "text": [
      "880 : 0.009258208\n881 : 0.008233376\n"
     ]
    },
    {
     "name": "stdout",
     "output_type": "stream",
     "text": [
      "882 : 0.015899383\n883 : 0.008647027\n"
     ]
    },
    {
     "name": "stdout",
     "output_type": "stream",
     "text": [
      "884 : 0.012507274\n885 : 0.009713871\n"
     ]
    },
    {
     "name": "stdout",
     "output_type": "stream",
     "text": [
      "886 : 0.00880221\n"
     ]
    },
    {
     "name": "stdout",
     "output_type": "stream",
     "text": [
      "887 : 0.009632104\n888 : 0.01456007\n"
     ]
    },
    {
     "name": "stdout",
     "output_type": "stream",
     "text": [
      "889 : 0.019252608\n890 : 0.0127879735\n"
     ]
    },
    {
     "name": "stdout",
     "output_type": "stream",
     "text": [
      "891 : 0.011236735\n892 : 0.010895021\n"
     ]
    },
    {
     "name": "stdout",
     "output_type": "stream",
     "text": [
      "893 : 0.012864918\n894 : 0.009486776\n"
     ]
    },
    {
     "name": "stdout",
     "output_type": "stream",
     "text": [
      "895 : 0.008675113\n896 : 0.014887228\n"
     ]
    },
    {
     "name": "stdout",
     "output_type": "stream",
     "text": [
      "897 : 0.012684256\n898 : 0.015007284\n"
     ]
    },
    {
     "name": "stdout",
     "output_type": "stream",
     "text": [
      "899 : 0.015881648\n900 : 0.008669504\n\n"
     ]
    },
    {
     "name": "stdout",
     "output_type": "stream",
     "text": [
      "Saving weights\n\nEpoch # :  10\n901 : 0.013047283\n"
     ]
    },
    {
     "name": "stdout",
     "output_type": "stream",
     "text": [
      "902 : 0.013509209\n903 : 0.01159261\n"
     ]
    },
    {
     "name": "stdout",
     "output_type": "stream",
     "text": [
      "904 : 0.017507369\n905"
     ]
    },
    {
     "name": "stdout",
     "output_type": "stream",
     "text": [
      " : 0.012964623\n906"
     ]
    },
    {
     "name": "stdout",
     "output_type": "stream",
     "text": [
      " : 0.011233922\n907 : 0.017139802\n"
     ]
    },
    {
     "name": "stdout",
     "output_type": "stream",
     "text": [
      "908 : 0.009478753\n"
     ]
    },
    {
     "name": "stdout",
     "output_type": "stream",
     "text": [
      "909 : 0.01274709\n910 : 0.014722627\n"
     ]
    },
    {
     "name": "stdout",
     "output_type": "stream",
     "text": [
      "911 : 0.014161579\n912 : 0.025249584\n"
     ]
    },
    {
     "name": "stdout",
     "output_type": "stream",
     "text": [
      "913 : 0.012680078\n914 : 0.0112285325\n"
     ]
    },
    {
     "name": "stdout",
     "output_type": "stream",
     "text": [
      "915 : 0.013198409\n"
     ]
    },
    {
     "name": "stdout",
     "output_type": "stream",
     "text": [
      "916 : 0.0087420335\n917 : 0.010796811\n"
     ]
    },
    {
     "name": "stdout",
     "output_type": "stream",
     "text": [
      "918 : 0.009800197\n919 : 0.0124022355\n"
     ]
    },
    {
     "name": "stdout",
     "output_type": "stream",
     "text": [
      "920 : 0.018434066\n921 : 0.010956664\n"
     ]
    },
    {
     "name": "stdout",
     "output_type": "stream",
     "text": [
      "922 : 0.009967901\n923 : 0.015667744\n"
     ]
    },
    {
     "name": "stdout",
     "output_type": "stream",
     "text": [
      "924 : 0.0115639875\n925 : 0.007446328\n"
     ]
    },
    {
     "name": "stdout",
     "output_type": "stream",
     "text": [
      "926 : 0.013066693\n927 : 0.012127122\n"
     ]
    },
    {
     "name": "stdout",
     "output_type": "stream",
     "text": [
      "928 : 0.009242579\n929 : 0.011790907\n"
     ]
    },
    {
     "name": "stdout",
     "output_type": "stream",
     "text": [
      "930 : 0.01573922\n"
     ]
    },
    {
     "name": "stdout",
     "output_type": "stream",
     "text": [
      "931 : 0.010128999\n932 : 0.013218913\n"
     ]
    },
    {
     "name": "stdout",
     "output_type": "stream",
     "text": [
      "933 : 0.011976286\n934 : 0.011463803\n"
     ]
    },
    {
     "name": "stdout",
     "output_type": "stream",
     "text": [
      "935 : 0.015351049\n936 : 0.011682212\n"
     ]
    },
    {
     "name": "stdout",
     "output_type": "stream",
     "text": [
      "937 : 0.009802085\n"
     ]
    },
    {
     "name": "stdout",
     "output_type": "stream",
     "text": [
      "938 : 0.010838713\n939"
     ]
    },
    {
     "name": "stdout",
     "output_type": "stream",
     "text": [
      " : 0.009506232\n940 : 0.013699275\n"
     ]
    },
    {
     "name": "stdout",
     "output_type": "stream",
     "text": [
      "941 : 0.009940529\n942 : 0.011867429\n"
     ]
    },
    {
     "name": "stdout",
     "output_type": "stream",
     "text": [
      "943 : 0.01182563\n944 : 0.014012042\n"
     ]
    },
    {
     "name": "stdout",
     "output_type": "stream",
     "text": [
      "945 : 0.009279003\n946 : 0.01259357\n"
     ]
    },
    {
     "name": "stdout",
     "output_type": "stream",
     "text": [
      "947 : 0.011890262\n948 : 0.013277016\n"
     ]
    },
    {
     "name": "stdout",
     "output_type": "stream",
     "text": [
      "949 : 0.008103303\n950 : 0.0110400105\n"
     ]
    },
    {
     "name": "stdout",
     "output_type": "stream",
     "text": [
      "951 : 0.00763467\n952 : 0.008324858\n"
     ]
    },
    {
     "name": "stdout",
     "output_type": "stream",
     "text": [
      "953 : 0.007490907\n954 : 0.0068494417\n"
     ]
    },
    {
     "name": "stdout",
     "output_type": "stream",
     "text": [
      "955 : 0.015938267\n956 : 0.0107760765\n"
     ]
    },
    {
     "name": "stdout",
     "output_type": "stream",
     "text": [
      "957 : 0.0077061225\n958 : 0.014835298\n"
     ]
    },
    {
     "name": "stdout",
     "output_type": "stream",
     "text": [
      "959 : 0.01171341\n"
     ]
    },
    {
     "name": "stdout",
     "output_type": "stream",
     "text": [
      "960 : 0.010942405\n961 :"
     ]
    },
    {
     "name": "stdout",
     "output_type": "stream",
     "text": [
      " 0.016097944\n962 : 0.009041903\n963"
     ]
    },
    {
     "name": "stdout",
     "output_type": "stream",
     "text": [
      " : 0.015559661\n964 : 0.011096979\n"
     ]
    },
    {
     "name": "stdout",
     "output_type": "stream",
     "text": [
      "965 : 0.004508662\n966 : 0.014397566\n"
     ]
    },
    {
     "name": "stdout",
     "output_type": "stream",
     "text": [
      "967 : 0.011136326\n968"
     ]
    },
    {
     "name": "stdout",
     "output_type": "stream",
     "text": [
      " : 0.013984387\n969 : 0.012460555\n"
     ]
    },
    {
     "name": "stdout",
     "output_type": "stream",
     "text": [
      "970 : 0.00759255\n971 : 0.011619636\n"
     ]
    },
    {
     "name": "stdout",
     "output_type": "stream",
     "text": [
      "972 : 0.012184204\n973 : 0.007832286\n"
     ]
    },
    {
     "name": "stdout",
     "output_type": "stream",
     "text": [
      "974 : 0.011003453\n975 : 0.0074615073\n"
     ]
    },
    {
     "name": "stdout",
     "output_type": "stream",
     "text": [
      "976 : 0.01039293\n977 : 0.009728953\n"
     ]
    },
    {
     "name": "stdout",
     "output_type": "stream",
     "text": [
      "978 : 0.010033807\n979 : 0.010250652\n"
     ]
    },
    {
     "name": "stdout",
     "output_type": "stream",
     "text": [
      "980 : 0.008191691\n981 : 0.011968047\n"
     ]
    },
    {
     "name": "stdout",
     "output_type": "stream",
     "text": [
      "982 : 0.009129828\n983 "
     ]
    },
    {
     "name": "stdout",
     "output_type": "stream",
     "text": [
      ": 0.009607894\n984 : 0.016231995\n985 : 0.008177842\n"
     ]
    },
    {
     "name": "stdout",
     "output_type": "stream",
     "text": [
      "986 : 0.017791022\n987 : 0.012214734\n"
     ]
    },
    {
     "name": "stdout",
     "output_type": "stream",
     "text": [
      "988 : 0.008533943\n"
     ]
    },
    {
     "name": "stdout",
     "output_type": "stream",
     "text": [
      "989 : 0.011030755\n990 : 0.013606629\n"
     ]
    },
    {
     "name": "stdout",
     "output_type": "stream",
     "text": [
      "991 : 0.006308437\n992 : 0.009518083\n"
     ]
    },
    {
     "name": "stdout",
     "output_type": "stream",
     "text": [
      "993 : 0.012534449\n994 : 0.011428753\n"
     ]
    },
    {
     "name": "stdout",
     "output_type": "stream",
     "text": [
      "995 : 0.007995549\n"
     ]
    },
    {
     "name": "stdout",
     "output_type": "stream",
     "text": [
      "996 : 0.0111887595\n997 : 0.010381366\n"
     ]
    },
    {
     "name": "stdout",
     "output_type": "stream",
     "text": [
      "998 : 0.016191138\n999 : 0.00865929\n"
     ]
    },
    {
     "name": "stdout",
     "output_type": "stream",
     "text": [
      "1000 : 0.0082915295\n\n"
     ]
    },
    {
     "name": "stdout",
     "output_type": "stream",
     "text": [
      "Saving weights\n\n"
     ]
    }
   ],
   "source": [
    "import shutil\n",
    "\n",
    "model = JANETModel(NUM_UNITS, num_outputs=1, num_timesteps=TIME_STEPS, output_activation='linear')\n",
    "\n",
    "optimizer = tf.train.AdamOptimizer(learning_rate=LEARNING_RATE)\n",
    "global_step = tf.train.get_or_create_global_step()\n",
    "\n",
    "# try using different optimizers and different optimizer configs\n",
    "# model.compile(loss='mse', optimizer=optimizer)\n",
    "\n",
    "best_loss = 100.\n",
    "generator = batch_generator()\n",
    "\n",
    "loss_history = []\n",
    "update_counter = 1\n",
    "\n",
    "for epoch in range(NUM_EPOCHS):\n",
    "    print(\"Epoch # : \", epoch + 1)\n",
    "\n",
    "    for step in range(STEPS_PER_EPOCH):\n",
    "        # get batch dataset\n",
    "        inputs, targets = next(generator)\n",
    "\n",
    "        # get gradients and loss at this iteration\n",
    "        gradients, loss_val = grad(model, inputs, targets)\n",
    "\n",
    "        # apply gradients\n",
    "        optimizer.apply_gradients(gradients, tf.train.get_or_create_global_step())\n",
    "\n",
    "        loss_history.append(loss_val.numpy())\n",
    "        print(update_counter, \":\", loss_history[-1])\n",
    "\n",
    "        update_counter += 1\n",
    "    print()\n",
    "\n",
    "    # remove old checkpoint that we no longer need\n",
    "    if os.path.exists(CHECKPOINTS_DIR):\n",
    "        shutil.rmtree(CHECKPOINTS_DIR)\n",
    "\n",
    "    # save the checkpoint weights\n",
    "    checkpoint = tfe.Checkpoint(model=model).save(CHECKPOINT_PATH)\n",
    "\n",
    "    # Optional : Save the weight matrices in Keras format as well\n",
    "    # model.save_weights('addition_model.h5', overwrite=True)\n",
    "\n",
    "    print(\"Saving weights\")\n",
    "    print()\n"
   ]
  },
  {
   "cell_type": "code",
   "execution_count": 13,
   "metadata": {
    "scrolled": true
   },
   "outputs": [
    {
     "data": {
      "text/plain": [
       "[<matplotlib.lines.Line2D at 0x216940b9c18>]"
      ]
     },
     "execution_count": 13,
     "metadata": {},
     "output_type": "execute_result"
    },
    {
     "data": {
      "image/png": "[encoded data removed]",
      "text/plain": [
       "<matplotlib.figure.Figure at 0x21694029160>"
      ]
     },
     "metadata": {},
     "output_type": "display_data"
    }
   ],
   "source": [
    "import matplotlib.pyplot as plt\n",
    "\n",
    "# remove noise from initial epochs\n",
    "loss_history_plot = list(filter(lambda x: x < 0.25, loss_history))\n",
    "\n",
    "plt.figure(figsize=(12, 5))\n",
    "plt.plot(loss_history_plot)\n",
    "# plt.show()"
   ]
  },
  {
   "cell_type": "markdown",
   "metadata": {},
   "source": [
    "# Observations\n",
    "The model does train for 100 timesteps quite quickly, but it doesnt match the speed of learning by the paper. In the paper, the loss starts to drop close to the 300th iteration and drops all the way to the low 0.0x by the 425th iteration.\n",
    "\n",
    "Here the loss starts to reduce at the 400th iteration and drops completely by the 600th iteration, much slower than the paper. Also, I had to clip off the first few iterations with extremely high losses as the graph cannot be visualized properly if they were kept."
   ]
  },
  {
   "cell_type": "markdown",
   "metadata": {},
   "source": [
    "#  Loading Checkpoints\n",
    "\n",
    "Tensorflow Eager makes loading of checkpoints that are fully contained in a Keras model easy. However, there is one small idiosynchacy that needs to be dealt with when loading models in TF 1.7.\n",
    "\n",
    "Models, after being build, need to be called at least once prior to the checkpoint restoring their weights. If this is not done, it throws obscure errors."
   ]
  },
  {
   "cell_type": "code",
   "execution_count": 15,
   "metadata": {},
   "outputs": [
    {
     "name": "stdout",
     "output_type": "stream",
     "text": [
      "Checkpoint path :  checkpoints_addition/addition_janet.ckpt-1\n"
     ]
    },
    {
     "name": "stdout",
     "output_type": "stream",
     "text": [
      "Final average predicted error (should be less than 0.03) :  0.011101311\n"
     ]
    }
   ],
   "source": [
    "if os.path.exists(CHECKPOINTS_DIR):\n",
    "    ckpt_path = tf.train.latest_checkpoint(CHECKPOINTS_DIR)\n",
    "    print(\"Checkpoint path : \", ckpt_path)\n",
    "\n",
    "    model = JANETModel(NUM_UNITS, num_outputs=1, num_timesteps=TIME_STEPS, output_activation='linear')\n",
    "\n",
    "    model.compile(tf.train.AdamOptimizer(), loss='mse')\n",
    "    \n",
    "    # this is where you need to call the model at least once,\n",
    "    # so that all of its variables can be properly restored\n",
    "    zeros = tf.zeros((1, TIME_STEPS, 2))\n",
    "    model(zeros)\n",
    "    \n",
    "    # restore the weights\n",
    "    tfe.Checkpoint(model=model, ).restore(ckpt_path)\n",
    "    \n",
    "    # predict one batch to ensure the weights are correctly loaded\n",
    "    generator = batch_generator()\n",
    "\n",
    "    losses = []\n",
    "    for i in range(20):\n",
    "        inputs, outputs = next(generator)\n",
    "\n",
    "        preds = model(inputs)\n",
    "        loss_val = loss(outputs, preds)\n",
    "\n",
    "        losses.append(loss_val.numpy())\n",
    "\n",
    "    print(\"Final average predicted error (should be less than 0.03) : \", np.mean(losses))"
   ]
  },
  {
   "cell_type": "markdown",
   "metadata": {},
   "source": [
    "# Stepping off the well trodden path\n",
    "When building keras models that **only** use Keras layers, there is no issue when loading or saving weights.\n",
    "\n",
    "However, not every thing can be represented in layers, and a few models may require working directlty with TF Eager variables. In such cases, a different approach is required to save and restore these models.\n",
    "\n",
    "Lets see the same model without using Keras layers to define them. Here to keep it simple, we will use Eager variables to define the RNN cell, and a Keras Layer to define the classification / regression layer."
   ]
  },
  {
   "cell_type": "code",
   "execution_count": 16,
   "metadata": {},
   "outputs": [],
   "source": [
    "class EagerJANETModel(tf.keras.Model):\n",
    "    \n",
    "    def __init__(self, input_dim, units, num_outputs, num_timesteps, output_activation='sigmoid', **kwargs):\n",
    "        super(EagerJANETModel, self).__init__(**kwargs)\n",
    "        \n",
    "        self.input_dim = input_dim\n",
    "        self.units = units\n",
    "        self.classes = num_outputs\n",
    "        self.num_timesteps = num_timesteps\n",
    "\n",
    "        # Initialize the forget gate with ChronoInitializer\n",
    "        # The memory gate is initialized with zeros\n",
    "        with tf.device(_device):\n",
    "            def bias_initializer(_, *args, **kwargs):\n",
    "                forget_gate = ChronoInitializer(self.num_timesteps)((self.units,), *args, **kwargs)\n",
    "                \n",
    "                return tf.keras.backend.concatenate([\n",
    "                    forget_gate,\n",
    "                    tf.keras.initializers.Zeros()((self.units,), *args, **kwargs),\n",
    "                ])\n",
    "            \n",
    "            # Initialize the hidden and recurrent gates\n",
    "            self.kernel = tf.get_variable('kernel', shape=[input_dim, units * 2], dtype=tf.float32,\n",
    "                                          initializer=tf.keras.initializers.glorot_uniform())\n",
    "            \n",
    "            self.recurrent_kernel = tf.get_variable('recurrent_kernel', shape=[units, units * 2], dtype=tf.float32,\n",
    "                                                    initializer=tf.keras.initializers.glorot_uniform())\n",
    "            \n",
    "            self.recurrent_bias = tf.get_variable('recurrent_bias', shape=[units * 2], dtype=tf.float32,\n",
    "                                                  initializer=bias_initializer)\n",
    "            \n",
    "            # Initialize the final layer (for classification or regression depending on the output activation)\n",
    "            self.output_dense = tf.keras.layers.Dense(num_outputs, activation=output_activation)\n",
    "        \n",
    "        # we need to create a dictionary of all of the weights which are not in Keras layers\n",
    "        self.additional_weights = OrderedDict()\n",
    "        self.additional_weights[self.kernel.name] = self.kernel\n",
    "        self.additional_weights[self.recurrent_kernel.name] = self.recurrent_kernel\n",
    "        self.additional_weights[self.recurrent_bias.name] = self.recurrent_bias\n",
    "        \n",
    "    \n",
    "    \"\"\"\n",
    "    This is required to override a certain issue with how the weights of a model are loaded\n",
    "    by a checkpoint.\n",
    "    \n",
    "    While we could use `model.call(inputs)` directly, the more pythonic way of doing this is\n",
    "    by using `model(inputs)`.\n",
    "    \n",
    "    However, in Eager mode, the ordinary function call does *not* forward the method to the\n",
    "    models `call` method. This bypasses that issue.\n",
    "    \"\"\"\n",
    "    def __call__(self, *args, **kwargs):\n",
    "        if not tf.executing_eagerly():\n",
    "            super(EagerJANETModel, self).__call__(*args, **kwargs)\n",
    "        return self.call(*args, **kwargs)\n",
    "\n",
    "    def call(self, inputs, training=None, mask=None):\n",
    "        # Initialize the hidden memory states\n",
    "        outputs = []\n",
    "        states = []\n",
    "        \n",
    "        with tf.device(_device):\n",
    "            h_state = tf.zeros((inputs.shape[0], self.units))\n",
    "            c_state = tf.zeros((inputs.shape[0], self.units))\n",
    "            \n",
    "            # Input is in the shape [None, timesteps, input_dim]\n",
    "            for t in range(inputs.shape[1]):\n",
    "                ip = inputs[:, t, :]  # access the T'th timestep\n",
    "                \n",
    "                # Perform the forward pass of the model\n",
    "                z = tf.matmul(ip, self.kernel)\n",
    "                z += tf.matmul(h_state, self.recurrent_kernel) + self.recurrent_bias\n",
    "                \n",
    "                # Split the output into the forget and memory outputs\n",
    "                z0 = z[:, :self.units]\n",
    "                z1 = z[:, self.units: 2 * self.units]\n",
    "    \n",
    "                # gate updates\n",
    "                f = tf.keras.activations.sigmoid(z0)\n",
    "                c = f * c_state + (1. - f) * tf.nn.tanh(z1)\n",
    "    \n",
    "                # state updates\n",
    "                h = c\n",
    "                \n",
    "                # update our previous state\n",
    "                h_state = h\n",
    "                c_state = c\n",
    "            \n",
    "                # preserve the history of our states\n",
    "                outputs.append(h)\n",
    "                states.append([h])  # here we maintain just 1 state variable, can be more\n",
    "                \n",
    "            # save memory states to global variables so we can access them later\n",
    "            # self.cell_outputs = tf.stack(outputs, axis=1)\n",
    "            # self.cell_states = states\n",
    "            \n",
    "            # perform forward pass of the classifier / regressor\n",
    "            preds = self.output_dense(outputs[-1])\n",
    "\n",
    "            return preds"
   ]
  },
  {
   "cell_type": "markdown",
   "metadata": {},
   "source": [
    "# Gradients of a custom model\n",
    "\n",
    "The gradients of such a model are a little more complicated than the earlier simple `model.trainable_variables`. Since tf.keras Models do not track the weights that are added separately (apart from keras layers, no weights or variables are managed by Keras), we need to write a custom grad function."
   ]
  },
  {
   "cell_type": "code",
   "execution_count": 17,
   "metadata": {},
   "outputs": [],
   "source": [
    "def grad(model, X, y):\n",
    "    with tf.device(_device):\n",
    "        with tf.GradientTape() as tape:\n",
    "            preds = model(X)\n",
    "            loss_val = loss(y, preds)\n",
    "        \n",
    "        # this is the crucial step : use the dictionary of weights that we manage\n",
    "        # manually to get all of the weights that are not managed by keras and add\n",
    "        # them to the list of weights for which we need gradients\n",
    "        vars = model.trainable_variables + list(model.additional_weights.values())\n",
    "        grads = tape.gradient(loss_val, vars)\n",
    "        grad_vars = zip(grads, vars)\n",
    "\n",
    "        return grad_vars, loss_val"
   ]
  },
  {
   "cell_type": "markdown",
   "metadata": {},
   "source": [
    "# Reason for custom gradient function\n",
    "\n",
    "Keras has two very convenient methods `add_weight` and `add_variable` to add weights to a layer / model easily. However, TF Eager mode has not implemented these methods yet, and therefore we cant use them directly.\n",
    "\n",
    "Therefore, we have to take the roundabout way of mixing Keras layers with custom weights and keep a track of them using a dictionary."
   ]
  },
  {
   "cell_type": "markdown",
   "metadata": {},
   "source": [
    "# Training and Saving the weights of a custom model\n",
    "\n",
    "Saving and restoring of custom models is exactly the same as before if you are using tf.get_variable to create variables in Eager mode. However, tfe.Variable() is NOT managed by keras, so don't use it inside a Keras model."
   ]
  },
  {
   "cell_type": "code",
   "execution_count": 18,
   "metadata": {
    "scrolled": true
   },
   "outputs": [
    {
     "name": "stdout",
     "output_type": "stream",
     "text": [
      "Epoch # :  1\n"
     ]
    },
    {
     "name": "stdout",
     "output_type": "stream",
     "text": [
      "1 : 1.1863205\n"
     ]
    },
    {
     "name": "stdout",
     "output_type": "stream",
     "text": [
      "2 : 1.0825965\n"
     ]
    },
    {
     "name": "stdout",
     "output_type": "stream",
     "text": [
      "3 : 1.1078988\n4"
     ]
    },
    {
     "name": "stdout",
     "output_type": "stream",
     "text": [
      " : 1.0668939\n5 : "
     ]
    },
    {
     "name": "stdout",
     "output_type": "stream",
     "text": [
      "0.8775318\n6 : 0.9191616\n7 : 0.7604675\n"
     ]
    },
    {
     "name": "stdout",
     "output_type": "stream",
     "text": [
      "8 : 0.6220919\n"
     ]
    },
    {
     "name": "stdout",
     "output_type": "stream",
     "text": [
      "9 : 0.615086\n"
     ]
    },
    {
     "name": "stdout",
     "output_type": "stream",
     "text": [
      "10 : 0.39194804\n11"
     ]
    },
    {
     "name": "stdout",
     "output_type": "stream",
     "text": [
      " : 0.2522026\n"
     ]
    },
    {
     "name": "stdout",
     "output_type": "stream",
     "text": [
      "12 : 0.1929467\n13 : 0.13068408\n"
     ]
    },
    {
     "name": "stdout",
     "output_type": "stream",
     "text": [
      "14 : 0.36698163\n15 : 0.39257798\n"
     ]
    },
    {
     "name": "stdout",
     "output_type": "stream",
     "text": [
      "16 : 0.32155538\n"
     ]
    },
    {
     "name": "stdout",
     "output_type": "stream",
     "text": [
      "17 : 0.21351986\n"
     ]
    },
    {
     "name": "stdout",
     "output_type": "stream",
     "text": [
      "18 : 0.15593475\n19"
     ]
    },
    {
     "name": "stdout",
     "output_type": "stream",
     "text": [
      " : 0.18594776\n20"
     ]
    },
    {
     "name": "stdout",
     "output_type": "stream",
     "text": [
      " : 0.15899421\n21"
     ]
    },
    {
     "name": "stdout",
     "output_type": "stream",
     "text": [
      " : 0.23217717\n"
     ]
    },
    {
     "name": "stdout",
     "output_type": "stream",
     "text": [
      "22 : 0.23954311\n"
     ]
    },
    {
     "name": "stdout",
     "output_type": "stream",
     "text": [
      "23 : 0.20241736\n"
     ]
    },
    {
     "name": "stdout",
     "output_type": "stream",
     "text": [
      "24 : 0.25740024\n"
     ]
    },
    {
     "name": "stdout",
     "output_type": "stream",
     "text": [
      "25 : 0.29807895\n"
     ]
    },
    {
     "name": "stdout",
     "output_type": "stream",
     "text": [
      "26 : 0.3052492\n"
     ]
    },
    {
     "name": "stdout",
     "output_type": "stream",
     "text": [
      "27 : 0.22836111\n"
     ]
    },
    {
     "name": "stdout",
     "output_type": "stream",
     "text": [
      "28 : 0.26137054\n"
     ]
    },
    {
     "name": "stdout",
     "output_type": "stream",
     "text": [
      "29 : 0.25836453\n"
     ]
    },
    {
     "name": "stdout",
     "output_type": "stream",
     "text": [
      "30 : 0.15520325\n"
     ]
    },
    {
     "name": "stdout",
     "output_type": "stream",
     "text": [
      "31 : 0.14407538\n"
     ]
    },
    {
     "name": "stdout",
     "output_type": "stream",
     "text": [
      "32 : 0.19183467\n"
     ]
    },
    {
     "name": "stdout",
     "output_type": "stream",
     "text": [
      "33 : 0.20594029\n34 : 0.32778102\n"
     ]
    },
    {
     "name": "stdout",
     "output_type": "stream",
     "text": [
      "35 : 0.3024955\n"
     ]
    },
    {
     "name": "stdout",
     "output_type": "stream",
     "text": [
      "36 : 0.21141835\n"
     ]
    },
    {
     "name": "stdout",
     "output_type": "stream",
     "text": [
      "37 : 0.15211546\n38 : 0.19563393\n"
     ]
    },
    {
     "name": "stdout",
     "output_type": "stream",
     "text": [
      "39 : 0.14108545\n40"
     ]
    },
    {
     "name": "stdout",
     "output_type": "stream",
     "text": [
      " : 0.13442862\n"
     ]
    },
    {
     "name": "stdout",
     "output_type": "stream",
     "text": [
      "41 : 0.20500633\n42 : 0.1612525\n"
     ]
    },
    {
     "name": "stdout",
     "output_type": "stream",
     "text": [
      "43 : 0.18532173\n"
     ]
    },
    {
     "name": "stdout",
     "output_type": "stream",
     "text": [
      "44 : 0.18569846\n"
     ]
    },
    {
     "name": "stdout",
     "output_type": "stream",
     "text": [
      "45 : 0.16968986\n46"
     ]
    },
    {
     "name": "stdout",
     "output_type": "stream",
     "text": [
      " : 0.12340805\n47"
     ]
    },
    {
     "name": "stdout",
     "output_type": "stream",
     "text": [
      " : 0.17430797\n"
     ]
    },
    {
     "name": "stdout",
     "output_type": "stream",
     "text": [
      "48 : 0.18686515\n"
     ]
    },
    {
     "name": "stdout",
     "output_type": "stream",
     "text": [
      "49 : 0.21190976\n50 : 0.14499529\n"
     ]
    },
    {
     "name": "stdout",
     "output_type": "stream",
     "text": [
      "51 : 0.16780232\n52"
     ]
    },
    {
     "name": "stdout",
     "output_type": "stream",
     "text": [
      " : 0.2446912\n53 : 0.17020866\n"
     ]
    },
    {
     "name": "stdout",
     "output_type": "stream",
     "text": [
      "54 : 0.15005301\n55 : 0.1709134\n"
     ]
    },
    {
     "name": "stdout",
     "output_type": "stream",
     "text": [
      "56 : 0.16863212\n"
     ]
    },
    {
     "name": "stdout",
     "output_type": "stream",
     "text": [
      "57 : 0.13903871\n58 : 0.11667651\n"
     ]
    },
    {
     "name": "stdout",
     "output_type": "stream",
     "text": [
      "59 : 0.16236314\n60 : 0.17771359\n"
     ]
    },
    {
     "name": "stdout",
     "output_type": "stream",
     "text": [
      "61 : 0.15818122\n62 : 0.1787187\n"
     ]
    },
    {
     "name": "stdout",
     "output_type": "stream",
     "text": [
      "63 : 0.16717957\n64 : 0.13323289\n"
     ]
    },
    {
     "name": "stdout",
     "output_type": "stream",
     "text": [
      "65 : 0.18707603\n66 : 0.20518379\n"
     ]
    },
    {
     "name": "stdout",
     "output_type": "stream",
     "text": [
      "67 : 0.15378405\n68 : 0.136622\n"
     ]
    },
    {
     "name": "stdout",
     "output_type": "stream",
     "text": [
      "69 : 0.17231646\n70 : 0.162741\n"
     ]
    },
    {
     "name": "stdout",
     "output_type": "stream",
     "text": [
      "71 : 0.15120059\n72 : 0.16198596\n"
     ]
    },
    {
     "name": "stdout",
     "output_type": "stream",
     "text": [
      "73 : 0.19679745\n74 : 0.13938366\n"
     ]
    },
    {
     "name": "stdout",
     "output_type": "stream",
     "text": [
      "75 : 0.12319234\n76 : 0.16187659\n"
     ]
    },
    {
     "name": "stdout",
     "output_type": "stream",
     "text": [
      "77 : 0.16021708\n78 : 0.16791578\n"
     ]
    },
    {
     "name": "stdout",
     "output_type": "stream",
     "text": [
      "79 : 0.17191415\n80 : 0.16724847\n"
     ]
    },
    {
     "name": "stdout",
     "output_type": "stream",
     "text": [
      "81 : 0.14357433\n82 : 0.18213236\n"
     ]
    },
    {
     "name": "stdout",
     "output_type": "stream",
     "text": [
      "83 : 0.13477916\n84 : 0.12831531\n"
     ]
    },
    {
     "name": "stdout",
     "output_type": "stream",
     "text": [
      "85 : 0.19639868\n86 : 0.19013506\n"
     ]
    },
    {
     "name": "stdout",
     "output_type": "stream",
     "text": [
      "87 : 0.1740538\n88 : 0.13955764\n"
     ]
    },
    {
     "name": "stdout",
     "output_type": "stream",
     "text": [
      "89 : 0.13083582\n90 : 0.13832274\n"
     ]
    },
    {
     "name": "stdout",
     "output_type": "stream",
     "text": [
      "91 : 0.16457488\n92 : 0.18168087\n"
     ]
    },
    {
     "name": "stdout",
     "output_type": "stream",
     "text": [
      "93 : 0.15546733\n94 : 0.19978154\n"
     ]
    },
    {
     "name": "stdout",
     "output_type": "stream",
     "text": [
      "95 : 0.13187733\n96"
     ]
    },
    {
     "name": "stdout",
     "output_type": "stream",
     "text": [
      " : 0.20618378\n"
     ]
    },
    {
     "name": "stdout",
     "output_type": "stream",
     "text": [
      "97 : 0.17945996\n98 : 0.19089869\n"
     ]
    },
    {
     "name": "stdout",
     "output_type": "stream",
     "text": [
      "99 : 0.19370812\n100 : 0.15767057\n\n"
     ]
    },
    {
     "name": "stdout",
     "output_type": "stream",
     "text": [
      "Saving weights\n\nEpoch # :  2\n101 : 0.18387584\n"
     ]
    },
    {
     "name": "stdout",
     "output_type": "stream",
     "text": [
      "102 : 0.15744102\n103 : 0.19165348\n"
     ]
    },
    {
     "name": "stdout",
     "output_type": "stream",
     "text": [
      "104 : 0.15445054\n"
     ]
    },
    {
     "name": "stdout",
     "output_type": "stream",
     "text": [
      "105 : 0.19755165\n106 : 0.1567266\n"
     ]
    },
    {
     "name": "stdout",
     "output_type": "stream",
     "text": [
      "107 : 0.19496861\n108 : 0.17413841\n"
     ]
    },
    {
     "name": "stdout",
     "output_type": "stream",
     "text": [
      "109 : 0.17989075\n110 : 0.15451969\n"
     ]
    },
    {
     "name": "stdout",
     "output_type": "stream",
     "text": [
      "111 : 0.13978714\n112 : 0.14743064\n"
     ]
    },
    {
     "name": "stdout",
     "output_type": "stream",
     "text": [
      "113 : 0.17114781\n114"
     ]
    },
    {
     "name": "stdout",
     "output_type": "stream",
     "text": [
      " : 0.13507229\n115 : 0.18055117\n"
     ]
    },
    {
     "name": "stdout",
     "output_type": "stream",
     "text": [
      "116 : 0.15782249\n117 : 0.14237398\n"
     ]
    },
    {
     "name": "stdout",
     "output_type": "stream",
     "text": [
      "118 : 0.16557777\n119 : 0.17426163\n"
     ]
    },
    {
     "name": "stdout",
     "output_type": "stream",
     "text": [
      "120 : 0.14292641\n"
     ]
    },
    {
     "name": "stdout",
     "output_type": "stream",
     "text": [
      "121 : 0.14203987\n122 : 0.17363375\n"
     ]
    },
    {
     "name": "stdout",
     "output_type": "stream",
     "text": [
      "123 : 0.099661686\n124 : 0.1830413\n"
     ]
    },
    {
     "name": "stdout",
     "output_type": "stream",
     "text": [
      "125 : 0.20544976\n126 : 0.17641792\n"
     ]
    },
    {
     "name": "stdout",
     "output_type": "stream",
     "text": [
      "127 : 0.16301957\n128 : 0.15461187\n"
     ]
    },
    {
     "name": "stdout",
     "output_type": "stream",
     "text": [
      "129 : 0.15706742\n130 : 0.11461704\n"
     ]
    },
    {
     "name": "stdout",
     "output_type": "stream",
     "text": [
      "131 : 0.2027565\n132 : 0.18444005\n"
     ]
    },
    {
     "name": "stdout",
     "output_type": "stream",
     "text": [
      "133 : 0.14352888\n134 : 0.105158046\n"
     ]
    },
    {
     "name": "stdout",
     "output_type": "stream",
     "text": [
      "135 : 0.14627554\n136 : 0.1787536\n"
     ]
    },
    {
     "name": "stdout",
     "output_type": "stream",
     "text": [
      "137 : 0.15321855\n138 : 0.15683888\n"
     ]
    },
    {
     "name": "stdout",
     "output_type": "stream",
     "text": [
      "139 : 0.11505594\n140 : 0.18271084\n"
     ]
    },
    {
     "name": "stdout",
     "output_type": "stream",
     "text": [
      "141 : 0.13358566\n142 : 0.15559794\n"
     ]
    },
    {
     "name": "stdout",
     "output_type": "stream",
     "text": [
      "143 : 0.17392962\n144 : 0.13415056\n"
     ]
    },
    {
     "name": "stdout",
     "output_type": "stream",
     "text": [
      "145 : 0.13467284\n146 : 0.10924814\n"
     ]
    },
    {
     "name": "stdout",
     "output_type": "stream",
     "text": [
      "147 : 0.16471323\n148 : 0.12387948\n"
     ]
    },
    {
     "name": "stdout",
     "output_type": "stream",
     "text": [
      "149 : 0.15421179\n150 : 0.1326867\n"
     ]
    },
    {
     "name": "stdout",
     "output_type": "stream",
     "text": [
      "151 : 0.15494223\n152 : 0.14235674\n"
     ]
    },
    {
     "name": "stdout",
     "output_type": "stream",
     "text": [
      "153 : 0.13341394\n154 : 0.12667082\n"
     ]
    },
    {
     "name": "stdout",
     "output_type": "stream",
     "text": [
      "155 : 0.14434633\n156 : 0.15618463\n"
     ]
    },
    {
     "name": "stdout",
     "output_type": "stream",
     "text": [
      "157 : 0.16903406\n"
     ]
    },
    {
     "name": "stdout",
     "output_type": "stream",
     "text": [
      "158 : 0.11429178\n159 : 0.1595455\n"
     ]
    },
    {
     "name": "stdout",
     "output_type": "stream",
     "text": [
      "160 : 0.18396683\n"
     ]
    },
    {
     "name": "stdout",
     "output_type": "stream",
     "text": [
      "161 : 0.14064975\n162 : 0.12328291\n"
     ]
    },
    {
     "name": "stdout",
     "output_type": "stream",
     "text": [
      "163 : 0.1327574\n164 : 0.10899836\n"
     ]
    },
    {
     "name": "stdout",
     "output_type": "stream",
     "text": [
      "165 : 0.1490691\n166 : 0.17142387\n"
     ]
    },
    {
     "name": "stdout",
     "output_type": "stream",
     "text": [
      "167 : 0.18720062\n168 : 0.14594021\n"
     ]
    },
    {
     "name": "stdout",
     "output_type": "stream",
     "text": [
      "169 : 0.14904119\n170 : 0.12678112\n"
     ]
    },
    {
     "name": "stdout",
     "output_type": "stream",
     "text": [
      "171 : 0.18775502\n172 : 0.16270094\n"
     ]
    },
    {
     "name": "stdout",
     "output_type": "stream",
     "text": [
      "173 : 0.19385813\n174 : 0.11920126\n"
     ]
    },
    {
     "name": "stdout",
     "output_type": "stream",
     "text": [
      "175 : 0.15955281\n176 : 0.14483856\n"
     ]
    },
    {
     "name": "stdout",
     "output_type": "stream",
     "text": [
      "177 : 0.17450312\n178 : 0.20242679\n"
     ]
    },
    {
     "name": "stdout",
     "output_type": "stream",
     "text": [
      "179 : 0.17479339\n180 : 0.18003102\n"
     ]
    },
    {
     "name": "stdout",
     "output_type": "stream",
     "text": [
      "181 : 0.18169674\n182"
     ]
    },
    {
     "name": "stdout",
     "output_type": "stream",
     "text": [
      " : 0.14804004\n183 : 0.15493755\n"
     ]
    },
    {
     "name": "stdout",
     "output_type": "stream",
     "text": [
      "184 : 0.15627818\n"
     ]
    },
    {
     "name": "stdout",
     "output_type": "stream",
     "text": [
      "185 : 0.15011175\n186 : 0.12486178\n"
     ]
    },
    {
     "name": "stdout",
     "output_type": "stream",
     "text": [
      "187 : 0.13262033\n188 : 0.12453003\n"
     ]
    },
    {
     "name": "stdout",
     "output_type": "stream",
     "text": [
      "189 : 0.19436556\n190 : 0.13916849\n"
     ]
    },
    {
     "name": "stdout",
     "output_type": "stream",
     "text": [
      "191 : 0.15625463\n192"
     ]
    },
    {
     "name": "stdout",
     "output_type": "stream",
     "text": [
      " : 0.18758911\n"
     ]
    },
    {
     "name": "stdout",
     "output_type": "stream",
     "text": [
      "193 : 0.20431493\n194 :"
     ]
    },
    {
     "name": "stdout",
     "output_type": "stream",
     "text": [
      " 0.13885792\n195 : 0.18899389\n196 : 0.18787792\n"
     ]
    },
    {
     "name": "stdout",
     "output_type": "stream",
     "text": [
      "197 : 0.19755727\n198 : 0.20649628\n"
     ]
    },
    {
     "name": "stdout",
     "output_type": "stream",
     "text": [
      "199 : 0.13795367\n"
     ]
    },
    {
     "name": "stdout",
     "output_type": "stream",
     "text": [
      "200 : 0.1341619\n\nSaving weights\n\nEpoch # :  3\n"
     ]
    },
    {
     "name": "stdout",
     "output_type": "stream",
     "text": [
      "201 : 0.13548887\n202"
     ]
    },
    {
     "name": "stdout",
     "output_type": "stream",
     "text": [
      " : 0.1595162\n203"
     ]
    },
    {
     "name": "stdout",
     "output_type": "stream",
     "text": [
      " : 0.217491\n204"
     ]
    },
    {
     "name": "stdout",
     "output_type": "stream",
     "text": [
      " : 0.13713448\n"
     ]
    },
    {
     "name": "stdout",
     "output_type": "stream",
     "text": [
      "205 : 0.20237918\n206 : 0.15341938\n"
     ]
    },
    {
     "name": "stdout",
     "output_type": "stream",
     "text": [
      "207 : 0.17038365\n208 : 0.15939398\n"
     ]
    },
    {
     "name": "stdout",
     "output_type": "stream",
     "text": [
      "209 : 0.18556866\n"
     ]
    },
    {
     "name": "stdout",
     "output_type": "stream",
     "text": [
      "210 : 0.16775908\n211"
     ]
    },
    {
     "name": "stdout",
     "output_type": "stream",
     "text": [
      " : 0.26038718\n212 : 0.15292971\n"
     ]
    },
    {
     "name": "stdout",
     "output_type": "stream",
     "text": [
      "213 : 0.15089668\n214 : 0.22657646\n"
     ]
    },
    {
     "name": "stdout",
     "output_type": "stream",
     "text": [
      "215 : 0.15638737\n216 : 0.16247836\n"
     ]
    },
    {
     "name": "stdout",
     "output_type": "stream",
     "text": [
      "217 : 0.15031675\n218 : 0.15152365\n"
     ]
    },
    {
     "name": "stdout",
     "output_type": "stream",
     "text": [
      "219 : 0.18735184\n220 : 0.12936342\n"
     ]
    },
    {
     "name": "stdout",
     "output_type": "stream",
     "text": [
      "221 : 0.1532566\n222 : 0.15206341\n"
     ]
    },
    {
     "name": "stdout",
     "output_type": "stream",
     "text": [
      "223 : 0.15328345\n224 : 0.15624617\n"
     ]
    },
    {
     "name": "stdout",
     "output_type": "stream",
     "text": [
      "225 : 0.2088171\n226 : 0.16056778\n"
     ]
    },
    {
     "name": "stdout",
     "output_type": "stream",
     "text": [
      "227 : 0.1330771\n228 : 0.12922159\n"
     ]
    },
    {
     "name": "stdout",
     "output_type": "stream",
     "text": [
      "229 : 0.17094101\n230 : 0.17673393\n"
     ]
    },
    {
     "name": "stdout",
     "output_type": "stream",
     "text": [
      "231 : 0.17510845\n232 : 0.12495825\n"
     ]
    },
    {
     "name": "stdout",
     "output_type": "stream",
     "text": [
      "233 : 0.15233776\n234 : 0.14903629\n"
     ]
    },
    {
     "name": "stdout",
     "output_type": "stream",
     "text": [
      "235 : 0.16914962\n236 : 0.18132778\n"
     ]
    },
    {
     "name": "stdout",
     "output_type": "stream",
     "text": [
      "237 : 0.15152611\n238 : 0.16099113\n"
     ]
    },
    {
     "name": "stdout",
     "output_type": "stream",
     "text": [
      "239 : 0.17538065\n240 : 0.14669436\n"
     ]
    },
    {
     "name": "stdout",
     "output_type": "stream",
     "text": [
      "241 : 0.13299403\n242 : 0.15519363\n"
     ]
    },
    {
     "name": "stdout",
     "output_type": "stream",
     "text": [
      "243 : 0.16138764\n244 : 0.13110855\n"
     ]
    },
    {
     "name": "stdout",
     "output_type": "stream",
     "text": [
      "245 : 0.16091049\n246 : 0.1469284\n"
     ]
    },
    {
     "name": "stdout",
     "output_type": "stream",
     "text": [
      "247 : 0.12687422\n248 : 0.16108698\n"
     ]
    },
    {
     "name": "stdout",
     "output_type": "stream",
     "text": [
      "249 : 0.1975203\n250 : 0.164016\n"
     ]
    },
    {
     "name": "stdout",
     "output_type": "stream",
     "text": [
      "251 : 0.15859807\n252 : 0.16948979\n"
     ]
    },
    {
     "name": "stdout",
     "output_type": "stream",
     "text": [
      "253 : 0.13900563\n254 : 0.20029552\n"
     ]
    },
    {
     "name": "stdout",
     "output_type": "stream",
     "text": [
      "255 : 0.17458418\n256 : 0.1411032\n"
     ]
    },
    {
     "name": "stdout",
     "output_type": "stream",
     "text": [
      "257 : 0.14799662\n258 : 0.16268674\n"
     ]
    },
    {
     "name": "stdout",
     "output_type": "stream",
     "text": [
      "259 : 0.13446182\n260 : 0.15146837\n"
     ]
    },
    {
     "name": "stdout",
     "output_type": "stream",
     "text": [
      "261 : 0.13526267\n262 : 0.18256637\n"
     ]
    },
    {
     "name": "stdout",
     "output_type": "stream",
     "text": [
      "263 : 0.19080143\n264 : 0.18717661\n"
     ]
    },
    {
     "name": "stdout",
     "output_type": "stream",
     "text": [
      "265 : 0.13666421\n266 : 0.15079914\n"
     ]
    },
    {
     "name": "stdout",
     "output_type": "stream",
     "text": [
      "267 : 0.17735405\n268 : 0.1838001\n"
     ]
    },
    {
     "name": "stdout",
     "output_type": "stream",
     "text": [
      "269 : 0.111649275\n270"
     ]
    },
    {
     "name": "stdout",
     "output_type": "stream",
     "text": [
      " : 0.16416153\n271 : 0.14342238\n"
     ]
    },
    {
     "name": "stdout",
     "output_type": "stream",
     "text": [
      "272 : 0.15484253\n"
     ]
    },
    {
     "name": "stdout",
     "output_type": "stream",
     "text": [
      "273 : 0.15816763\n274 : 0.12626672\n"
     ]
    },
    {
     "name": "stdout",
     "output_type": "stream",
     "text": [
      "275 : 0.1366295\n276 : 0.16388765\n"
     ]
    },
    {
     "name": "stdout",
     "output_type": "stream",
     "text": [
      "277 : 0.17567572\n278 : 0.13676792\n"
     ]
    },
    {
     "name": "stdout",
     "output_type": "stream",
     "text": [
      "279 : 0.13602568\n280 : 0.1331036\n"
     ]
    },
    {
     "name": "stdout",
     "output_type": "stream",
     "text": [
      "281 : 0.17319185\n282 : 0.12718914\n"
     ]
    },
    {
     "name": "stdout",
     "output_type": "stream",
     "text": [
      "283 : 0.14714889\n284 : 0.19522278\n"
     ]
    },
    {
     "name": "stdout",
     "output_type": "stream",
     "text": [
      "285 : 0.1952913\n286 : 0.1345443\n"
     ]
    },
    {
     "name": "stdout",
     "output_type": "stream",
     "text": [
      "287 : 0.163543\n288 : 0.2090792\n"
     ]
    },
    {
     "name": "stdout",
     "output_type": "stream",
     "text": [
      "289 : 0.20652458\n290 : 0.16876233\n"
     ]
    },
    {
     "name": "stdout",
     "output_type": "stream",
     "text": [
      "291 : 0.14751549\n292 : 0.16784416\n"
     ]
    },
    {
     "name": "stdout",
     "output_type": "stream",
     "text": [
      "293 : 0.17308319\n294 : 0.20645456\n"
     ]
    },
    {
     "name": "stdout",
     "output_type": "stream",
     "text": [
      "295 : 0.20239641\n296 : 0.16699688\n"
     ]
    },
    {
     "name": "stdout",
     "output_type": "stream",
     "text": [
      "297 : 0.13925524\n298 : 0.14306393\n"
     ]
    },
    {
     "name": "stdout",
     "output_type": "stream",
     "text": [
      "299 : 0.16496071\n300 : 0.14095303\n\n"
     ]
    },
    {
     "name": "stdout",
     "output_type": "stream",
     "text": [
      "Saving weights\n\nEpoch # :  4\n301 : 0.16527365\n"
     ]
    },
    {
     "name": "stdout",
     "output_type": "stream",
     "text": [
      "302 : 0.15110832\n303 : 0.1944037\n"
     ]
    },
    {
     "name": "stdout",
     "output_type": "stream",
     "text": [
      "304 : 0.23938763\n"
     ]
    },
    {
     "name": "stdout",
     "output_type": "stream",
     "text": [
      "305 : 0.16669568\n306"
     ]
    },
    {
     "name": "stdout",
     "output_type": "stream",
     "text": [
      " : 0.15069176\n307 : 0.19259986\n"
     ]
    },
    {
     "name": "stdout",
     "output_type": "stream",
     "text": [
      "308 : 0.15497479\n309 : 0.13593563\n"
     ]
    },
    {
     "name": "stdout",
     "output_type": "stream",
     "text": [
      "310 : 0.13170132\n311 : 0.18818337\n"
     ]
    },
    {
     "name": "stdout",
     "output_type": "stream",
     "text": [
      "312 : 0.16391514\n"
     ]
    },
    {
     "name": "stdout",
     "output_type": "stream",
     "text": [
      "313 : 0.12909196\n314 : 0.14935614\n"
     ]
    },
    {
     "name": "stdout",
     "output_type": "stream",
     "text": [
      "315 : 0.17156401\n316 : 0.17152193\n"
     ]
    },
    {
     "name": "stdout",
     "output_type": "stream",
     "text": [
      "317 : 0.124549255\n318 : 0.14318904\n"
     ]
    },
    {
     "name": "stdout",
     "output_type": "stream",
     "text": [
      "319 : 0.14157848\n320 : 0.18627822\n"
     ]
    },
    {
     "name": "stdout",
     "output_type": "stream",
     "text": [
      "321 : 0.16004114\n322 : 0.10258955\n"
     ]
    },
    {
     "name": "stdout",
     "output_type": "stream",
     "text": [
      "323 : 0.17237438\n324 : 0.12817304\n"
     ]
    },
    {
     "name": "stdout",
     "output_type": "stream",
     "text": [
      "325 : 0.13095537\n326 : 0.16484839\n"
     ]
    },
    {
     "name": "stdout",
     "output_type": "stream",
     "text": [
      "327 : 0.17766838\n328 : 0.18566944\n"
     ]
    },
    {
     "name": "stdout",
     "output_type": "stream",
     "text": [
      "329 : 0.15650134\n330 : 0.16153316\n"
     ]
    },
    {
     "name": "stdout",
     "output_type": "stream",
     "text": [
      "331 : 0.10119503\n332 : 0.1605059\n"
     ]
    },
    {
     "name": "stdout",
     "output_type": "stream",
     "text": [
      "333 : 0.17737621\n334 : 0.15578365\n"
     ]
    },
    {
     "name": "stdout",
     "output_type": "stream",
     "text": [
      "335 : 0.15625478\n336 : 0.15357181\n"
     ]
    },
    {
     "name": "stdout",
     "output_type": "stream",
     "text": [
      "337 : 0.157081\n338 : 0.1767764\n"
     ]
    },
    {
     "name": "stdout",
     "output_type": "stream",
     "text": [
      "339 : 0.13025439\n340 : 0.16889982\n"
     ]
    },
    {
     "name": "stdout",
     "output_type": "stream",
     "text": [
      "341 : 0.16774847\n342 : 0.22029428\n"
     ]
    },
    {
     "name": "stdout",
     "output_type": "stream",
     "text": [
      "343 : 0.2177193\n344 : 0.19423497\n"
     ]
    },
    {
     "name": "stdout",
     "output_type": "stream",
     "text": [
      "345 : 0.18305181\n346 : 0.14641845\n"
     ]
    },
    {
     "name": "stdout",
     "output_type": "stream",
     "text": [
      "347 : 0.21564247\n348 : 0.17686138\n"
     ]
    },
    {
     "name": "stdout",
     "output_type": "stream",
     "text": [
      "349 : 0.14250553\n"
     ]
    },
    {
     "name": "stdout",
     "output_type": "stream",
     "text": [
      "350 : 0.19360897\n351 : 0.16480003\n"
     ]
    },
    {
     "name": "stdout",
     "output_type": "stream",
     "text": [
      "352 : 0.15939401\n"
     ]
    },
    {
     "name": "stdout",
     "output_type": "stream",
     "text": [
      "353 : 0.16601624\n354 : 0.16549453\n"
     ]
    },
    {
     "name": "stdout",
     "output_type": "stream",
     "text": [
      "355 : 0.16601707\n356 : 0.1924931\n"
     ]
    },
    {
     "name": "stdout",
     "output_type": "stream",
     "text": [
      "357 : 0.17000042\n358 : 0.14883445\n"
     ]
    },
    {
     "name": "stdout",
     "output_type": "stream",
     "text": [
      "359 : 0.1414828\n360"
     ]
    },
    {
     "name": "stdout",
     "output_type": "stream",
     "text": [
      " : 0.18825614\n"
     ]
    },
    {
     "name": "stdout",
     "output_type": "stream",
     "text": [
      "361 : 0.14909491\n362 : 0.14882185\n"
     ]
    },
    {
     "name": "stdout",
     "output_type": "stream",
     "text": [
      "363 : 0.12613475\n364 : 0.18254703\n"
     ]
    },
    {
     "name": "stdout",
     "output_type": "stream",
     "text": [
      "365 : 0.1697703\n"
     ]
    },
    {
     "name": "stdout",
     "output_type": "stream",
     "text": [
      "366 : 0.12848085\n367"
     ]
    },
    {
     "name": "stdout",
     "output_type": "stream",
     "text": [
      " : 0.14147371\n"
     ]
    },
    {
     "name": "stdout",
     "output_type": "stream",
     "text": [
      "368 : 0.21602735\n"
     ]
    },
    {
     "name": "stdout",
     "output_type": "stream",
     "text": [
      "369 : 0.13107306\n"
     ]
    },
    {
     "name": "stdout",
     "output_type": "stream",
     "text": [
      "370 : 0.108254306\n371 : 0.1579496\n"
     ]
    },
    {
     "name": "stdout",
     "output_type": "stream",
     "text": [
      "372 : 0.1631909\n373 : 0.17584473\n"
     ]
    },
    {
     "name": "stdout",
     "output_type": "stream",
     "text": [
      "374 : 0.1491352\n"
     ]
    },
    {
     "name": "stdout",
     "output_type": "stream",
     "text": [
      "375 : 0.16112834\n"
     ]
    },
    {
     "name": "stdout",
     "output_type": "stream",
     "text": [
      "376 : 0.15501057\n"
     ]
    },
    {
     "name": "stdout",
     "output_type": "stream",
     "text": [
      "377 : 0.17422706\n"
     ]
    },
    {
     "name": "stdout",
     "output_type": "stream",
     "text": [
      "378 : 0.16119063\n"
     ]
    },
    {
     "name": "stdout",
     "output_type": "stream",
     "text": [
      "379 : 0.1132967\n"
     ]
    },
    {
     "name": "stdout",
     "output_type": "stream",
     "text": [
      "380 : 0.17578807\n"
     ]
    },
    {
     "name": "stdout",
     "output_type": "stream",
     "text": [
      "381 : 0.11741868\n"
     ]
    },
    {
     "name": "stdout",
     "output_type": "stream",
     "text": [
      "382 : 0.15410474\n383"
     ]
    },
    {
     "name": "stdout",
     "output_type": "stream",
     "text": [
      " : 0.115864\n384"
     ]
    },
    {
     "name": "stdout",
     "output_type": "stream",
     "text": [
      " : 0.16167611\n"
     ]
    },
    {
     "name": "stdout",
     "output_type": "stream",
     "text": [
      "385 : 0.1307642\n386"
     ]
    },
    {
     "name": "stdout",
     "output_type": "stream",
     "text": [
      " : 0.12057106\n387 : 0.13724928\n"
     ]
    },
    {
     "name": "stdout",
     "output_type": "stream",
     "text": [
      "388 : 0.19056809\n389"
     ]
    },
    {
     "name": "stdout",
     "output_type": "stream",
     "text": [
      " : 0.122192614\n"
     ]
    },
    {
     "name": "stdout",
     "output_type": "stream",
     "text": [
      "390 : 0.13473396\n391"
     ]
    },
    {
     "name": "stdout",
     "output_type": "stream",
     "text": [
      " : 0.12611\n392"
     ]
    },
    {
     "name": "stdout",
     "output_type": "stream",
     "text": [
      " : 0.13698006\n"
     ]
    },
    {
     "name": "stdout",
     "output_type": "stream",
     "text": [
      "393 : 0.12520444\n394"
     ]
    },
    {
     "name": "stdout",
     "output_type": "stream",
     "text": [
      " : 0.13966478\n395 :"
     ]
    },
    {
     "name": "stdout",
     "output_type": "stream",
     "text": [
      " 0.12028929\n396 : 0.08115202\n397 : 0.17289375\n"
     ]
    },
    {
     "name": "stdout",
     "output_type": "stream",
     "text": [
      "398 : 0.121010534\n399"
     ]
    },
    {
     "name": "stdout",
     "output_type": "stream",
     "text": [
      " : 0.16420269\n400 : 0.1766406\n\n"
     ]
    },
    {
     "name": "stdout",
     "output_type": "stream",
     "text": [
      "Saving weights\n\nEpoch # :  5\n"
     ]
    },
    {
     "name": "stdout",
     "output_type": "stream",
     "text": [
      "401 : 0.15197049\n402 : 0.13378225\n"
     ]
    },
    {
     "name": "stdout",
     "output_type": "stream",
     "text": [
      "403 : 0.15281829\n404 : 0.17709719\n"
     ]
    },
    {
     "name": "stdout",
     "output_type": "stream",
     "text": [
      "405 : 0.13661525\n406 : 0.096494086\n"
     ]
    },
    {
     "name": "stdout",
     "output_type": "stream",
     "text": [
      "407 : 0.18895175\n408 : 0.18288521\n"
     ]
    },
    {
     "name": "stdout",
     "output_type": "stream",
     "text": [
      "409 : 0.1535454\n410 : 0.14978424\n"
     ]
    },
    {
     "name": "stdout",
     "output_type": "stream",
     "text": [
      "411 : 0.18356493\n412 : 0.124196246\n"
     ]
    },
    {
     "name": "stdout",
     "output_type": "stream",
     "text": [
      "413 : 0.113138735\n414 : 0.14847586\n"
     ]
    },
    {
     "name": "stdout",
     "output_type": "stream",
     "text": [
      "415 : 0.15149876\n416 : 0.13064922\n"
     ]
    },
    {
     "name": "stdout",
     "output_type": "stream",
     "text": [
      "417 : 0.14805412\n418 : 0.1669496\n"
     ]
    },
    {
     "name": "stdout",
     "output_type": "stream",
     "text": [
      "419 : 0.081941694\n420 : 0.18405396\n"
     ]
    },
    {
     "name": "stdout",
     "output_type": "stream",
     "text": [
      "421 : 0.123199254\n422 : 0.1309464\n"
     ]
    },
    {
     "name": "stdout",
     "output_type": "stream",
     "text": [
      "423 : 0.15731879\n424 : 0.18882759\n"
     ]
    },
    {
     "name": "stdout",
     "output_type": "stream",
     "text": [
      "425 : 0.13715102\n426 : 0.12817487\n"
     ]
    },
    {
     "name": "stdout",
     "output_type": "stream",
     "text": [
      "427 : 0.11223705\n428 : 0.118986264\n"
     ]
    },
    {
     "name": "stdout",
     "output_type": "stream",
     "text": [
      "429 : 0.15446672\n430 : 0.16728519\n"
     ]
    },
    {
     "name": "stdout",
     "output_type": "stream",
     "text": [
      "431 : 0.13747579\n432 : 0.17647927\n"
     ]
    },
    {
     "name": "stdout",
     "output_type": "stream",
     "text": [
      "433 : 0.15965556\n434 : 0.15521984\n"
     ]
    },
    {
     "name": "stdout",
     "output_type": "stream",
     "text": [
      "435 : 0.16095604\n436 : 0.17172581\n"
     ]
    },
    {
     "name": "stdout",
     "output_type": "stream",
     "text": [
      "437 : 0.14220399\n438 : 0.122825496\n"
     ]
    },
    {
     "name": "stdout",
     "output_type": "stream",
     "text": [
      "439 : 0.11685846\n440 : 0.16871645\n"
     ]
    },
    {
     "name": "stdout",
     "output_type": "stream",
     "text": [
      "441 : 0.15552805\n442 : 0.1340239\n"
     ]
    },
    {
     "name": "stdout",
     "output_type": "stream",
     "text": [
      "443 : 0.1349995\n444 : 0.14816949\n"
     ]
    },
    {
     "name": "stdout",
     "output_type": "stream",
     "text": [
      "445 : 0.11945558\n446 : 0.1494511\n"
     ]
    },
    {
     "name": "stdout",
     "output_type": "stream",
     "text": [
      "447 : 0.08515044\n448 : 0.10708694\n"
     ]
    },
    {
     "name": "stdout",
     "output_type": "stream",
     "text": [
      "449 : 0.08957674\n450 : 0.13689712\n"
     ]
    },
    {
     "name": "stdout",
     "output_type": "stream",
     "text": [
      "451 : 0.12711656\n452 : 0.10547689\n"
     ]
    },
    {
     "name": "stdout",
     "output_type": "stream",
     "text": [
      "453 : 0.15670979\n454 : 0.14418907\n"
     ]
    },
    {
     "name": "stdout",
     "output_type": "stream",
     "text": [
      "455 : 0.129047\n456 : 0.13010806\n"
     ]
    },
    {
     "name": "stdout",
     "output_type": "stream",
     "text": [
      "457 : 0.09756214\n458 : 0.1420194\n"
     ]
    },
    {
     "name": "stdout",
     "output_type": "stream",
     "text": [
      "459 : 0.16443928\n460 : 0.09934924\n"
     ]
    },
    {
     "name": "stdout",
     "output_type": "stream",
     "text": [
      "461 : 0.16382422\n462 : 0.12820221\n"
     ]
    },
    {
     "name": "stdout",
     "output_type": "stream",
     "text": [
      "463 : 0.13440724\n464 : 0.10266583\n"
     ]
    },
    {
     "name": "stdout",
     "output_type": "stream",
     "text": [
      "465 : 0.09560459\n466 : 0.11559576\n"
     ]
    },
    {
     "name": "stdout",
     "output_type": "stream",
     "text": [
      "467 : 0.13053097\n468 : 0.16898948\n"
     ]
    },
    {
     "name": "stdout",
     "output_type": "stream",
     "text": [
      "469 : 0.11483173\n470 : 0.14887832\n"
     ]
    },
    {
     "name": "stdout",
     "output_type": "stream",
     "text": [
      "471 : 0.1539184\n472 : 0.08048336\n"
     ]
    },
    {
     "name": "stdout",
     "output_type": "stream",
     "text": [
      "473 : 0.0857097\n474 : 0.12262388\n"
     ]
    },
    {
     "name": "stdout",
     "output_type": "stream",
     "text": [
      "475 : 0.112770885\n476 : 0.06983276\n"
     ]
    },
    {
     "name": "stdout",
     "output_type": "stream",
     "text": [
      "477 : 0.13397762\n478 : 0.09622431\n"
     ]
    },
    {
     "name": "stdout",
     "output_type": "stream",
     "text": [
      "479 : 0.13905868\n480 : 0.108339414\n"
     ]
    },
    {
     "name": "stdout",
     "output_type": "stream",
     "text": [
      "481 : 0.11325115\n482 : 0.10019961\n"
     ]
    },
    {
     "name": "stdout",
     "output_type": "stream",
     "text": [
      "483 : 0.09163653\n484 : 0.14794244\n"
     ]
    },
    {
     "name": "stdout",
     "output_type": "stream",
     "text": [
      "485 : 0.12756397\n486 : 0.08185114\n"
     ]
    },
    {
     "name": "stdout",
     "output_type": "stream",
     "text": [
      "487 : 0.115393765\n488 : 0.11416923\n"
     ]
    },
    {
     "name": "stdout",
     "output_type": "stream",
     "text": [
      "489 : 0.11289977\n490 : 0.12128005\n"
     ]
    },
    {
     "name": "stdout",
     "output_type": "stream",
     "text": [
      "491 : 0.116888806\n492"
     ]
    },
    {
     "name": "stdout",
     "output_type": "stream",
     "text": [
      " : 0.10293217\n493 : 0.11479988\n"
     ]
    },
    {
     "name": "stdout",
     "output_type": "stream",
     "text": [
      "494 : 0.099466175\n495 : 0.08507814\n"
     ]
    },
    {
     "name": "stdout",
     "output_type": "stream",
     "text": [
      "496 : 0.073563635\n"
     ]
    },
    {
     "name": "stdout",
     "output_type": "stream",
     "text": [
      "497 : 0.089378946\n498 : 0.09141354\n"
     ]
    },
    {
     "name": "stdout",
     "output_type": "stream",
     "text": [
      "499 : 0.10822956\n500 : 0.08505208\n\n"
     ]
    },
    {
     "name": "stdout",
     "output_type": "stream",
     "text": [
      "Saving weights\n\nEpoch # :  6\n501"
     ]
    },
    {
     "name": "stdout",
     "output_type": "stream",
     "text": [
      " : 0.069293715\n502 : 0.10578907\n"
     ]
    },
    {
     "name": "stdout",
     "output_type": "stream",
     "text": [
      "503 : 0.091613635\n504 : 0.066864125\n"
     ]
    },
    {
     "name": "stdout",
     "output_type": "stream",
     "text": [
      "505 : 0.13328281\n506 : 0.06497024\n"
     ]
    },
    {
     "name": "stdout",
     "output_type": "stream",
     "text": [
      "507 : 0.104907855\n508 : 0.09725441\n"
     ]
    },
    {
     "name": "stdout",
     "output_type": "stream",
     "text": [
      "509 : 0.06739021\n510 : 0.07607546\n"
     ]
    },
    {
     "name": "stdout",
     "output_type": "stream",
     "text": [
      "511 : 0.07719852\n512 : 0.06519877\n"
     ]
    },
    {
     "name": "stdout",
     "output_type": "stream",
     "text": [
      "513 : 0.08166614\n514 : 0.08557967\n"
     ]
    },
    {
     "name": "stdout",
     "output_type": "stream",
     "text": [
      "515 : 0.07692634\n516 : 0.06576989\n"
     ]
    },
    {
     "name": "stdout",
     "output_type": "stream",
     "text": [
      "517 : 0.05207384\n518 : 0.07377081\n"
     ]
    },
    {
     "name": "stdout",
     "output_type": "stream",
     "text": [
      "519 : 0.08558691\n520 : 0.06338585\n"
     ]
    },
    {
     "name": "stdout",
     "output_type": "stream",
     "text": [
      "521 : 0.07478403\n522 : 0.05711462\n"
     ]
    },
    {
     "name": "stdout",
     "output_type": "stream",
     "text": [
      "523 : 0.0658528\n524 : 0.061191402\n"
     ]
    },
    {
     "name": "stdout",
     "output_type": "stream",
     "text": [
      "525 : 0.05360418\n526 : 0.04981256\n"
     ]
    },
    {
     "name": "stdout",
     "output_type": "stream",
     "text": [
      "527 : 0.057684053\n528 : 0.063291386\n"
     ]
    },
    {
     "name": "stdout",
     "output_type": "stream",
     "text": [
      "529 : 0.06738666\n530 : 0.0554298\n"
     ]
    },
    {
     "name": "stdout",
     "output_type": "stream",
     "text": [
      "531 : 0.049198303\n532 : 0.07566271\n"
     ]
    },
    {
     "name": "stdout",
     "output_type": "stream",
     "text": [
      "533 : 0.07984219\n534 : 0.06544967\n"
     ]
    },
    {
     "name": "stdout",
     "output_type": "stream",
     "text": [
      "535 : 0.07315405\n536 : 0.0847258\n"
     ]
    },
    {
     "name": "stdout",
     "output_type": "stream",
     "text": [
      "537 : 0.062495653\n538 : 0.058947697\n"
     ]
    },
    {
     "name": "stdout",
     "output_type": "stream",
     "text": [
      "539 : 0.06351213\n540 : 0.056836367\n"
     ]
    },
    {
     "name": "stdout",
     "output_type": "stream",
     "text": [
      "541 : 0.099845655\n542 : 0.06681452\n"
     ]
    },
    {
     "name": "stdout",
     "output_type": "stream",
     "text": [
      "543 : 0.08044393\n544 : 0.06460344\n"
     ]
    },
    {
     "name": "stdout",
     "output_type": "stream",
     "text": [
      "545 : 0.05249507\n546 : 0.052269373\n"
     ]
    },
    {
     "name": "stdout",
     "output_type": "stream",
     "text": [
      "547 : 0.05495489\n548 : 0.058491066\n"
     ]
    },
    {
     "name": "stdout",
     "output_type": "stream",
     "text": [
      "549 : 0.065151446\n550 : 0.06941429\n"
     ]
    },
    {
     "name": "stdout",
     "output_type": "stream",
     "text": [
      "551 : 0.04829691\n552 : 0.06600593\n"
     ]
    },
    {
     "name": "stdout",
     "output_type": "stream",
     "text": [
      "553 : 0.07399958\n554 : 0.06291454\n"
     ]
    },
    {
     "name": "stdout",
     "output_type": "stream",
     "text": [
      "555 : 0.08226039\n556 : 0.050521515\n"
     ]
    },
    {
     "name": "stdout",
     "output_type": "stream",
     "text": [
      "557 : 0.06874852\n558 : 0.048835773\n"
     ]
    },
    {
     "name": "stdout",
     "output_type": "stream",
     "text": [
      "559 : 0.079564415\n560 : 0.059467662\n"
     ]
    },
    {
     "name": "stdout",
     "output_type": "stream",
     "text": [
      "561 : 0.08160885\n562 : 0.048336487\n"
     ]
    },
    {
     "name": "stdout",
     "output_type": "stream",
     "text": [
      "563 : 0.061923627\n564 : 0.041441575\n"
     ]
    },
    {
     "name": "stdout",
     "output_type": "stream",
     "text": [
      "565 : 0.06470303\n566 : 0.042430006\n"
     ]
    },
    {
     "name": "stdout",
     "output_type": "stream",
     "text": [
      "567 : 0.053933248\n568 : 0.06300385\n"
     ]
    },
    {
     "name": "stdout",
     "output_type": "stream",
     "text": [
      "569 : 0.06907927\n570 : 0.053334303\n"
     ]
    },
    {
     "name": "stdout",
     "output_type": "stream",
     "text": [
      "571 : 0.06253871\n572 : 0.042707585\n"
     ]
    },
    {
     "name": "stdout",
     "output_type": "stream",
     "text": [
      "573 : 0.056704096\n574 : 0.052638218\n"
     ]
    },
    {
     "name": "stdout",
     "output_type": "stream",
     "text": [
      "575 : 0.055826154\n576 : 0.047564343\n"
     ]
    },
    {
     "name": "stdout",
     "output_type": "stream",
     "text": [
      "577 : 0.062947586\n578 : 0.06350876\n"
     ]
    },
    {
     "name": "stdout",
     "output_type": "stream",
     "text": [
      "579 : 0.054984555\n580 : 0.05601598\n"
     ]
    },
    {
     "name": "stdout",
     "output_type": "stream",
     "text": [
      "581 : 0.051924925\n582 : 0.06668033\n"
     ]
    },
    {
     "name": "stdout",
     "output_type": "stream",
     "text": [
      "583 : 0.044050455\n584 : 0.07805016\n"
     ]
    },
    {
     "name": "stdout",
     "output_type": "stream",
     "text": [
      "585 : 0.042617742\n586 : 0.066679664\n"
     ]
    },
    {
     "name": "stdout",
     "output_type": "stream",
     "text": [
      "587 : 0.0683327\n588 : 0.07937528\n"
     ]
    },
    {
     "name": "stdout",
     "output_type": "stream",
     "text": [
      "589 : 0.048178982\n590 : 0.08115402\n"
     ]
    },
    {
     "name": "stdout",
     "output_type": "stream",
     "text": [
      "591 : 0.056167822\n592 : 0.050994396\n"
     ]
    },
    {
     "name": "stdout",
     "output_type": "stream",
     "text": [
      "593 : 0.06042539\n594 : 0.054591384\n"
     ]
    },
    {
     "name": "stdout",
     "output_type": "stream",
     "text": [
      "595 : 0.0502483\n596 : 0.06566024\n"
     ]
    },
    {
     "name": "stdout",
     "output_type": "stream",
     "text": [
      "597 : 0.03916175\n598 : 0.052660875\n"
     ]
    },
    {
     "name": "stdout",
     "output_type": "stream",
     "text": [
      "599 : 0.041440967\n600 : 0.05469115\n\n"
     ]
    },
    {
     "name": "stdout",
     "output_type": "stream",
     "text": [
      "Saving weights\n\nEpoch # :  7\n"
     ]
    },
    {
     "name": "stdout",
     "output_type": "stream",
     "text": [
      "601 : 0.041439846\n602 : 0.046232942\n"
     ]
    },
    {
     "name": "stdout",
     "output_type": "stream",
     "text": [
      "603 : 0.03984015\n604 : 0.050228506\n"
     ]
    },
    {
     "name": "stdout",
     "output_type": "stream",
     "text": [
      "605 : 0.051855255\n606 : 0.05332586\n"
     ]
    },
    {
     "name": "stdout",
     "output_type": "stream",
     "text": [
      "607 : 0.04681224\n608 : 0.044613093\n"
     ]
    },
    {
     "name": "stdout",
     "output_type": "stream",
     "text": [
      "609 : 0.035331715\n610 : 0.04591154\n"
     ]
    },
    {
     "name": "stdout",
     "output_type": "stream",
     "text": [
      "611 : 0.03143496\n612 : 0.0481059\n"
     ]
    },
    {
     "name": "stdout",
     "output_type": "stream",
     "text": [
      "613 : 0.04735215\n614 : 0.053161666\n"
     ]
    },
    {
     "name": "stdout",
     "output_type": "stream",
     "text": [
      "615 : 0.044266626\n616 : 0.04289397\n"
     ]
    },
    {
     "name": "stdout",
     "output_type": "stream",
     "text": [
      "617 : 0.04876983\n618 : 0.04817506\n"
     ]
    },
    {
     "name": "stdout",
     "output_type": "stream",
     "text": [
      "619 : 0.048061743\n620 : 0.04336541\n"
     ]
    },
    {
     "name": "stdout",
     "output_type": "stream",
     "text": [
      "621 : 0.04130238\n622 : 0.04436686\n"
     ]
    },
    {
     "name": "stdout",
     "output_type": "stream",
     "text": [
      "623 : 0.037688587\n624 : 0.04950376\n"
     ]
    },
    {
     "name": "stdout",
     "output_type": "stream",
     "text": [
      "625 : 0.022705398\n626 : 0.05092592\n"
     ]
    },
    {
     "name": "stdout",
     "output_type": "stream",
     "text": [
      "627 : 0.04866819\n628 : 0.037487265\n"
     ]
    },
    {
     "name": "stdout",
     "output_type": "stream",
     "text": [
      "629 : 0.06814576\n630 : 0.03727596\n"
     ]
    },
    {
     "name": "stdout",
     "output_type": "stream",
     "text": [
      "631 : 0.056108665\n632 : 0.047742277\n"
     ]
    },
    {
     "name": "stdout",
     "output_type": "stream",
     "text": [
      "633 : 0.05197091\n634 : 0.042601604\n"
     ]
    },
    {
     "name": "stdout",
     "output_type": "stream",
     "text": [
      "635 : 0.04380659\n636 : 0.04899147\n"
     ]
    },
    {
     "name": "stdout",
     "output_type": "stream",
     "text": [
      "637 : 0.067419976\n638 : 0.03222012\n"
     ]
    },
    {
     "name": "stdout",
     "output_type": "stream",
     "text": [
      "639 : 0.04956126\n640 : 0.038642094\n"
     ]
    },
    {
     "name": "stdout",
     "output_type": "stream",
     "text": [
      "641 : 0.028166091\n642"
     ]
    },
    {
     "name": "stdout",
     "output_type": "stream",
     "text": [
      " : 0.06857498\n643 : 0.034645647\n"
     ]
    },
    {
     "name": "stdout",
     "output_type": "stream",
     "text": [
      "644 : 0.034372948\n645 : 0.03768577\n"
     ]
    },
    {
     "name": "stdout",
     "output_type": "stream",
     "text": [
      "646 : 0.031247787\n647 : 0.0401386\n"
     ]
    },
    {
     "name": "stdout",
     "output_type": "stream",
     "text": [
      "648 : 0.033139173\n"
     ]
    },
    {
     "name": "stdout",
     "output_type": "stream",
     "text": [
      "649 : 0.031720005\n650 : 0.020832801\n"
     ]
    },
    {
     "name": "stdout",
     "output_type": "stream",
     "text": [
      "651 : 0.026312608\n652 : 0.04248183\n"
     ]
    },
    {
     "name": "stdout",
     "output_type": "stream",
     "text": [
      "653 : 0.02665153\n654 : 0.030700445\n"
     ]
    },
    {
     "name": "stdout",
     "output_type": "stream",
     "text": [
      "655 : 0.024023468\n656 : 0.027774904\n"
     ]
    },
    {
     "name": "stdout",
     "output_type": "stream",
     "text": [
      "657 : 0.028906433\n658 : 0.02892302\n"
     ]
    },
    {
     "name": "stdout",
     "output_type": "stream",
     "text": [
      "659 : 0.032491043\n660 : 0.017954463\n"
     ]
    },
    {
     "name": "stdout",
     "output_type": "stream",
     "text": [
      "661 : 0.024146516\n662 : 0.029904451\n"
     ]
    },
    {
     "name": "stdout",
     "output_type": "stream",
     "text": [
      "663 : 0.036750007\n664 : 0.02395837\n"
     ]
    },
    {
     "name": "stdout",
     "output_type": "stream",
     "text": [
      "665 : 0.027062295\n666 : 0.02073616\n"
     ]
    },
    {
     "name": "stdout",
     "output_type": "stream",
     "text": [
      "667 : 0.032016814\n668 : 0.022456747\n"
     ]
    },
    {
     "name": "stdout",
     "output_type": "stream",
     "text": [
      "669 : 0.023033243\n670 : 0.02679782\n"
     ]
    },
    {
     "name": "stdout",
     "output_type": "stream",
     "text": [
      "671 : 0.032024406\n672 : 0.03308885\n"
     ]
    },
    {
     "name": "stdout",
     "output_type": "stream",
     "text": [
      "673 : 0.02417243\n674 : 0.040474385\n"
     ]
    },
    {
     "name": "stdout",
     "output_type": "stream",
     "text": [
      "675 : 0.036072813\n676 : 0.034477882\n"
     ]
    },
    {
     "name": "stdout",
     "output_type": "stream",
     "text": [
      "677 : 0.040182646\n678 : 0.016068218\n"
     ]
    },
    {
     "name": "stdout",
     "output_type": "stream",
     "text": [
      "679 : 0.035703767\n680 : 0.021527782\n"
     ]
    },
    {
     "name": "stdout",
     "output_type": "stream",
     "text": [
      "681 : 0.03252659\n682 : 0.05660139\n"
     ]
    },
    {
     "name": "stdout",
     "output_type": "stream",
     "text": [
      "683 : 0.032539725\n684 : 0.057534713\n"
     ]
    },
    {
     "name": "stdout",
     "output_type": "stream",
     "text": [
      "685 : 0.0344289\n686 : 0.02859387\n"
     ]
    },
    {
     "name": "stdout",
     "output_type": "stream",
     "text": [
      "687 : 0.05887813\n688 : 0.018142594\n"
     ]
    },
    {
     "name": "stdout",
     "output_type": "stream",
     "text": [
      "689 : 0.04528752\n690 : 0.03539994\n"
     ]
    },
    {
     "name": "stdout",
     "output_type": "stream",
     "text": [
      "691 : 0.027390957\n692 : 0.05250129\n"
     ]
    },
    {
     "name": "stdout",
     "output_type": "stream",
     "text": [
      "693 : 0.034107115\n694 : 0.034082297\n"
     ]
    },
    {
     "name": "stdout",
     "output_type": "stream",
     "text": [
      "695 : 0.041782178\n696 : 0.024494719\n"
     ]
    },
    {
     "name": "stdout",
     "output_type": "stream",
     "text": [
      "697 : 0.033270426\n698 : 0.036992703\n"
     ]
    },
    {
     "name": "stdout",
     "output_type": "stream",
     "text": [
      "699 : 0.018612351\n700 : 0.028702423\n\n"
     ]
    },
    {
     "name": "stdout",
     "output_type": "stream",
     "text": [
      "Saving weights\n\nEpoch # :  8\n701 : 0.02702353\n"
     ]
    },
    {
     "name": "stdout",
     "output_type": "stream",
     "text": [
      "702 : 0.014002624\n703 : 0.02444316\n"
     ]
    },
    {
     "name": "stdout",
     "output_type": "stream",
     "text": [
      "704 : 0.021080578\n"
     ]
    },
    {
     "name": "stdout",
     "output_type": "stream",
     "text": [
      "705 : 0.018750038\n706 : 0.021868639\n"
     ]
    },
    {
     "name": "stdout",
     "output_type": "stream",
     "text": [
      "707 : 0.022204481\n708 : 0.017288966\n"
     ]
    },
    {
     "name": "stdout",
     "output_type": "stream",
     "text": [
      "709 : 0.019015089\n710 : 0.016730616\n"
     ]
    },
    {
     "name": "stdout",
     "output_type": "stream",
     "text": [
      "711 : 0.02371124\n712 : 0.02222113\n"
     ]
    },
    {
     "name": "stdout",
     "output_type": "stream",
     "text": [
      "713 : 0.023729052\n714 : 0.0230922\n"
     ]
    },
    {
     "name": "stdout",
     "output_type": "stream",
     "text": [
      "715 : 0.024243595\n716 : 0.010098998\n"
     ]
    },
    {
     "name": "stdout",
     "output_type": "stream",
     "text": [
      "717 : 0.013166981\n718 : 0.017533317\n"
     ]
    },
    {
     "name": "stdout",
     "output_type": "stream",
     "text": [
      "719 : 0.018744415\n720 : 0.024562402\n"
     ]
    },
    {
     "name": "stdout",
     "output_type": "stream",
     "text": [
      "721 : 0.020151816\n722 : 0.017487563\n"
     ]
    },
    {
     "name": "stdout",
     "output_type": "stream",
     "text": [
      "723 : 0.015773008\n724 : 0.014746145\n"
     ]
    },
    {
     "name": "stdout",
     "output_type": "stream",
     "text": [
      "725 : 0.018279273\n726 : 0.028086534\n"
     ]
    },
    {
     "name": "stdout",
     "output_type": "stream",
     "text": [
      "727 : 0.017874818\n728 : 0.024570374\n"
     ]
    },
    {
     "name": "stdout",
     "output_type": "stream",
     "text": [
      "729 : 0.019041017\n730 : 0.028905777\n"
     ]
    },
    {
     "name": "stdout",
     "output_type": "stream",
     "text": [
      "731 : 0.02110329\n732 : 0.014131172\n"
     ]
    },
    {
     "name": "stdout",
     "output_type": "stream",
     "text": [
      "733 : 0.01937785\n734 : 0.022271853\n"
     ]
    },
    {
     "name": "stdout",
     "output_type": "stream",
     "text": [
      "735 : 0.015826356\n736 : 0.020285439\n"
     ]
    },
    {
     "name": "stdout",
     "output_type": "stream",
     "text": [
      "737 : 0.01585445\n738 : 0.01774655\n"
     ]
    },
    {
     "name": "stdout",
     "output_type": "stream",
     "text": [
      "739 : 0.019587833\n740 : 0.011868105\n"
     ]
    },
    {
     "name": "stdout",
     "output_type": "stream",
     "text": [
      "741 : 0.016448103\n742 : 0.017067133\n"
     ]
    },
    {
     "name": "stdout",
     "output_type": "stream",
     "text": [
      "743 : 0.023632808\n744 : 0.017648496\n"
     ]
    },
    {
     "name": "stdout",
     "output_type": "stream",
     "text": [
      "745 : 0.021532422\n746 : 0.019318597\n"
     ]
    },
    {
     "name": "stdout",
     "output_type": "stream",
     "text": [
      "747 : 0.023708472\n748 : 0.018883929\n"
     ]
    },
    {
     "name": "stdout",
     "output_type": "stream",
     "text": [
      "749 : 0.019081559\n750 : 0.025206046\n"
     ]
    },
    {
     "name": "stdout",
     "output_type": "stream",
     "text": [
      "751 : 0.016531827\n752 : 0.023219097\n"
     ]
    },
    {
     "name": "stdout",
     "output_type": "stream",
     "text": [
      "753 : 0.016901886\n754 : 0.021113921\n"
     ]
    },
    {
     "name": "stdout",
     "output_type": "stream",
     "text": [
      "755 : 0.0155975595\n756 : 0.011947424\n"
     ]
    },
    {
     "name": "stdout",
     "output_type": "stream",
     "text": [
      "757 : 0.0214095\n758 : 0.02123854\n"
     ]
    },
    {
     "name": "stdout",
     "output_type": "stream",
     "text": [
      "759 : 0.013500904\n760 : 0.025345998\n"
     ]
    },
    {
     "name": "stdout",
     "output_type": "stream",
     "text": [
      "761 : 0.01744945\n762 : 0.01569806\n"
     ]
    },
    {
     "name": "stdout",
     "output_type": "stream",
     "text": [
      "763 : 0.011885681\n764 : 0.020290615\n"
     ]
    },
    {
     "name": "stdout",
     "output_type": "stream",
     "text": [
      "765 : 0.016119568\n766 : 0.010971039\n"
     ]
    },
    {
     "name": "stdout",
     "output_type": "stream",
     "text": [
      "767 : 0.021215437\n768 : 0.016490279\n"
     ]
    },
    {
     "name": "stdout",
     "output_type": "stream",
     "text": [
      "769 : 0.019432083\n770 : 0.01661498\n"
     ]
    },
    {
     "name": "stdout",
     "output_type": "stream",
     "text": [
      "771 : 0.0189452\n772 : 0.023697263\n"
     ]
    },
    {
     "name": "stdout",
     "output_type": "stream",
     "text": [
      "773 : 0.017829724\n774 : 0.008294834\n"
     ]
    },
    {
     "name": "stdout",
     "output_type": "stream",
     "text": [
      "775 : 0.022505034\n776 : 0.017726619\n"
     ]
    },
    {
     "name": "stdout",
     "output_type": "stream",
     "text": [
      "777 : 0.016067294\n778 : 0.016965626\n"
     ]
    },
    {
     "name": "stdout",
     "output_type": "stream",
     "text": [
      "779 : 0.021295303\n780 : 0.014807629\n"
     ]
    },
    {
     "name": "stdout",
     "output_type": "stream",
     "text": [
      "781 : 0.026293088\n782 : 0.023869352\n"
     ]
    },
    {
     "name": "stdout",
     "output_type": "stream",
     "text": [
      "783 : 0.02665699\n784 : 0.015875228\n"
     ]
    },
    {
     "name": "stdout",
     "output_type": "stream",
     "text": [
      "785 : 0.02459177\n786 : 0.017835952\n"
     ]
    },
    {
     "name": "stdout",
     "output_type": "stream",
     "text": [
      "787 : 0.014164188\n788 : 0.027498636\n"
     ]
    },
    {
     "name": "stdout",
     "output_type": "stream",
     "text": [
      "789 : 0.016721308\n790 : 0.015938718\n"
     ]
    },
    {
     "name": "stdout",
     "output_type": "stream",
     "text": [
      "791 : 0.023103526\n792 : 0.019169789\n"
     ]
    },
    {
     "name": "stdout",
     "output_type": "stream",
     "text": [
      "793 : 0.023055263\n794 : 0.01835302\n"
     ]
    },
    {
     "name": "stdout",
     "output_type": "stream",
     "text": [
      "795 : 0.012493304\n796 : 0.023566231\n"
     ]
    },
    {
     "name": "stdout",
     "output_type": "stream",
     "text": [
      "797 : 0.020593166\n798 : 0.02302548\n"
     ]
    },
    {
     "name": "stdout",
     "output_type": "stream",
     "text": [
      "799 : 0.021364253\n800 : 0.02632725\n\n"
     ]
    },
    {
     "name": "stdout",
     "output_type": "stream",
     "text": [
      "Saving weights\n\nEpoch # :  9\n"
     ]
    },
    {
     "name": "stdout",
     "output_type": "stream",
     "text": [
      "801 : 0.012144689\n802 : 0.021969538\n"
     ]
    },
    {
     "name": "stdout",
     "output_type": "stream",
     "text": [
      "803 : 0.018669523\n804 : 0.018257637\n"
     ]
    },
    {
     "name": "stdout",
     "output_type": "stream",
     "text": [
      "805 : 0.02421519\n806 : 0.024318585\n"
     ]
    },
    {
     "name": "stdout",
     "output_type": "stream",
     "text": [
      "807 : 0.020420983\n808 : 0.010221038\n"
     ]
    },
    {
     "name": "stdout",
     "output_type": "stream",
     "text": [
      "809 : 0.021923276\n810 : 0.012339222\n"
     ]
    },
    {
     "name": "stdout",
     "output_type": "stream",
     "text": [
      "811 : 0.021437183\n812 : 0.020779459\n"
     ]
    },
    {
     "name": "stdout",
     "output_type": "stream",
     "text": [
      "813 : 0.012053227\n814 : 0.018199084\n"
     ]
    },
    {
     "name": "stdout",
     "output_type": "stream",
     "text": [
      "815 : 0.011400741\n816 : 0.01236902\n"
     ]
    },
    {
     "name": "stdout",
     "output_type": "stream",
     "text": [
      "817 : 0.010120714\n818 : 0.013969452\n"
     ]
    },
    {
     "name": "stdout",
     "output_type": "stream",
     "text": [
      "819 : 0.017219124\n820 : 0.015326751\n"
     ]
    },
    {
     "name": "stdout",
     "output_type": "stream",
     "text": [
      "821 : 0.020597873\n822 : 0.018005667\n"
     ]
    },
    {
     "name": "stdout",
     "output_type": "stream",
     "text": [
      "823 : 0.02245377\n824 : 0.014368331\n"
     ]
    },
    {
     "name": "stdout",
     "output_type": "stream",
     "text": [
      "825 : 0.031000033\n826 : 0.016904952\n"
     ]
    },
    {
     "name": "stdout",
     "output_type": "stream",
     "text": [
      "827 : 0.031646673\n828 : 0.032851815\n"
     ]
    },
    {
     "name": "stdout",
     "output_type": "stream",
     "text": [
      "829 : 0.017661832\n830 : 0.033717744\n"
     ]
    },
    {
     "name": "stdout",
     "output_type": "stream",
     "text": [
      "831 : 0.012044613\n832 : 0.02663999\n"
     ]
    },
    {
     "name": "stdout",
     "output_type": "stream",
     "text": [
      "833 : 0.014198474\n834 : 0.0169551\n"
     ]
    },
    {
     "name": "stdout",
     "output_type": "stream",
     "text": [
      "835 : 0.018859942\n836 : 0.017868705\n"
     ]
    },
    {
     "name": "stdout",
     "output_type": "stream",
     "text": [
      "837 : 0.019282877\n838 : 0.018924763\n"
     ]
    },
    {
     "name": "stdout",
     "output_type": "stream",
     "text": [
      "839 : 0.019194888\n840 : 0.023630224\n"
     ]
    },
    {
     "name": "stdout",
     "output_type": "stream",
     "text": [
      "841 : 0.015664384\n842 : 0.018490683\n"
     ]
    },
    {
     "name": "stdout",
     "output_type": "stream",
     "text": [
      "843 : 0.019811748\n844 : 0.021178212\n"
     ]
    },
    {
     "name": "stdout",
     "output_type": "stream",
     "text": [
      "845 : 0.021488933\n846 : 0.024084987\n"
     ]
    },
    {
     "name": "stdout",
     "output_type": "stream",
     "text": [
      "847 : 0.014982278\n848 : 0.019473001\n"
     ]
    },
    {
     "name": "stdout",
     "output_type": "stream",
     "text": [
      "849 : 0.015390527\n850 : 0.014729774\n"
     ]
    },
    {
     "name": "stdout",
     "output_type": "stream",
     "text": [
      "851 : 0.01414384\n852 : 0.009720401\n"
     ]
    },
    {
     "name": "stdout",
     "output_type": "stream",
     "text": [
      "853 : 0.018830784\n854 : 0.017744428\n"
     ]
    },
    {
     "name": "stdout",
     "output_type": "stream",
     "text": [
      "855 : 0.016262185\n856"
     ]
    },
    {
     "name": "stdout",
     "output_type": "stream",
     "text": [
      " : 0.022299245\n"
     ]
    },
    {
     "name": "stdout",
     "output_type": "stream",
     "text": [
      "857 : 0.017834025\n858 : 0.0139529435\n"
     ]
    },
    {
     "name": "stdout",
     "output_type": "stream",
     "text": [
      "859 : 0.014881597\n860 : 0.0138254585\n"
     ]
    },
    {
     "name": "stdout",
     "output_type": "stream",
     "text": [
      "861 : 0.009610896\n862 : 0.023048783\n"
     ]
    },
    {
     "name": "stdout",
     "output_type": "stream",
     "text": [
      "863 : 0.01763593\n864 : 0.016210172\n"
     ]
    },
    {
     "name": "stdout",
     "output_type": "stream",
     "text": [
      "865 : 0.0135910055\n866 : 0.014613352\n"
     ]
    },
    {
     "name": "stdout",
     "output_type": "stream",
     "text": [
      "867 : 0.010658455\n868 : 0.01357085\n"
     ]
    },
    {
     "name": "stdout",
     "output_type": "stream",
     "text": [
      "869 : 0.018297963\n870 : 0.016050408\n"
     ]
    },
    {
     "name": "stdout",
     "output_type": "stream",
     "text": [
      "871 : 0.0150260925\n872 : 0.023191867\n"
     ]
    },
    {
     "name": "stdout",
     "output_type": "stream",
     "text": [
      "873 : 0.01949325\n874 : 0.0133226765\n"
     ]
    },
    {
     "name": "stdout",
     "output_type": "stream",
     "text": [
      "875 : 0.019906983\n876 : 0.013182271\n"
     ]
    },
    {
     "name": "stdout",
     "output_type": "stream",
     "text": [
      "877 : 0.017442219\n878 : 0.015668424\n"
     ]
    },
    {
     "name": "stdout",
     "output_type": "stream",
     "text": [
      "879 : 0.014447076\n880 : 0.01898337\n"
     ]
    },
    {
     "name": "stdout",
     "output_type": "stream",
     "text": [
      "881 : 0.015271635\n882 : 0.016754035\n"
     ]
    },
    {
     "name": "stdout",
     "output_type": "stream",
     "text": [
      "883 : 0.013357544\n884 : 0.012483958\n"
     ]
    },
    {
     "name": "stdout",
     "output_type": "stream",
     "text": [
      "885 : 0.009928305\n886 : 0.012434965\n"
     ]
    },
    {
     "name": "stdout",
     "output_type": "stream",
     "text": [
      "887 : 0.018889291\n888 : 0.016825048\n"
     ]
    },
    {
     "name": "stdout",
     "output_type": "stream",
     "text": [
      "889 : 0.008681259\n890 : 0.019221537\n"
     ]
    },
    {
     "name": "stdout",
     "output_type": "stream",
     "text": [
      "891 : 0.01603935\n892 : 0.018575924\n"
     ]
    },
    {
     "name": "stdout",
     "output_type": "stream",
     "text": [
      "893 : 0.037076898\n894 : 0.012639243\n"
     ]
    },
    {
     "name": "stdout",
     "output_type": "stream",
     "text": [
      "895 : 0.04325118\n896 : 0.024188245\n"
     ]
    },
    {
     "name": "stdout",
     "output_type": "stream",
     "text": [
      "897 : 0.017682826\n898 : 0.020115826\n"
     ]
    },
    {
     "name": "stdout",
     "output_type": "stream",
     "text": [
      "899 : 0.020209868\n900 : 0.011096585\n\n"
     ]
    },
    {
     "name": "stdout",
     "output_type": "stream",
     "text": [
      "Saving weights\n\nEpoch # :  10\n901 : 0.018660523\n"
     ]
    },
    {
     "name": "stdout",
     "output_type": "stream",
     "text": [
      "902 : 0.023436151\n903 : 0.020422306\n"
     ]
    },
    {
     "name": "stdout",
     "output_type": "stream",
     "text": [
      "904 : 0.012974851\n"
     ]
    },
    {
     "name": "stdout",
     "output_type": "stream",
     "text": [
      "905 : 0.019302223\n906 : 0.018483704\n"
     ]
    },
    {
     "name": "stdout",
     "output_type": "stream",
     "text": [
      "907 : 0.0094721485\n908 : 0.014757791\n"
     ]
    },
    {
     "name": "stdout",
     "output_type": "stream",
     "text": [
      "909 : 0.017632108\n910 : 0.023749514\n"
     ]
    },
    {
     "name": "stdout",
     "output_type": "stream",
     "text": [
      "911 : 0.016331775\n912 : 0.017452583\n"
     ]
    },
    {
     "name": "stdout",
     "output_type": "stream",
     "text": [
      "913 : 0.013443633\n914 : 0.017618528\n"
     ]
    },
    {
     "name": "stdout",
     "output_type": "stream",
     "text": [
      "915 : 0.02246584\n916 : 0.020524792\n"
     ]
    },
    {
     "name": "stdout",
     "output_type": "stream",
     "text": [
      "917 : 0.012854662\n918"
     ]
    },
    {
     "name": "stdout",
     "output_type": "stream",
     "text": [
      " : 0.03331028\n919 : 0.010226913\n"
     ]
    },
    {
     "name": "stdout",
     "output_type": "stream",
     "text": [
      "920 : 0.015002587\n"
     ]
    },
    {
     "name": "stdout",
     "output_type": "stream",
     "text": [
      "921 : 0.025855165\n922"
     ]
    },
    {
     "name": "stdout",
     "output_type": "stream",
     "text": [
      " : 0.017893918\n923 : 0.014592928\n"
     ]
    },
    {
     "name": "stdout",
     "output_type": "stream",
     "text": [
      "924 : 0.021368204\n925 : 0.017633224\n"
     ]
    },
    {
     "name": "stdout",
     "output_type": "stream",
     "text": [
      "926 : 0.011746512\n927 : 0.021985283\n"
     ]
    },
    {
     "name": "stdout",
     "output_type": "stream",
     "text": [
      "928 : 0.01631511\n"
     ]
    },
    {
     "name": "stdout",
     "output_type": "stream",
     "text": [
      "929 : 0.010333984\n930 : 0.010262552\n"
     ]
    },
    {
     "name": "stdout",
     "output_type": "stream",
     "text": [
      "931 : 0.016359454\n932 : 0.014762308\n"
     ]
    },
    {
     "name": "stdout",
     "output_type": "stream",
     "text": [
      "933 : 0.010311926\n934 : 0.013914411\n"
     ]
    },
    {
     "name": "stdout",
     "output_type": "stream",
     "text": [
      "935 : 0.011044102\n936 : 0.0129837105\n"
     ]
    },
    {
     "name": "stdout",
     "output_type": "stream",
     "text": [
      "937 : 0.012697223\n938 : 0.017520668\n"
     ]
    },
    {
     "name": "stdout",
     "output_type": "stream",
     "text": [
      "939 : 0.020861344\n940 : 0.016407872\n"
     ]
    },
    {
     "name": "stdout",
     "output_type": "stream",
     "text": [
      "941 : 0.01827773\n942 : 0.012268904\n"
     ]
    },
    {
     "name": "stdout",
     "output_type": "stream",
     "text": [
      "943 : 0.016127765\n944 : 0.011566348\n"
     ]
    },
    {
     "name": "stdout",
     "output_type": "stream",
     "text": [
      "945 : 0.013481025\n946 : 0.015919277\n"
     ]
    },
    {
     "name": "stdout",
     "output_type": "stream",
     "text": [
      "947 : 0.011427705\n948 : 0.007901485\n"
     ]
    },
    {
     "name": "stdout",
     "output_type": "stream",
     "text": [
      "949 : 0.015871689\n950"
     ]
    },
    {
     "name": "stdout",
     "output_type": "stream",
     "text": [
      " : 0.013263435\n951 : 0.017574826\n"
     ]
    },
    {
     "name": "stdout",
     "output_type": "stream",
     "text": [
      "952 : 0.01395469\n"
     ]
    },
    {
     "name": "stdout",
     "output_type": "stream",
     "text": [
      "953 : 0.012412896\n954 : 0.020395404\n"
     ]
    },
    {
     "name": "stdout",
     "output_type": "stream",
     "text": [
      "955 : 0.014286202\n956 : 0.012992325\n"
     ]
    },
    {
     "name": "stdout",
     "output_type": "stream",
     "text": [
      "957 : 0.013233131\n958 : 0.013650877\n"
     ]
    },
    {
     "name": "stdout",
     "output_type": "stream",
     "text": [
      "959 : 0.016537553\n960 : 0.016890349\n"
     ]
    },
    {
     "name": "stdout",
     "output_type": "stream",
     "text": [
      "961 : 0.012278471\n962 : 0.013373372\n"
     ]
    },
    {
     "name": "stdout",
     "output_type": "stream",
     "text": [
      "963 : 0.009354684\n964 : 0.010743004\n"
     ]
    },
    {
     "name": "stdout",
     "output_type": "stream",
     "text": [
      "965 : 0.019569186\n966 : 0.018581277\n"
     ]
    },
    {
     "name": "stdout",
     "output_type": "stream",
     "text": [
      "967 : 0.018475642\n968 : 0.012160343\n"
     ]
    },
    {
     "name": "stdout",
     "output_type": "stream",
     "text": [
      "969 : 0.012117587\n970 : 0.013282405\n"
     ]
    },
    {
     "name": "stdout",
     "output_type": "stream",
     "text": [
      "971 : 0.021491313\n972 : 0.012178303\n"
     ]
    },
    {
     "name": "stdout",
     "output_type": "stream",
     "text": [
      "973 : 0.014342352\n974 : 0.018429685\n"
     ]
    },
    {
     "name": "stdout",
     "output_type": "stream",
     "text": [
      "975 : 0.010699254\n976 : 0.011105149\n"
     ]
    },
    {
     "name": "stdout",
     "output_type": "stream",
     "text": [
      "977 : 0.021861758\n978 : 0.01207587\n"
     ]
    },
    {
     "name": "stdout",
     "output_type": "stream",
     "text": [
      "979 : 0.011735147\n980 : 0.020310225\n"
     ]
    },
    {
     "name": "stdout",
     "output_type": "stream",
     "text": [
      "981 : 0.016673716\n982 : 0.020663625\n"
     ]
    },
    {
     "name": "stdout",
     "output_type": "stream",
     "text": [
      "983 : 0.027488561\n984 : 0.017123748\n"
     ]
    },
    {
     "name": "stdout",
     "output_type": "stream",
     "text": [
      "985 : 0.021256432\n986 : 0.023598\n"
     ]
    },
    {
     "name": "stdout",
     "output_type": "stream",
     "text": [
      "987 : 0.017707923\n988 : 0.018361391\n"
     ]
    },
    {
     "name": "stdout",
     "output_type": "stream",
     "text": [
      "989 : 0.017040992\n990 : 0.0145074865\n"
     ]
    },
    {
     "name": "stdout",
     "output_type": "stream",
     "text": [
      "991 : 0.011934569\n992 : 0.022113957\n"
     ]
    },
    {
     "name": "stdout",
     "output_type": "stream",
     "text": [
      "993 : 0.026698379\n994 : 0.01746341\n"
     ]
    },
    {
     "name": "stdout",
     "output_type": "stream",
     "text": [
      "995 : 0.024781022\n996 : 0.016044661\n"
     ]
    },
    {
     "name": "stdout",
     "output_type": "stream",
     "text": [
      "997 : 0.011120651\n998 : 0.01891048\n"
     ]
    },
    {
     "name": "stdout",
     "output_type": "stream",
     "text": [
      "999 : 0.021428071\n1000 : 0.014277417\n\n"
     ]
    },
    {
     "name": "stdout",
     "output_type": "stream",
     "text": [
      "Saving weights\n\n\nWall time: 3min 9s\n"
     ]
    }
   ],
   "source": [
    "%%time\n",
    "input_dim = 2\n",
    "model = EagerJANETModel(input_dim, NUM_UNITS, num_outputs=1, num_timesteps=TIME_STEPS, output_activation='linear')\n",
    "\n",
    "optimizer = tf.train.AdamOptimizer(learning_rate=LEARNING_RATE)\n",
    "global_step = tf.train.get_or_create_global_step()\n",
    "\n",
    "# try using different optimizers and different optimizer configs\n",
    "model.compile(loss='mse', optimizer=optimizer)\n",
    "\n",
    "best_loss = 100.\n",
    "generator = batch_generator()\n",
    "\n",
    "loss_history = []\n",
    "update_counter = 1\n",
    "\n",
    "for epoch in range(NUM_EPOCHS):\n",
    "    print(\"Epoch # : \", epoch + 1)\n",
    "\n",
    "    for step in range(STEPS_PER_EPOCH):\n",
    "        # get batch dataset\n",
    "        inputs, targets = next(generator)\n",
    "\n",
    "        # get gradients and loss at this iteration (uses the new grad method)\n",
    "        gradients, loss_val = grad(model, inputs, targets)\n",
    "\n",
    "        # apply gradients\n",
    "        optimizer.apply_gradients(gradients, tf.train.get_or_create_global_step())\n",
    "\n",
    "        loss_history.append(loss_val.numpy())\n",
    "        print(update_counter, \":\", loss_history[-1])\n",
    "\n",
    "        update_counter += 1\n",
    "\n",
    "    print()\n",
    "\n",
    "    # remove old checkpoint that we no longer need\n",
    "    if os.path.exists(CHECKPOINTS_DIR):\n",
    "        shutil.rmtree(CHECKPOINTS_DIR)\n",
    "\n",
    "    # save the checkpoint weights\n",
    "    # Note how we add the model's additional weights as name-variable pairs\n",
    "    checkpoint = tfe.Checkpoint(model=model).save(CHECKPOINT_PATH)\n",
    "\n",
    "    # Optional : Save the weight matrices in Keras format as well\n",
    "    #model.save_weights('addition_model.h5', overwrite=True)\n",
    "\n",
    "    print(\"Saving weights\")\n",
    "    print()\n",
    "print()\n"
   ]
  },
  {
   "cell_type": "code",
   "execution_count": 19,
   "metadata": {},
   "outputs": [
    {
     "data": {
      "text/plain": [
       "[<matplotlib.lines.Line2D at 0x21694bb5240>]"
      ]
     },
     "execution_count": 19,
     "metadata": {},
     "output_type": "execute_result"
    },
    {
     "data": {
      "image/png": "[encoded data removed]",
      "text/plain": [
       "<matplotlib.figure.Figure at 0x216942644e0>"
      ]
     },
     "metadata": {},
     "output_type": "display_data"
    }
   ],
   "source": [
    "# remove noise from initial epochs\n",
    "loss_history_plot = list(filter(lambda x: x < 0.25, loss_history))\n",
    "\n",
    "plt.figure(figsize=(12, 5))\n",
    "plt.plot(loss_history_plot)"
   ]
  },
  {
   "cell_type": "markdown",
   "metadata": {},
   "source": [
    "# Restoring custom models\n",
    "\n",
    "Because of the added complexity of saving hybrid models, we need to have a slightly different method to load the weights of the custom model from the checkpoint."
   ]
  },
  {
   "cell_type": "code",
   "execution_count": 20,
   "metadata": {},
   "outputs": [
    {
     "name": "stdout",
     "output_type": "stream",
     "text": [
      "Checkpoint path :  checkpoints_addition/addition_janet.ckpt-1\n"
     ]
    },
    {
     "name": "stdout",
     "output_type": "stream",
     "text": [
      "Final average predicted error (should be less than 0.03) :  0.018639356\n"
     ]
    }
   ],
   "source": [
    "if os.path.exists(CHECKPOINTS_DIR):\n",
    "    ckpt_path = tf.train.latest_checkpoint(CHECKPOINTS_DIR)\n",
    "    print(\"Checkpoint path : \", ckpt_path)\n",
    "\n",
    "    model = EagerJANETModel(input_dim, NUM_UNITS, num_outputs=1, num_timesteps=TIME_STEPS, output_activation='linear')\n",
    "\n",
    "    model.compile(tf.train.AdamOptimizer(), loss='mse')\n",
    "    \n",
    "    # this is where you need to call the model at least once,\n",
    "    # so that all of its variables can be properly restored\n",
    "    zeros = tf.zeros((1, TIME_STEPS, 2))\n",
    "    model(zeros)\n",
    "    \n",
    "    # restore the weights\n",
    "    # see the difference as to how we pass the additional weight matrices to be loaded\n",
    "    tfe.Checkpoint(model=model).restore(ckpt_path)\n",
    "    \n",
    "    # predict one batch to ensure the weights are correctly loaded\n",
    "    generator = batch_generator()\n",
    "\n",
    "    losses = []\n",
    "    for i in range(20):\n",
    "        inputs, outputs = next(generator)\n",
    "\n",
    "        preds = model(inputs)\n",
    "        loss_val = loss(outputs, preds)\n",
    "\n",
    "        losses.append(loss_val.numpy())\n",
    "\n",
    "    print(\"Final average predicted error (should be less than 0.03) : \", np.mean(losses))"
   ]
  },
  {
   "cell_type": "code",
   "execution_count": null,
   "metadata": {},
   "outputs": [],
   "source": []
  }
 ],
 "metadata": {
  "anaconda-cloud": {},
  "kernelspec": {
   "display_name": "Python [conda env:Anaconda3]",
   "language": "python",
   "name": "conda-env-Anaconda3-py"
  },
  "language_info": {
   "codemirror_mode": {
    "name": "ipython",
    "version": 3
   },
   "file_extension": ".py",
   "mimetype": "text/x-python",
   "name": "python",
   "nbconvert_exporter": "python",
   "pygments_lexer": "ipython3",
   "version": "3.5.2"
  }
 },
 "nbformat": 4,
 "nbformat_minor": 1
}
