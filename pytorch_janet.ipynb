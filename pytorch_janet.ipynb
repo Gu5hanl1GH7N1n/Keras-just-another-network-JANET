{
 "cells": [
  {
   "cell_type": "code",
   "execution_count": 1,
   "metadata": {
    "collapsed": true
   },
   "outputs": [],
   "source": [
    "import numpy as np\n",
    "import torch\n",
    "import torch.nn as nn\n",
    "import torch.nn.functional as F\n",
    "import torch.optim as optim\n",
    "\n",
    "torch.manual_seed(0)\n",
    "torch.set_default_dtype(torch.float32)\n",
    "device = torch.device(\"cuda\" if torch.cuda.is_available() else \"cpu\")\n"
   ]
  },
  {
   "cell_type": "code",
   "execution_count": 3,
   "metadata": {},
   "outputs": [],
   "source": [
    "class JANet(nn.Module):\n",
    "    \n",
    "    def __init__(self, inputs, cells, num_outputs, num_timesteps, output_activation=None):\n",
    "        super(JANet, self).__init__()\n",
    "        \n",
    "        self.inputs = inputs\n",
    "        self.cells = cells\n",
    "        self.classes = num_outputs\n",
    "        self.num_timesteps = num_timesteps\n",
    "        self.output_activation = output_activation\n",
    "        \n",
    "        kernel_data = torch.zeros(inputs, 2 * cells, dtype=torch.get_default_dtype())\n",
    "        kernel_data = torch.nn.init.xavier_uniform_(kernel_data)\n",
    "        self.kernel = nn.Parameter(kernel_data)\n",
    "        \n",
    "        recurrent_kernel_data = torch.zeros(cells, 2 * cells, dtype=torch.get_default_dtype())\n",
    "        recurrent_kernel_data = torch.nn.init.xavier_uniform_(recurrent_kernel_data)\n",
    "        self.recurrent_kernel = nn.Parameter(recurrent_kernel_data)\n",
    "        \n",
    "        recurrent_bias = np.zeros(2 * cells)\n",
    "        # chrono initializer\n",
    "        recurrent_bias[:cells] = np.log(np.random.uniform(1., self.num_timesteps - 1, size=cells))\n",
    "        recurrent_bias = recurrent_bias.astype('float32')\n",
    "        self.recurrent_bias = nn.Parameter(torch.from_numpy(recurrent_bias))\n",
    "        \n",
    "        self.output_dense = nn.Linear(cells, num_outputs)\n",
    "        \n",
    "    def forward(self, inputs):\n",
    "        h_state = torch.zeros(inputs.size(0), self.cells, dtype=torch.get_default_dtype()).to(device)\n",
    "        c_state = torch.zeros(inputs.size(0), self.cells, dtype=torch.get_default_dtype()).to(device)\n",
    "        \n",
    "        num_timesteps = inputs.size(1)\n",
    "        \n",
    "        for t in range(num_timesteps):\n",
    "            ip = inputs[:, t, :]\n",
    "            \n",
    "            z = torch.mm(ip, self.kernel)\n",
    "            z += torch.mm(h_state, self.recurrent_kernel) + self.recurrent_bias\n",
    "            \n",
    "            z0 = z[:, :self.cells]\n",
    "            z1 = z[:, self.cells: self.cells * 2]\n",
    "            \n",
    "            f = F.sigmoid(z0)\n",
    "            c = f * c_state + (1. - f) * F.tanh(z1)\n",
    "            \n",
    "            h = c\n",
    "            \n",
    "            h_state = h\n",
    "            c_state = c\n",
    "        \n",
    "        preds = self.output_dense(h_state)\n",
    "        \n",
    "        if self.output_activation is not None:\n",
    "            preds = self.output_activation(preds)\n",
    "        \n",
    "        return preds\n"
   ]
  },
  {
   "cell_type": "code",
   "execution_count": 4,
   "metadata": {},
   "outputs": [],
   "source": [
    "# we define some constants \n",
    "import os\n",
    "import shutil\n",
    "if not os.path.exists('weights'):\n",
    "    os.makedirs('weights/')\n",
    "\n",
    "# Parameters taken from https://arxiv.org/abs/1804.04849\n",
    "TIME_STEPS = 100\n",
    "NUM_UNITS = 128\n",
    "LEARNING_RATE = 0.001\n",
    "STEPS_PER_EPOCH = 100\n",
    "NUM_EPOCHS = 10\n",
    "BATCH_SIZE = 50\n",
    "\n",
    "\n",
    "CHECKPOINTS_DIR = 'checkpoints_addition_pytorch/'\n",
    "CHECKPOINT_PATH = CHECKPOINTS_DIR + 'addition_janet.pkl'\n",
    "\n",
    "if not os.path.exists(CHECKPOINTS_DIR):\n",
    "    os.makedirs(CHECKPOINTS_DIR)"
   ]
  },
  {
   "cell_type": "code",
   "execution_count": 5,
   "metadata": {},
   "outputs": [],
   "source": [
    "# Code reused from https://github.com/batzner/indrnn/blob/master/examples/addition_rnn.py\n",
    "# with some modifications to run on Tensorflow Eager mode\n",
    "def batch_generator():\n",
    "    while True:\n",
    "        \"\"\"Generate the adding problem dataset\"\"\"\n",
    "        # Build the first sequence\n",
    "        add_values = np.random.rand(BATCH_SIZE, TIME_STEPS)\n",
    "\n",
    "        # Build the second sequence with one 1 in each half and 0s otherwise\n",
    "        add_indices = np.zeros_like(add_values, dtype='float32')\n",
    "        half = int(TIME_STEPS / 2)\n",
    "        for i in range(BATCH_SIZE):\n",
    "            first_half = np.random.randint(half)\n",
    "            second_half = np.random.randint(half, TIME_STEPS)\n",
    "            add_indices[i, [first_half, second_half]] = 1.\n",
    "\n",
    "        # Zip the values and indices in a third dimension:\n",
    "        # inputs has the shape (batch_size, time_steps, 2)\n",
    "        inputs = np.dstack((add_values, add_indices))\n",
    "        targets = np.sum(np.multiply(add_values, add_indices), axis=1)\n",
    "        targets = np.expand_dims(targets, -1)\n",
    "\n",
    "        # center at zero mean\n",
    "        inputs -= np.mean(inputs, axis=0, keepdims=True)\n",
    "        \n",
    "        inputs = inputs.astype('float32')\n",
    "        targets = targets.astype('float32')\n",
    "\n",
    "        yield inputs, targets"
   ]
  },
  {
   "cell_type": "code",
   "execution_count": 7,
   "metadata": {},
   "outputs": [],
   "source": [
    "model = JANet(inputs=2, cells=NUM_UNITS, num_outputs=1, num_timesteps=TIME_STEPS)"
   ]
  },
  {
   "cell_type": "code",
   "execution_count": 8,
   "metadata": {},
   "outputs": [],
   "source": [
    "loss_fn = nn.MSELoss().to(device)\n",
    "optimizer = optim.Adam(list(model.parameters()), lr=LEARNING_RATE)"
   ]
  },
  {
   "cell_type": "code",
   "execution_count": 10,
   "metadata": {},
   "outputs": [
    {
     "name": "stdout",
     "output_type": "stream",
     "text": [
      "Epoch # :  1\n"
     ]
    },
    {
     "name": "stdout",
     "output_type": "stream",
     "text": [
      "1 : 0.019191687926650047\n2"
     ]
    },
    {
     "name": "stdout",
     "output_type": "stream",
     "text": [
      " : 0.02419266290962696\n3"
     ]
    },
    {
     "name": "stdout",
     "output_type": "stream",
     "text": [
      " : 0.024823997169733047\n"
     ]
    },
    {
     "name": "stdout",
     "output_type": "stream",
     "text": [
      "4 : 0.027227595448493958\n"
     ]
    },
    {
     "name": "stdout",
     "output_type": "stream",
     "text": [
      "5 : 0.01880909688770771\n"
     ]
    },
    {
     "name": "stdout",
     "output_type": "stream",
     "text": [
      "6 : 0.03256635740399361\n"
     ]
    },
    {
     "name": "stdout",
     "output_type": "stream",
     "text": [
      "7 : 0.018012333661317825\n"
     ]
    },
    {
     "name": "stdout",
     "output_type": "stream",
     "text": [
      "8 : 0.018446099013090134\n"
     ]
    },
    {
     "name": "stdout",
     "output_type": "stream",
     "text": [
      "9 : 0.022068677470088005\n"
     ]
    },
    {
     "name": "stdout",
     "output_type": "stream",
     "text": [
      "10 : 0.01749875582754612\n"
     ]
    },
    {
     "name": "stdout",
     "output_type": "stream",
     "text": [
      "11 : 0.02407969906926155\n"
     ]
    },
    {
     "name": "stdout",
     "output_type": "stream",
     "text": [
      "12 : 0.016840912401676178\n"
     ]
    },
    {
     "name": "stdout",
     "output_type": "stream",
     "text": [
      "13 : 0.013609552755951881\n14"
     ]
    },
    {
     "name": "stdout",
     "output_type": "stream",
     "text": [
      " : 0.012828978709876537\n"
     ]
    },
    {
     "name": "stdout",
     "output_type": "stream",
     "text": [
      "15 : 0.01574644260108471\n"
     ]
    },
    {
     "name": "stdout",
     "output_type": "stream",
     "text": [
      "16 : 0.015334002673625946\n"
     ]
    },
    {
     "name": "stdout",
     "output_type": "stream",
     "text": [
      "17 : 0.012021566741168499\n"
     ]
    },
    {
     "name": "stdout",
     "output_type": "stream",
     "text": [
      "18 : 0.014940967783331871\n"
     ]
    },
    {
     "name": "stdout",
     "output_type": "stream",
     "text": [
      "19 : 0.025055602192878723\n"
     ]
    },
    {
     "name": "stdout",
     "output_type": "stream",
     "text": [
      "20 : 0.021877532824873924\n"
     ]
    },
    {
     "name": "stdout",
     "output_type": "stream",
     "text": [
      "21 : 0.01108273770660162\n"
     ]
    },
    {
     "name": "stdout",
     "output_type": "stream",
     "text": [
      "22 : 0.03450916334986687\n"
     ]
    },
    {
     "name": "stdout",
     "output_type": "stream",
     "text": [
      "23 : 0.023873796686530113\n"
     ]
    },
    {
     "name": "stdout",
     "output_type": "stream",
     "text": [
      "24 : 0.014475473202764988\n"
     ]
    },
    {
     "name": "stdout",
     "output_type": "stream",
     "text": [
      "25 : 0.018511902540922165\n"
     ]
    },
    {
     "name": "stdout",
     "output_type": "stream",
     "text": [
      "26 : 0.022667281329631805\n"
     ]
    },
    {
     "name": "stdout",
     "output_type": "stream",
     "text": [
      "27 : 0.016232840716838837\n"
     ]
    },
    {
     "name": "stdout",
     "output_type": "stream",
     "text": [
      "28 : 0.01860581524670124\n"
     ]
    },
    {
     "name": "stdout",
     "output_type": "stream",
     "text": [
      "29 : 0.021418239921331406\n"
     ]
    },
    {
     "name": "stdout",
     "output_type": "stream",
     "text": [
      "30 : 0.019469302147626877\n"
     ]
    },
    {
     "name": "stdout",
     "output_type": "stream",
     "text": [
      "31 : 0.02630763128399849\n"
     ]
    },
    {
     "name": "stdout",
     "output_type": "stream",
     "text": [
      "32 : 0.014088623225688934\n"
     ]
    },
    {
     "name": "stdout",
     "output_type": "stream",
     "text": [
      "33 : 0.021127691492438316\n"
     ]
    },
    {
     "name": "stdout",
     "output_type": "stream",
     "text": [
      "34 : 0.021526474505662918\n"
     ]
    },
    {
     "name": "stdout",
     "output_type": "stream",
     "text": [
      "35 : 0.016123156994581223\n"
     ]
    },
    {
     "name": "stdout",
     "output_type": "stream",
     "text": [
      "36 : 0.020724860951304436\n"
     ]
    },
    {
     "name": "stdout",
     "output_type": "stream",
     "text": [
      "37 : 0.017051363363862038\n"
     ]
    },
    {
     "name": "stdout",
     "output_type": "stream",
     "text": [
      "38 : 0.014385264366865158\n"
     ]
    },
    {
     "name": "stdout",
     "output_type": "stream",
     "text": [
      "39 : 0.008430357091128826\n"
     ]
    },
    {
     "name": "stdout",
     "output_type": "stream",
     "text": [
      "40 : 0.013941815122961998\n"
     ]
    },
    {
     "name": "stdout",
     "output_type": "stream",
     "text": [
      "41 : 0.021018818020820618\n"
     ]
    },
    {
     "name": "stdout",
     "output_type": "stream",
     "text": [
      "42 : 0.017221050336956978\n"
     ]
    },
    {
     "name": "stdout",
     "output_type": "stream",
     "text": [
      "43 : 0.019568556919693947\n"
     ]
    },
    {
     "name": "stdout",
     "output_type": "stream",
     "text": [
      "44 : 0.01488012820482254\n"
     ]
    },
    {
     "name": "stdout",
     "output_type": "stream",
     "text": [
      "45 : 0.01594565063714981\n"
     ]
    },
    {
     "ename": "KeyboardInterrupt",
     "evalue": "",
     "traceback": [
      "\u001b[1;31m---------------------------------------------------------------------------\u001b[0m",
      "\u001b[1;31mKeyboardInterrupt\u001b[0m                         Traceback (most recent call last)",
      "\u001b[1;32m<timed exec>\u001b[0m in \u001b[0;36m<module>\u001b[1;34m()\u001b[0m\n",
      "\u001b[1;32md:\\users\\yue\\anaconda3\\lib\\site-packages\\torch\\tensor.py\u001b[0m in \u001b[0;36mbackward\u001b[1;34m(self, gradient, retain_graph, create_graph)\u001b[0m\n\u001b[0;32m     91\u001b[0m                 \u001b[0mproducts\u001b[0m\u001b[1;33m.\u001b[0m \u001b[0mDefaults\u001b[0m \u001b[0mto\u001b[0m\u001b[0;31m \u001b[0m\u001b[0;31m`\u001b[0m\u001b[0;31m`\u001b[0m\u001b[1;32mFalse\u001b[0m\u001b[0;31m`\u001b[0m\u001b[0;31m`\u001b[0m\u001b[1;33m.\u001b[0m\u001b[1;33m\u001b[0m\u001b[0m\n\u001b[0;32m     92\u001b[0m         \"\"\"\n\u001b[1;32m---> 93\u001b[1;33m         \u001b[0mtorch\u001b[0m\u001b[1;33m.\u001b[0m\u001b[0mautograd\u001b[0m\u001b[1;33m.\u001b[0m\u001b[0mbackward\u001b[0m\u001b[1;33m(\u001b[0m\u001b[0mself\u001b[0m\u001b[1;33m,\u001b[0m \u001b[0mgradient\u001b[0m\u001b[1;33m,\u001b[0m \u001b[0mretain_graph\u001b[0m\u001b[1;33m,\u001b[0m \u001b[0mcreate_graph\u001b[0m\u001b[1;33m)\u001b[0m\u001b[1;33m\u001b[0m\u001b[0m\n\u001b[0m\u001b[0;32m     94\u001b[0m \u001b[1;33m\u001b[0m\u001b[0m\n\u001b[0;32m     95\u001b[0m     \u001b[1;32mdef\u001b[0m \u001b[0mregister_hook\u001b[0m\u001b[1;33m(\u001b[0m\u001b[0mself\u001b[0m\u001b[1;33m,\u001b[0m \u001b[0mhook\u001b[0m\u001b[1;33m)\u001b[0m\u001b[1;33m:\u001b[0m\u001b[1;33m\u001b[0m\u001b[0m\n",
      "\u001b[1;32md:\\users\\yue\\anaconda3\\lib\\site-packages\\torch\\autograd\\__init__.py\u001b[0m in \u001b[0;36mbackward\u001b[1;34m(tensors, grad_tensors, retain_graph, create_graph, grad_variables)\u001b[0m\n\u001b[0;32m     87\u001b[0m     Variable._execution_engine.run_backward(\n\u001b[0;32m     88\u001b[0m         \u001b[0mtensors\u001b[0m\u001b[1;33m,\u001b[0m \u001b[0mgrad_tensors\u001b[0m\u001b[1;33m,\u001b[0m \u001b[0mretain_graph\u001b[0m\u001b[1;33m,\u001b[0m \u001b[0mcreate_graph\u001b[0m\u001b[1;33m,\u001b[0m\u001b[1;33m\u001b[0m\u001b[0m\n\u001b[1;32m---> 89\u001b[1;33m         allow_unreachable=True)  # allow_unreachable flag\n\u001b[0m\u001b[0;32m     90\u001b[0m \u001b[1;33m\u001b[0m\u001b[0m\n\u001b[0;32m     91\u001b[0m \u001b[1;33m\u001b[0m\u001b[0m\n",
      "\u001b[1;31mKeyboardInterrupt\u001b[0m: "
     ],
     "output_type": "error"
    }
   ],
   "source": [
    "%%time\n",
    "model = model.to(device)\n",
    "\n",
    "best_loss = 100.\n",
    "generator = batch_generator()\n",
    "\n",
    "loss_history = []\n",
    "update_counter = 1\n",
    "\n",
    "for epoch in range(NUM_EPOCHS):\n",
    "    print(\"Epoch # : \", epoch + 1)\n",
    "\n",
    "    for step in range(STEPS_PER_EPOCH):\n",
    "        # get batch dataset\n",
    "        inputs, targets = next(generator)\n",
    "        \n",
    "        inputs = torch.from_numpy(inputs).to(device)\n",
    "        targets = torch.from_numpy(targets).to(device)\n",
    "        \n",
    "        # remove previous gradients\n",
    "        optimizer.zero_grad()\n",
    "\n",
    "        # get gradients and loss at this iteration\n",
    "        predictions = model(inputs)\n",
    "        loss = loss_fn(predictions, targets)\n",
    "        \n",
    "        # Compute the gradients in all the parameters\n",
    "        loss.backward()\n",
    "        \n",
    "        # update the weights\n",
    "        optimizer.step()\n",
    "\n",
    "        loss_history.append(loss.item())\n",
    "        print(update_counter, \":\", loss_history[-1])\n",
    "\n",
    "        update_counter += 1\n",
    "    print()\n",
    "\n",
    "    # save the weights\n",
    "    torch.save(model.state_dict(), CHECKPOINT_PATH)\n",
    "    \n",
    "    print(\"Saving weights\")\n",
    "    print()\n",
    "print()"
   ]
  },
  {
   "cell_type": "code",
   "execution_count": 100,
   "metadata": {},
   "outputs": [
    {
     "data": {
      "text/plain": [
       "[<matplotlib.lines.Line2D at 0x25d100cc048>]"
      ]
     },
     "execution_count": 100,
     "metadata": {},
     "output_type": "execute_result"
    },
    {
     "data": {
      "image/png": "[encoded data removed]",
      "text/plain": [
       "<matplotlib.figure.Figure at 0x25d102389b0>"
      ]
     },
     "metadata": {},
     "output_type": "display_data"
    }
   ],
   "source": [
    "import matplotlib.pyplot as plt\n",
    "\n",
    "# remove noise from initial epochs\n",
    "loss_history_plot = list(filter(lambda x: x < 0.25, loss_history))\n",
    "\n",
    "plt.figure(figsize=(12, 5))\n",
    "plt.plot(loss_history_plot)\n",
    "# plt.show()"
   ]
  },
  {
   "cell_type": "code",
   "execution_count": 104,
   "metadata": {},
   "outputs": [
    {
     "name": "stdout",
     "output_type": "stream",
     "text": [
      "Final average predicted error (should be less than 0.03) :  0.01556519940495491\n"
     ]
    }
   ],
   "source": [
    "if os.path.exists(CHECKPOINTS_DIR):\n",
    "    path = CHECKPOINT_PATH\n",
    "    \n",
    "    model = JANet(inputs=2, cells=NUM_UNITS, num_outputs=1, num_timesteps=TIME_STEPS)\n",
    "    \n",
    "    # load the weights\n",
    "    model.load_state_dict(torch.load(path))\n",
    "    \n",
    "    model = model.to(device)\n",
    "    \n",
    "    loss = nn.MSELoss()\n",
    "    \n",
    "    # predict one batch to ensure the weights are correctly loaded\n",
    "    generator = batch_generator()\n",
    "    \n",
    "    # dont compute gradients here\n",
    "    with torch.no_grad():\n",
    "        losses = []\n",
    "        for i in range(20):\n",
    "            inputs, outputs = next(generator)\n",
    "            \n",
    "            inputs = torch.from_numpy(inputs).to(device)\n",
    "            outputs = torch.from_numpy(outputs).to(device)\n",
    "    \n",
    "            preds = model(inputs)\n",
    "            loss_val = loss(outputs, preds)\n",
    "    \n",
    "            losses.append(loss_val.item())\n",
    "\n",
    "    print(\"Final average predicted error (should be less than 0.03) : \", np.mean(losses))"
   ]
  },
  {
   "cell_type": "code",
   "execution_count": null,
   "metadata": {},
   "outputs": [],
   "source": []
  }
 ],
 "metadata": {
  "kernelspec": {
   "display_name": "Python 2",
   "language": "python",
   "name": "python2"
  },
  "language_info": {
   "codemirror_mode": {
    "name": "ipython",
    "version": 2
   },
   "file_extension": ".py",
   "mimetype": "text/x-python",
   "name": "python",
   "nbconvert_exporter": "python",
   "pygments_lexer": "ipython2",
   "version": "2.7.6"
  }
 },
 "nbformat": 4,
 "nbformat_minor": 0
}
